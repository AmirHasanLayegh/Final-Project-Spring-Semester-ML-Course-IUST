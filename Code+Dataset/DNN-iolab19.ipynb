{
 "cells": [
  {
   "cell_type": "markdown",
   "id": "50d30f9a-8e08-492d-b503-77ff69b985b6",
   "metadata": {
    "jp-MarkdownHeadingCollapsed": true
   },
   "source": [
    "# Checking GPU Situation:"
   ]
  },
  {
   "cell_type": "code",
   "execution_count": 2,
   "id": "cff347ae-8565-41ac-ab7f-03b9b6f428d1",
   "metadata": {},
   "outputs": [
    {
     "name": "stdout",
     "output_type": "stream",
     "text": [
      "Sat Aug  9 10:59:56 2025       \n",
      "+-----------------------------------------------------------------------------------------+\n",
      "| NVIDIA-SMI 572.62                 Driver Version: 572.62         CUDA Version: 12.8     |\n",
      "|-----------------------------------------+------------------------+----------------------+\n",
      "| GPU  Name                  Driver-Model | Bus-Id          Disp.A | Volatile Uncorr. ECC |\n",
      "| Fan  Temp   Perf          Pwr:Usage/Cap |           Memory-Usage | GPU-Util  Compute M. |\n",
      "|                                         |                        |               MIG M. |\n",
      "|=========================================+========================+======================|\n",
      "|   0  NVIDIA GeForce RTX 3050 ...  WDDM  |   00000000:01:00.0 Off |                  N/A |\n",
      "| N/A   39C    P0             11W /   35W |       0MiB /   6144MiB |      0%      Default |\n",
      "|                                         |                        |                  N/A |\n",
      "+-----------------------------------------+------------------------+----------------------+\n",
      "                                                                                         \n",
      "+-----------------------------------------------------------------------------------------+\n",
      "| Processes:                                                                              |\n",
      "|  GPU   GI   CI              PID   Type   Process name                        GPU Memory |\n",
      "|        ID   ID                                                               Usage      |\n",
      "|=========================================================================================|\n",
      "|  No running processes found                                                             |\n",
      "+-----------------------------------------------------------------------------------------+\n"
     ]
    }
   ],
   "source": [
    "!nvidia-smi"
   ]
  },
  {
   "cell_type": "markdown",
   "id": "e1412656-6425-45de-bf35-f3c754cb9aa4",
   "metadata": {},
   "source": [
    "# Imports:"
   ]
  },
  {
   "cell_type": "code",
   "execution_count": 2,
   "id": "e3938a55-3c9d-48ae-9df5-6ade7b855d89",
   "metadata": {},
   "outputs": [],
   "source": [
    "import pandas as pd\n",
    "import numpy as np\n",
    "import torch\n",
    "import torch.nn as nn\n",
    "import torch.optim as optim\n",
    "from torch.optim.lr_scheduler import ReduceLROnPlateau\n",
    "from torch.utils.data import DataLoader,TensorDataset,random_split\n",
    "from torchmetrics import Accuracy\n",
    "from sklearn.model_selection import train_test_split\n",
    "import matplotlib.pyplot as plt\n",
    "from tqdm import tqdm\n",
    "import zipfile as zipfile\n",
    "from typing import Optional, Tuple\n",
    "import time as time"
   ]
  },
  {
   "cell_type": "markdown",
   "id": "66d89a7c-6f20-4265-8c8a-e12a219165f9",
   "metadata": {},
   "source": [
    "# Extract File:"
   ]
  },
  {
   "cell_type": "code",
   "execution_count": 3,
   "id": "45fcf4a1-bb38-4325-aa84-ae5d0890c211",
   "metadata": {},
   "outputs": [],
   "source": [
    "with zipfile.ZipFile('./CIRsV2.zip') as File:\n",
    "    File.extract(member='features_IIoT_19.csv',path='./features_IIoT_19')"
   ]
  },
  {
   "cell_type": "markdown",
   "id": "00521990-b97d-4d2f-8549-e6c7d14fd39f",
   "metadata": {},
   "source": [
    "# 📁Pre_processing:"
   ]
  },
  {
   "cell_type": "markdown",
   "id": "38bc3329-671c-43ce-bc66-aa1c76805efc",
   "metadata": {},
   "source": [
    "### Load Dataset:"
   ]
  },
  {
   "cell_type": "code",
   "execution_count": 4,
   "id": "deb62e0c-73e9-4d1b-bce7-f0417bb82aa0",
   "metadata": {},
   "outputs": [
    {
     "data": {
      "text/html": [
       "<div>\n",
       "<style scoped>\n",
       "    .dataframe tbody tr th:only-of-type {\n",
       "        vertical-align: middle;\n",
       "    }\n",
       "\n",
       "    .dataframe tbody tr th {\n",
       "        vertical-align: top;\n",
       "    }\n",
       "\n",
       "    .dataframe thead th {\n",
       "        text-align: right;\n",
       "    }\n",
       "</style>\n",
       "<table border=\"1\" class=\"dataframe\">\n",
       "  <thead>\n",
       "    <tr style=\"text-align: right;\">\n",
       "      <th></th>\n",
       "      <th>fp_ampl1</th>\n",
       "      <th>fp_ampl2</th>\n",
       "      <th>fp_ampl3</th>\n",
       "      <th>std_noise</th>\n",
       "      <th>CIRpower</th>\n",
       "      <th>RXPACC</th>\n",
       "      <th>fpindex</th>\n",
       "      <th>RX_power</th>\n",
       "      <th>FP_power</th>\n",
       "      <th>Pd</th>\n",
       "      <th>Pr</th>\n",
       "      <th>estimated_range</th>\n",
       "      <th>distance_GT</th>\n",
       "      <th>error</th>\n",
       "      <th>label</th>\n",
       "    </tr>\n",
       "  </thead>\n",
       "  <tbody>\n",
       "    <tr>\n",
       "      <th>0</th>\n",
       "      <td>1958</td>\n",
       "      <td>3287</td>\n",
       "      <td>3313</td>\n",
       "      <td>88</td>\n",
       "      <td>17640</td>\n",
       "      <td>1518</td>\n",
       "      <td>46350</td>\n",
       "      <td>-91.274</td>\n",
       "      <td>-111.719</td>\n",
       "      <td>20.445</td>\n",
       "      <td>1.223996</td>\n",
       "      <td>4485</td>\n",
       "      <td>4704.247761</td>\n",
       "      <td>219.247761</td>\n",
       "      <td>1</td>\n",
       "    </tr>\n",
       "    <tr>\n",
       "      <th>1</th>\n",
       "      <td>2098</td>\n",
       "      <td>3784</td>\n",
       "      <td>3740</td>\n",
       "      <td>96</td>\n",
       "      <td>20434</td>\n",
       "      <td>1517</td>\n",
       "      <td>47379</td>\n",
       "      <td>-91.918</td>\n",
       "      <td>-110.786</td>\n",
       "      <td>18.868</td>\n",
       "      <td>1.205270</td>\n",
       "      <td>4485</td>\n",
       "      <td>4704.247761</td>\n",
       "      <td>219.247761</td>\n",
       "      <td>1</td>\n",
       "    </tr>\n",
       "    <tr>\n",
       "      <th>2</th>\n",
       "      <td>1098</td>\n",
       "      <td>3806</td>\n",
       "      <td>2776</td>\n",
       "      <td>80</td>\n",
       "      <td>19063</td>\n",
       "      <td>1515</td>\n",
       "      <td>46442</td>\n",
       "      <td>-91.628</td>\n",
       "      <td>-111.343</td>\n",
       "      <td>19.715</td>\n",
       "      <td>1.215163</td>\n",
       "      <td>4490</td>\n",
       "      <td>4704.247761</td>\n",
       "      <td>214.247761</td>\n",
       "      <td>1</td>\n",
       "    </tr>\n",
       "    <tr>\n",
       "      <th>3</th>\n",
       "      <td>3404</td>\n",
       "      <td>2380</td>\n",
       "      <td>3918</td>\n",
       "      <td>84</td>\n",
       "      <td>18708</td>\n",
       "      <td>1518</td>\n",
       "      <td>46533</td>\n",
       "      <td>-91.529</td>\n",
       "      <td>-110.767</td>\n",
       "      <td>19.238</td>\n",
       "      <td>1.210185</td>\n",
       "      <td>4504</td>\n",
       "      <td>4704.247761</td>\n",
       "      <td>200.247761</td>\n",
       "      <td>1</td>\n",
       "    </tr>\n",
       "    <tr>\n",
       "      <th>4</th>\n",
       "      <td>1852</td>\n",
       "      <td>3659</td>\n",
       "      <td>2114</td>\n",
       "      <td>88</td>\n",
       "      <td>19107</td>\n",
       "      <td>1516</td>\n",
       "      <td>46779</td>\n",
       "      <td>-91.633</td>\n",
       "      <td>-112.927</td>\n",
       "      <td>21.294</td>\n",
       "      <td>1.232384</td>\n",
       "      <td>4527</td>\n",
       "      <td>4704.247761</td>\n",
       "      <td>177.247761</td>\n",
       "      <td>1</td>\n",
       "    </tr>\n",
       "  </tbody>\n",
       "</table>\n",
       "</div>"
      ],
      "text/plain": [
       "   fp_ampl1  fp_ampl2  fp_ampl3  std_noise  CIRpower  RXPACC  fpindex  \\\n",
       "0      1958      3287      3313         88     17640    1518    46350   \n",
       "1      2098      3784      3740         96     20434    1517    47379   \n",
       "2      1098      3806      2776         80     19063    1515    46442   \n",
       "3      3404      2380      3918         84     18708    1518    46533   \n",
       "4      1852      3659      2114         88     19107    1516    46779   \n",
       "\n",
       "   RX_power  FP_power      Pd        Pr  estimated_range  distance_GT  \\\n",
       "0   -91.274  -111.719  20.445  1.223996             4485  4704.247761   \n",
       "1   -91.918  -110.786  18.868  1.205270             4485  4704.247761   \n",
       "2   -91.628  -111.343  19.715  1.215163             4490  4704.247761   \n",
       "3   -91.529  -110.767  19.238  1.210185             4504  4704.247761   \n",
       "4   -91.633  -112.927  21.294  1.232384             4527  4704.247761   \n",
       "\n",
       "        error  label  \n",
       "0  219.247761      1  \n",
       "1  219.247761      1  \n",
       "2  214.247761      1  \n",
       "3  200.247761      1  \n",
       "4  177.247761      1  "
      ]
     },
     "execution_count": 4,
     "metadata": {},
     "output_type": "execute_result"
    }
   ],
   "source": [
    "df = pd.read_csv(r'.\\features_IIoT_19\\features_IIoT_19.csv')\n",
    "df.head()"
   ]
  },
  {
   "cell_type": "code",
   "execution_count": 5,
   "id": "57ebdd9a-e0fb-4412-8f19-33785a64d7b0",
   "metadata": {},
   "outputs": [
    {
     "data": {
      "text/plain": [
       "(17160, 12)"
      ]
     },
     "execution_count": 5,
     "metadata": {},
     "output_type": "execute_result"
    }
   ],
   "source": [
    "X = df.drop(columns=['distance_GT','error','label'])\n",
    "X.shape"
   ]
  },
  {
   "cell_type": "code",
   "execution_count": 6,
   "id": "f58900ad-48ee-4cbc-81fb-a438ba72d2a7",
   "metadata": {},
   "outputs": [
    {
     "data": {
      "text/plain": [
       "(17160,)"
      ]
     },
     "execution_count": 6,
     "metadata": {},
     "output_type": "execute_result"
    }
   ],
   "source": [
    "Y = df['label']\n",
    "Y.shape"
   ]
  },
  {
   "cell_type": "markdown",
   "id": "588b0a73-93a5-4992-b0c7-a3e564b47f54",
   "metadata": {},
   "source": [
    "### Seperate Training and Validation and Testing from Main dataset:"
   ]
  },
  {
   "cell_type": "code",
   "execution_count": 7,
   "id": "c64e20bd-fa7d-47ca-9f3b-2d5cce11bbf9",
   "metadata": {},
   "outputs": [
    {
     "name": "stdout",
     "output_type": "stream",
     "text": [
      "x and y train are equal to (12800, 12) and (12800,) \n",
      "x and y test are equal to (896, 12) and (896,) \n",
      "x and y validation are equal to (3464, 12) and (3464,)\n"
     ]
    }
   ],
   "source": [
    "x_train, x_rest, y_train, y_rest = train_test_split(X,Y,train_size=0.74592074592074592074592074592075,random_state=42,shuffle=True)\n",
    "x_valid, x_test, y_valid, y_test = train_test_split(x_rest,y_rest,test_size=0.205407925407925407925407925407925,shuffle=False)\n",
    "print(f'x and y train are equal to {x_train.shape} and {y_train.shape} \\nx and y test are equal to {x_test.shape} and {y_test.shape} \\nx and y validation are equal to {x_valid.shape} and {y_valid.shape}')"
   ]
  },
  {
   "cell_type": "markdown",
   "id": "9546230c-7382-42f3-b2ad-39bdef9155fe",
   "metadata": {},
   "source": [
    "### Change to Tensor:"
   ]
  },
  {
   "cell_type": "code",
   "execution_count": 8,
   "id": "4463be04-3698-48f9-855a-41883c8096a2",
   "metadata": {},
   "outputs": [],
   "source": [
    "x_t = torch.FloatTensor(x_train.values)\n",
    "y_t = torch.FloatTensor(y_train.values)\n",
    "x_v = torch.FloatTensor(x_valid.values)\n",
    "y_v = torch.FloatTensor(y_valid.values)\n",
    "x_te = torch.FloatTensor(x_test.values)\n",
    "y_te = torch.FloatTensor(y_test.values)\n",
    "\n",
    "mu = x_t.mean(dim=0)\n",
    "std = x_t.std(dim=0)\n",
    "\n",
    "x_t = (x_t - mu) / std\n",
    "x_v = (x_v - mu) / std\n",
    "x_te = (x_te - mu) / std"
   ]
  },
  {
   "cell_type": "markdown",
   "id": "d4ead30e-c589-4643-9ead-0b3e67b2c80d",
   "metadata": {},
   "source": [
    "### Data Loader:"
   ]
  },
  {
   "cell_type": "code",
   "execution_count": 9,
   "id": "353571e7-9a8c-4344-9ba7-7f1d18ba029d",
   "metadata": {},
   "outputs": [],
   "source": [
    "train_dataset = TensorDataset(x_t,y_t)\n",
    "valid_dataset = TensorDataset(x_v,y_v)\n",
    "test_dataset = TensorDataset(x_te,y_te)"
   ]
  },
  {
   "cell_type": "code",
   "execution_count": 10,
   "id": "92b55197-e231-4d0a-8907-0c03424bb336",
   "metadata": {},
   "outputs": [
    {
     "data": {
      "text/plain": [
       "(torch.Size([128, 12]), torch.Size([128]))"
      ]
     },
     "execution_count": 10,
     "metadata": {},
     "output_type": "execute_result"
    }
   ],
   "source": [
    "train_loader = DataLoader(train_dataset, batch_size = 128, shuffle=True)\n",
    "valid_loader = DataLoader(valid_dataset, batch_size = 8, shuffle=False)\n",
    "x_batch,y_batch = next(iter(train_loader))\n",
    "x_batch.shape,y_batch.shape"
   ]
  },
  {
   "cell_type": "markdown",
   "id": "98e8c503-dd5e-4b6d-aee9-5ee623a2a495",
   "metadata": {},
   "source": [
    "# 📁Model:"
   ]
  },
  {
   "cell_type": "markdown",
   "id": "27e339a6-864e-44e7-af37-9df3c332f904",
   "metadata": {},
   "source": [
    "### Model Structue:"
   ]
  },
  {
   "cell_type": "code",
   "execution_count": 11,
   "id": "f6aa0f24-edbd-4473-a1e2-8162a1db18df",
   "metadata": {},
   "outputs": [
    {
     "name": "stdout",
     "output_type": "stream",
     "text": [
      "[23701]\n"
     ]
    },
    {
     "data": {
      "text/plain": [
       "torch.Size([128, 1])"
      ]
     },
     "execution_count": 11,
     "metadata": {},
     "output_type": "execute_result"
    }
   ],
   "source": [
    "num_feats = 12\n",
    "mum_class = 1\n",
    "\n",
    "model = nn.Sequential(nn.Linear(num_feats,150),\n",
    "                      nn.ReLU(),\n",
    "                      nn.Dropout(0.25),\n",
    "                      nn.BatchNorm1d(150),\n",
    "                      nn.Linear(150, 100),\n",
    "                      nn.ReLU(),\n",
    "                      nn.Dropout(0.25),\n",
    "                      nn.Linear(100, 50),\n",
    "                      nn.ReLU(),\n",
    "                      nn.Dropout(0.1),\n",
    "                      nn.Linear(50, 25),\n",
    "                      nn.ReLU(),\n",
    "                      nn.Linear(25, 1))\n",
    "\n",
    "print([sum(p.numel() for p in model.parameters() if p.requires_grad)])\n",
    "model(x_batch).shape"
   ]
  },
  {
   "cell_type": "markdown",
   "id": "c74f4f35-a940-4e76-aa0b-13dc045f684a",
   "metadata": {},
   "source": [
    "### Loss and Optimizer:"
   ]
  },
  {
   "cell_type": "code",
   "execution_count": 12,
   "id": "61c607f1-4297-4c97-ad69-31c989a83bf5",
   "metadata": {},
   "outputs": [],
   "source": [
    "loss_fn = nn.BCEWithLogitsLoss()\n",
    "optimizer = optim.SGD(model.parameters(), lr=0.01, weight_decay=1e-4)\n",
    "scheduler = ReduceLROnPlateau(optimizer, 'min')"
   ]
  },
  {
   "cell_type": "markdown",
   "id": "1c155d15-8ece-47a3-b06d-1df8cdd04f8c",
   "metadata": {},
   "source": [
    "# Device:"
   ]
  },
  {
   "cell_type": "code",
   "execution_count": 13,
   "id": "548f16a6-ed41-449b-a368-d55047aee1ed",
   "metadata": {},
   "outputs": [],
   "source": [
    "device = 'cuda' if torch.cuda.is_available() else 'cpu'\n",
    "model = model.to(device)"
   ]
  },
  {
   "cell_type": "markdown",
   "id": "9d191d19-8459-43ef-80ad-80bfe180e205",
   "metadata": {},
   "source": [
    "# Utiles:"
   ]
  },
  {
   "cell_type": "code",
   "execution_count": 14,
   "id": "0f0ce669-b807-4515-930e-b2c277b31cb4",
   "metadata": {},
   "outputs": [],
   "source": [
    "class AverageMeter(object):\n",
    "    \"\"\"Computes and stores the average and current value\"\"\"\n",
    "    def __init__(self):\n",
    "        self.reset()\n",
    "\n",
    "    def reset(self):\n",
    "        self.val = 0\n",
    "        self.avg = 0\n",
    "        self.sum = 0\n",
    "        self.count = 0\n",
    "\n",
    "    def update(self, val, n=1):\n",
    "        self.val = val\n",
    "        self.sum += val * n\n",
    "        self.count += n\n",
    "        self.avg = self.sum / self.count"
   ]
  },
  {
   "cell_type": "markdown",
   "id": "83aece87-95cf-45b1-8623-1641b93c5c79",
   "metadata": {},
   "source": [
    "# 📁Functions:"
   ]
  },
  {
   "cell_type": "code",
   "execution_count": 15,
   "id": "5502d484-32c3-4918-b50d-e8d3bb9c288e",
   "metadata": {},
   "outputs": [],
   "source": [
    "def train_one_epoch(model: nn.Module,\n",
    "                    train_loader: DataLoader,\n",
    "                    loss_fn: nn.Module,\n",
    "                    optimizer: optim,\n",
    "                    device: str,\n",
    "                    epoch: Optional[int] = None):\n",
    "  \"\"\"\n",
    "  This function has been designed to train a Neural Network model for one epoch.\n",
    "\n",
    "    Input Args that you must give it:\n",
    "        model: PyTorch model to train.\n",
    "        train_loader: DataLoader providing training data.\n",
    "        loss_fn: Loss function to optimize.\n",
    "        optimizer: Optimizer for parameter updates.\n",
    "        device: Device to run training on ('cpu' or 'cuda').\n",
    "        epoch: Optional epoch index for progress display.\n",
    "\n",
    "    Returns:\n",
    "        model: The trained model after this epoch.\n",
    "        avg_loss: Average loss for the epoch.\n",
    "        avg_accuracy: Average accuracy for the epoch (0-1 scale).\n",
    "  \"\"\"\n",
    "  model.train()\n",
    "  loss_train = AverageMeter()\n",
    "  acc_train = Accuracy(task='binary').to(device)\n",
    "  with tqdm(train_loader, unit='batch') as tepoch:\n",
    "    for inputs, targets in tepoch:\n",
    "      if epoch is not None:\n",
    "        tepoch.set_description(f'Epoch {epoch}')\n",
    "      inputs = inputs.to(device)\n",
    "      targets = targets.to(device)\n",
    "      # Forward pass\n",
    "      outputs = model(inputs)\n",
    "      loss = loss_fn(outputs.squeeze() , targets)\n",
    "      # Backward pass\n",
    "      loss.backward()\n",
    "      optimizer.step()\n",
    "      optimizer.zero_grad()\n",
    "      # Metrics update\n",
    "      loss_train.update(loss.item())\n",
    "      acc_train(outputs.squeeze(), targets.int())\n",
    "      # Show progress\n",
    "      tepoch.set_postfix(loss=loss_train.avg,\n",
    "                         accuracy=100.*acc_train.compute().item())\n",
    "  return model, loss_train.avg, acc_train.compute().item()"
   ]
  },
  {
   "cell_type": "code",
   "execution_count": 16,
   "id": "7803ccd7-eb69-4ae0-805f-3baeceeac0a0",
   "metadata": {},
   "outputs": [],
   "source": [
    "def evaluate(model: nn.Module, valid_loader: DataLoader, loss_fn: nn.Module):\n",
    "  \"\"\"\n",
    "    Evaluates your PyTorch model on a validation dataset.\n",
    "\n",
    "    Input Args that you must give it:\n",
    "        model (nn.Module): The trained PyTorch model to evaluate.\n",
    "        valid_loader (DataLoader): DataLoader providing validation data batches.\n",
    "        loss_fn (nn.Module): Loss function used to compute validation loss.\n",
    "\n",
    "    Returns Back:\n",
    "        Tuple[float, float]: A tuple containing:\n",
    "            - Average validation loss (float)\n",
    "            - Validation accuracy (float), computed for a multiclass classification task with 10 classes.\n",
    "  \"\"\"\n",
    "  model.eval()\n",
    "  loss_valid = AverageMeter()\n",
    "  acc_valid = Accuracy(task='binary').to(device)\n",
    "  with torch.no_grad():\n",
    "      for inputs, targets in valid_loader:\n",
    "          inputs, targets = inputs.to(device), targets.to(device)\n",
    "          outputs = model(inputs)\n",
    "          loss_valid.update(loss_fn(outputs.squeeze(), targets).item())\n",
    "          acc_valid(outputs.squeeze(), targets.int())\n",
    "  return loss_valid.avg, acc_valid.compute().item()"
   ]
  },
  {
   "cell_type": "markdown",
   "id": "5db66eca-e711-4021-bdff-63e270b76dcb",
   "metadata": {},
   "source": [
    "# Train Loop:"
   ]
  },
  {
   "cell_type": "code",
   "execution_count": 17,
   "id": "4e501c34-4821-4b8e-b5d7-da7b58e35c8d",
   "metadata": {},
   "outputs": [],
   "source": [
    "num_epochs = 500\n",
    "loss_train_hist = []\n",
    "loss_valid_hist = []\n",
    "acc_train_hist = []\n",
    "acc_valid_hist = []\n",
    "lr_hist = []\n",
    "best_loss_valid = torch.inf"
   ]
  },
  {
   "cell_type": "code",
   "execution_count": 18,
   "id": "2b6ef324-ded0-4f6a-bd2d-adeb24ea7865",
   "metadata": {
    "scrolled": true
   },
   "outputs": [
    {
     "name": "stderr",
     "output_type": "stream",
     "text": [
      "Epoch 0: 100%|█████████████████████████████████████████| 100/100 [00:03<00:00, 28.40batch/s, accuracy=43.1, loss=0.664]\n"
     ]
    },
    {
     "name": "stdout",
     "output_type": "stream",
     "text": [
      "Valid: Loss=0.6387, Accuracy=0.2904\n",
      "\n"
     ]
    },
    {
     "name": "stderr",
     "output_type": "stream",
     "text": [
      "Epoch 1: 100%|█████████████████████████████████████████| 100/100 [00:02<00:00, 33.60batch/s, accuracy=36.7, loss=0.621]\n"
     ]
    },
    {
     "name": "stdout",
     "output_type": "stream",
     "text": [
      "Valid: Loss=0.601, Accuracy=0.5788\n",
      "\n"
     ]
    },
    {
     "name": "stderr",
     "output_type": "stream",
     "text": [
      "Epoch 2: 100%|█████████████████████████████████████████| 100/100 [00:02<00:00, 43.87batch/s, accuracy=71.1, loss=0.582]\n"
     ]
    },
    {
     "name": "stdout",
     "output_type": "stream",
     "text": [
      "Valid: Loss=0.5565, Accuracy=0.8274\n",
      "\n"
     ]
    },
    {
     "name": "stderr",
     "output_type": "stream",
     "text": [
      "Epoch 3: 100%|█████████████████████████████████████████| 100/100 [00:02<00:00, 33.53batch/s, accuracy=70.7, loss=0.528]\n"
     ]
    },
    {
     "name": "stdout",
     "output_type": "stream",
     "text": [
      "Valid: Loss=0.4888, Accuracy=0.718\n",
      "\n"
     ]
    },
    {
     "name": "stderr",
     "output_type": "stream",
     "text": [
      "Epoch 4: 100%|█████████████████████████████████████████| 100/100 [00:03<00:00, 30.84batch/s, accuracy=75.4, loss=0.451]\n"
     ]
    },
    {
     "name": "stdout",
     "output_type": "stream",
     "text": [
      "Valid: Loss=0.4047, Accuracy=0.8513\n",
      "\n"
     ]
    },
    {
     "name": "stderr",
     "output_type": "stream",
     "text": [
      "Epoch 5: 100%|█████████████████████████████████████████| 100/100 [00:03<00:00, 29.08batch/s, accuracy=85.4, loss=0.369]\n"
     ]
    },
    {
     "name": "stdout",
     "output_type": "stream",
     "text": [
      "Valid: Loss=0.3357, Accuracy=0.873\n",
      "\n"
     ]
    },
    {
     "name": "stderr",
     "output_type": "stream",
     "text": [
      "Epoch 6: 100%|███████████████████████████████████████████| 100/100 [00:03<00:00, 30.45batch/s, accuracy=88, loss=0.315]\n"
     ]
    },
    {
     "name": "stdout",
     "output_type": "stream",
     "text": [
      "Valid: Loss=0.3012, Accuracy=0.8736\n",
      "\n"
     ]
    },
    {
     "name": "stderr",
     "output_type": "stream",
     "text": [
      "Epoch 7: 100%|█████████████████████████████████████████| 100/100 [00:03<00:00, 30.15batch/s, accuracy=87.9, loss=0.293]\n"
     ]
    },
    {
     "name": "stdout",
     "output_type": "stream",
     "text": [
      "Valid: Loss=0.2857, Accuracy=0.8773\n",
      "\n"
     ]
    },
    {
     "name": "stderr",
     "output_type": "stream",
     "text": [
      "Epoch 8: 100%|█████████████████████████████████████████| 100/100 [00:03<00:00, 31.63batch/s, accuracy=88.9, loss=0.277]\n"
     ]
    },
    {
     "name": "stdout",
     "output_type": "stream",
     "text": [
      "Valid: Loss=0.2748, Accuracy=0.8822\n",
      "\n"
     ]
    },
    {
     "name": "stderr",
     "output_type": "stream",
     "text": [
      "Epoch 9: 100%|█████████████████████████████████████████| 100/100 [00:03<00:00, 28.25batch/s, accuracy=88.9, loss=0.271]\n"
     ]
    },
    {
     "name": "stdout",
     "output_type": "stream",
     "text": [
      "Valid: Loss=0.2654, Accuracy=0.8868\n",
      "\n"
     ]
    },
    {
     "name": "stderr",
     "output_type": "stream",
     "text": [
      "Epoch 10: 100%|████████████████████████████████████████| 100/100 [00:03<00:00, 29.51batch/s, accuracy=89.6, loss=0.262]\n"
     ]
    },
    {
     "name": "stdout",
     "output_type": "stream",
     "text": [
      "Valid: Loss=0.2582, Accuracy=0.8926\n",
      "\n"
     ]
    },
    {
     "name": "stderr",
     "output_type": "stream",
     "text": [
      "Epoch 11: 100%|████████████████████████████████████████| 100/100 [00:03<00:00, 30.55batch/s, accuracy=90.1, loss=0.253]\n"
     ]
    },
    {
     "name": "stdout",
     "output_type": "stream",
     "text": [
      "Valid: Loss=0.2494, Accuracy=0.8978\n",
      "\n"
     ]
    },
    {
     "name": "stderr",
     "output_type": "stream",
     "text": [
      "Epoch 12: 100%|████████████████████████████████████████| 100/100 [00:03<00:00, 28.88batch/s, accuracy=90.3, loss=0.248]\n"
     ]
    },
    {
     "name": "stdout",
     "output_type": "stream",
     "text": [
      "Valid: Loss=0.2419, Accuracy=0.9024\n",
      "\n"
     ]
    },
    {
     "name": "stderr",
     "output_type": "stream",
     "text": [
      "Epoch 13: 100%|████████████████████████████████████████| 100/100 [00:03<00:00, 30.74batch/s, accuracy=90.5, loss=0.242]\n"
     ]
    },
    {
     "name": "stdout",
     "output_type": "stream",
     "text": [
      "Valid: Loss=0.2357, Accuracy=0.9065\n",
      "\n"
     ]
    },
    {
     "name": "stderr",
     "output_type": "stream",
     "text": [
      "Epoch 14: 100%|████████████████████████████████████████| 100/100 [00:03<00:00, 32.54batch/s, accuracy=90.9, loss=0.237]\n"
     ]
    },
    {
     "name": "stdout",
     "output_type": "stream",
     "text": [
      "Valid: Loss=0.2281, Accuracy=0.9114\n",
      "\n"
     ]
    },
    {
     "name": "stderr",
     "output_type": "stream",
     "text": [
      "Epoch 15: 100%|██████████████████████████████████████████| 100/100 [00:02<00:00, 33.91batch/s, accuracy=91, loss=0.231]\n"
     ]
    },
    {
     "name": "stdout",
     "output_type": "stream",
     "text": [
      "Valid: Loss=0.2229, Accuracy=0.914\n",
      "\n"
     ]
    },
    {
     "name": "stderr",
     "output_type": "stream",
     "text": [
      "Epoch 16: 100%|████████████████████████████████████████| 100/100 [00:03<00:00, 33.03batch/s, accuracy=91.4, loss=0.228]\n"
     ]
    },
    {
     "name": "stdout",
     "output_type": "stream",
     "text": [
      "Valid: Loss=0.2164, Accuracy=0.9169\n",
      "\n"
     ]
    },
    {
     "name": "stderr",
     "output_type": "stream",
     "text": [
      "Epoch 17: 100%|████████████████████████████████████████| 100/100 [00:03<00:00, 25.82batch/s, accuracy=91.6, loss=0.224]\n"
     ]
    },
    {
     "name": "stdout",
     "output_type": "stream",
     "text": [
      "Valid: Loss=0.212, Accuracy=0.9195\n",
      "\n"
     ]
    },
    {
     "name": "stderr",
     "output_type": "stream",
     "text": [
      "Epoch 18: 100%|████████████████████████████████████████| 100/100 [00:03<00:00, 28.36batch/s, accuracy=91.8, loss=0.219]\n"
     ]
    },
    {
     "name": "stdout",
     "output_type": "stream",
     "text": [
      "Valid: Loss=0.2085, Accuracy=0.9212\n",
      "\n"
     ]
    },
    {
     "name": "stderr",
     "output_type": "stream",
     "text": [
      "Epoch 19: 100%|████████████████████████████████████████| 100/100 [00:03<00:00, 27.34batch/s, accuracy=91.7, loss=0.218]\n"
     ]
    },
    {
     "name": "stdout",
     "output_type": "stream",
     "text": [
      "Valid: Loss=0.2029, Accuracy=0.9238\n",
      "\n"
     ]
    },
    {
     "name": "stderr",
     "output_type": "stream",
     "text": [
      "Epoch 20: 100%|█████████████████████████████████████████| 100/100 [00:03<00:00, 26.88batch/s, accuracy=92.2, loss=0.21]\n"
     ]
    },
    {
     "name": "stdout",
     "output_type": "stream",
     "text": [
      "Valid: Loss=0.2017, Accuracy=0.9235\n",
      "\n"
     ]
    },
    {
     "name": "stderr",
     "output_type": "stream",
     "text": [
      "Epoch 21: 100%|████████████████████████████████████████| 100/100 [00:03<00:00, 29.56batch/s, accuracy=92.2, loss=0.208]\n"
     ]
    },
    {
     "name": "stdout",
     "output_type": "stream",
     "text": [
      "Valid: Loss=0.1974, Accuracy=0.9261\n",
      "\n"
     ]
    },
    {
     "name": "stderr",
     "output_type": "stream",
     "text": [
      "Epoch 22: 100%|████████████████████████████████████████| 100/100 [00:03<00:00, 31.34batch/s, accuracy=92.4, loss=0.205]\n"
     ]
    },
    {
     "name": "stdout",
     "output_type": "stream",
     "text": [
      "Valid: Loss=0.1947, Accuracy=0.9264\n",
      "\n"
     ]
    },
    {
     "name": "stderr",
     "output_type": "stream",
     "text": [
      "Epoch 23: 100%|████████████████████████████████████████| 100/100 [00:03<00:00, 31.62batch/s, accuracy=92.2, loss=0.205]\n"
     ]
    },
    {
     "name": "stdout",
     "output_type": "stream",
     "text": [
      "Valid: Loss=0.1904, Accuracy=0.929\n",
      "\n"
     ]
    },
    {
     "name": "stderr",
     "output_type": "stream",
     "text": [
      "Epoch 24: 100%|████████████████████████████████████████| 100/100 [00:03<00:00, 30.29batch/s, accuracy=92.5, loss=0.199]\n"
     ]
    },
    {
     "name": "stdout",
     "output_type": "stream",
     "text": [
      "Valid: Loss=0.1885, Accuracy=0.9278\n",
      "\n"
     ]
    },
    {
     "name": "stderr",
     "output_type": "stream",
     "text": [
      "Epoch 25: 100%|████████████████████████████████████████| 100/100 [00:03<00:00, 29.58batch/s, accuracy=92.4, loss=0.199]\n"
     ]
    },
    {
     "name": "stdout",
     "output_type": "stream",
     "text": [
      "Valid: Loss=0.1853, Accuracy=0.9324\n",
      "\n"
     ]
    },
    {
     "name": "stderr",
     "output_type": "stream",
     "text": [
      "Epoch 26: 100%|████████████████████████████████████████| 100/100 [00:03<00:00, 29.61batch/s, accuracy=92.7, loss=0.198]\n"
     ]
    },
    {
     "name": "stdout",
     "output_type": "stream",
     "text": [
      "Valid: Loss=0.1846, Accuracy=0.9284\n",
      "\n"
     ]
    },
    {
     "name": "stderr",
     "output_type": "stream",
     "text": [
      "Epoch 27: 100%|████████████████████████████████████████| 100/100 [00:03<00:00, 29.59batch/s, accuracy=92.8, loss=0.198]\n"
     ]
    },
    {
     "name": "stdout",
     "output_type": "stream",
     "text": [
      "Valid: Loss=0.1838, Accuracy=0.9278\n",
      "\n"
     ]
    },
    {
     "name": "stderr",
     "output_type": "stream",
     "text": [
      "Epoch 28: 100%|████████████████████████████████████████| 100/100 [00:03<00:00, 30.00batch/s, accuracy=92.8, loss=0.192]\n"
     ]
    },
    {
     "name": "stdout",
     "output_type": "stream",
     "text": [
      "Valid: Loss=0.1811, Accuracy=0.9293\n",
      "\n"
     ]
    },
    {
     "name": "stderr",
     "output_type": "stream",
     "text": [
      "Epoch 29: 100%|████████████████████████████████████████| 100/100 [00:03<00:00, 30.35batch/s, accuracy=92.7, loss=0.191]\n"
     ]
    },
    {
     "name": "stdout",
     "output_type": "stream",
     "text": [
      "Valid: Loss=0.1782, Accuracy=0.9333\n",
      "\n"
     ]
    },
    {
     "name": "stderr",
     "output_type": "stream",
     "text": [
      "Epoch 30: 100%|██████████████████████████████████████████| 100/100 [00:03<00:00, 29.04batch/s, accuracy=93, loss=0.188]\n"
     ]
    },
    {
     "name": "stdout",
     "output_type": "stream",
     "text": [
      "Valid: Loss=0.1768, Accuracy=0.9353\n",
      "\n"
     ]
    },
    {
     "name": "stderr",
     "output_type": "stream",
     "text": [
      "Epoch 31: 100%|██████████████████████████████████████████| 100/100 [00:03<00:00, 29.29batch/s, accuracy=93, loss=0.187]\n"
     ]
    },
    {
     "name": "stdout",
     "output_type": "stream",
     "text": [
      "Valid: Loss=0.176, Accuracy=0.9336\n",
      "\n"
     ]
    },
    {
     "name": "stderr",
     "output_type": "stream",
     "text": [
      "Epoch 32: 100%|██████████████████████████████████████████| 100/100 [00:03<00:00, 29.74batch/s, accuracy=93, loss=0.183]\n"
     ]
    },
    {
     "name": "stdout",
     "output_type": "stream",
     "text": [
      "Valid: Loss=0.1742, Accuracy=0.9356\n",
      "\n"
     ]
    },
    {
     "name": "stderr",
     "output_type": "stream",
     "text": [
      "Epoch 33: 100%|████████████████████████████████████████| 100/100 [00:03<00:00, 29.63batch/s, accuracy=93.2, loss=0.185]\n"
     ]
    },
    {
     "name": "stdout",
     "output_type": "stream",
     "text": [
      "Valid: Loss=0.1734, Accuracy=0.9342\n",
      "\n"
     ]
    },
    {
     "name": "stderr",
     "output_type": "stream",
     "text": [
      "Epoch 34: 100%|████████████████████████████████████████| 100/100 [00:03<00:00, 31.99batch/s, accuracy=93.2, loss=0.181]\n"
     ]
    },
    {
     "name": "stdout",
     "output_type": "stream",
     "text": [
      "Valid: Loss=0.1708, Accuracy=0.9368\n",
      "\n"
     ]
    },
    {
     "name": "stderr",
     "output_type": "stream",
     "text": [
      "Epoch 35: 100%|████████████████████████████████████████| 100/100 [00:03<00:00, 28.48batch/s, accuracy=93.2, loss=0.178]\n"
     ]
    },
    {
     "name": "stdout",
     "output_type": "stream",
     "text": [
      "Valid: Loss=0.1703, Accuracy=0.9365\n",
      "\n"
     ]
    },
    {
     "name": "stderr",
     "output_type": "stream",
     "text": [
      "Epoch 36: 100%|████████████████████████████████████████| 100/100 [00:02<00:00, 33.47batch/s, accuracy=93.6, loss=0.176]\n"
     ]
    },
    {
     "name": "stdout",
     "output_type": "stream",
     "text": [
      "Valid: Loss=0.1689, Accuracy=0.9382\n",
      "\n"
     ]
    },
    {
     "name": "stderr",
     "output_type": "stream",
     "text": [
      "Epoch 37: 100%|████████████████████████████████████████| 100/100 [00:03<00:00, 30.53batch/s, accuracy=93.4, loss=0.179]\n"
     ]
    },
    {
     "name": "stdout",
     "output_type": "stream",
     "text": [
      "Valid: Loss=0.1677, Accuracy=0.9374\n",
      "\n"
     ]
    },
    {
     "name": "stderr",
     "output_type": "stream",
     "text": [
      "Epoch 38: 100%|████████████████████████████████████████| 100/100 [00:03<00:00, 32.58batch/s, accuracy=93.5, loss=0.175]\n"
     ]
    },
    {
     "name": "stdout",
     "output_type": "stream",
     "text": [
      "Valid: Loss=0.167, Accuracy=0.9374\n",
      "\n"
     ]
    },
    {
     "name": "stderr",
     "output_type": "stream",
     "text": [
      "Epoch 39: 100%|████████████████████████████████████████| 100/100 [00:03<00:00, 29.55batch/s, accuracy=93.6, loss=0.173]\n"
     ]
    },
    {
     "name": "stdout",
     "output_type": "stream",
     "text": [
      "Valid: Loss=0.1655, Accuracy=0.9397\n",
      "\n"
     ]
    },
    {
     "name": "stderr",
     "output_type": "stream",
     "text": [
      "Epoch 40: 100%|████████████████████████████████████████| 100/100 [00:03<00:00, 29.98batch/s, accuracy=93.5, loss=0.176]\n"
     ]
    },
    {
     "name": "stdout",
     "output_type": "stream",
     "text": [
      "Valid: Loss=0.1654, Accuracy=0.9382\n",
      "\n"
     ]
    },
    {
     "name": "stderr",
     "output_type": "stream",
     "text": [
      "Epoch 41: 100%|████████████████████████████████████████| 100/100 [00:03<00:00, 30.30batch/s, accuracy=93.6, loss=0.174]\n"
     ]
    },
    {
     "name": "stdout",
     "output_type": "stream",
     "text": [
      "Valid: Loss=0.1641, Accuracy=0.9402\n",
      "\n"
     ]
    },
    {
     "name": "stderr",
     "output_type": "stream",
     "text": [
      "Epoch 42: 100%|████████████████████████████████████████| 100/100 [00:03<00:00, 30.17batch/s, accuracy=93.6, loss=0.172]\n"
     ]
    },
    {
     "name": "stdout",
     "output_type": "stream",
     "text": [
      "Valid: Loss=0.1624, Accuracy=0.9417\n",
      "\n"
     ]
    },
    {
     "name": "stderr",
     "output_type": "stream",
     "text": [
      "Epoch 43: 100%|████████████████████████████████████████| 100/100 [00:03<00:00, 31.70batch/s, accuracy=93.5, loss=0.171]\n"
     ]
    },
    {
     "name": "stdout",
     "output_type": "stream",
     "text": [
      "Valid: Loss=0.1615, Accuracy=0.9411\n",
      "\n"
     ]
    },
    {
     "name": "stderr",
     "output_type": "stream",
     "text": [
      "Epoch 44: 100%|████████████████████████████████████████| 100/100 [00:03<00:00, 30.87batch/s, accuracy=93.8, loss=0.169]\n"
     ]
    },
    {
     "name": "stdout",
     "output_type": "stream",
     "text": [
      "Valid: Loss=0.162, Accuracy=0.9408\n",
      "\n"
     ]
    },
    {
     "name": "stderr",
     "output_type": "stream",
     "text": [
      "Epoch 45: 100%|█████████████████████████████████████████| 100/100 [00:03<00:00, 30.65batch/s, accuracy=93.8, loss=0.17]\n"
     ]
    },
    {
     "name": "stdout",
     "output_type": "stream",
     "text": [
      "Valid: Loss=0.1592, Accuracy=0.9434\n",
      "\n"
     ]
    },
    {
     "name": "stderr",
     "output_type": "stream",
     "text": [
      "Epoch 46: 100%|█████████████████████████████████████████| 100/100 [00:03<00:00, 30.91batch/s, accuracy=93.8, loss=0.17]\n"
     ]
    },
    {
     "name": "stdout",
     "output_type": "stream",
     "text": [
      "Valid: Loss=0.1588, Accuracy=0.9428\n",
      "\n"
     ]
    },
    {
     "name": "stderr",
     "output_type": "stream",
     "text": [
      "Epoch 47: 100%|██████████████████████████████████████████| 100/100 [00:03<00:00, 31.12batch/s, accuracy=94, loss=0.167]\n"
     ]
    },
    {
     "name": "stdout",
     "output_type": "stream",
     "text": [
      "Valid: Loss=0.1577, Accuracy=0.944\n",
      "\n"
     ]
    },
    {
     "name": "stderr",
     "output_type": "stream",
     "text": [
      "Epoch 48: 100%|████████████████████████████████████████| 100/100 [00:03<00:00, 31.50batch/s, accuracy=93.9, loss=0.165]\n"
     ]
    },
    {
     "name": "stdout",
     "output_type": "stream",
     "text": [
      "Valid: Loss=0.1571, Accuracy=0.9449\n",
      "\n"
     ]
    },
    {
     "name": "stderr",
     "output_type": "stream",
     "text": [
      "Epoch 49: 100%|████████████████████████████████████████| 100/100 [00:03<00:00, 31.43batch/s, accuracy=93.8, loss=0.166]\n"
     ]
    },
    {
     "name": "stdout",
     "output_type": "stream",
     "text": [
      "Valid: Loss=0.1562, Accuracy=0.9443\n",
      "\n"
     ]
    },
    {
     "name": "stderr",
     "output_type": "stream",
     "text": [
      "Epoch 50: 100%|████████████████████████████████████████| 100/100 [00:03<00:00, 31.94batch/s, accuracy=93.8, loss=0.168]\n"
     ]
    },
    {
     "name": "stdout",
     "output_type": "stream",
     "text": [
      "Valid: Loss=0.1561, Accuracy=0.9434\n",
      "\n"
     ]
    },
    {
     "name": "stderr",
     "output_type": "stream",
     "text": [
      "Epoch 51: 100%|████████████████████████████████████████| 100/100 [00:03<00:00, 33.03batch/s, accuracy=93.9, loss=0.164]\n"
     ]
    },
    {
     "name": "stdout",
     "output_type": "stream",
     "text": [
      "Valid: Loss=0.1564, Accuracy=0.9431\n",
      "\n"
     ]
    },
    {
     "name": "stderr",
     "output_type": "stream",
     "text": [
      "Epoch 52: 100%|█████████████████████████████████████████| 100/100 [00:03<00:00, 30.47batch/s, accuracy=94.1, loss=0.16]\n"
     ]
    },
    {
     "name": "stdout",
     "output_type": "stream",
     "text": [
      "Valid: Loss=0.1539, Accuracy=0.9443\n",
      "\n"
     ]
    },
    {
     "name": "stderr",
     "output_type": "stream",
     "text": [
      "Epoch 53: 100%|████████████████████████████████████████| 100/100 [00:03<00:00, 30.36batch/s, accuracy=94.1, loss=0.159]\n"
     ]
    },
    {
     "name": "stdout",
     "output_type": "stream",
     "text": [
      "Valid: Loss=0.1535, Accuracy=0.9454\n",
      "\n"
     ]
    },
    {
     "name": "stderr",
     "output_type": "stream",
     "text": [
      "Epoch 54: 100%|██████████████████████████████████████████| 100/100 [00:03<00:00, 29.57batch/s, accuracy=94, loss=0.162]\n"
     ]
    },
    {
     "name": "stdout",
     "output_type": "stream",
     "text": [
      "Valid: Loss=0.1521, Accuracy=0.946\n",
      "\n"
     ]
    },
    {
     "name": "stderr",
     "output_type": "stream",
     "text": [
      "Epoch 55: 100%|█████████████████████████████████████████| 100/100 [00:03<00:00, 29.67batch/s, accuracy=94.1, loss=0.16]\n"
     ]
    },
    {
     "name": "stdout",
     "output_type": "stream",
     "text": [
      "Valid: Loss=0.1518, Accuracy=0.9446\n",
      "\n"
     ]
    },
    {
     "name": "stderr",
     "output_type": "stream",
     "text": [
      "Epoch 56: 100%|█████████████████████████████████████████| 100/100 [00:03<00:00, 30.65batch/s, accuracy=94.3, loss=0.16]\n"
     ]
    },
    {
     "name": "stdout",
     "output_type": "stream",
     "text": [
      "Valid: Loss=0.1517, Accuracy=0.944\n",
      "\n"
     ]
    },
    {
     "name": "stderr",
     "output_type": "stream",
     "text": [
      "Epoch 57: 100%|████████████████████████████████████████| 100/100 [00:03<00:00, 31.63batch/s, accuracy=94.2, loss=0.157]\n"
     ]
    },
    {
     "name": "stdout",
     "output_type": "stream",
     "text": [
      "Valid: Loss=0.1507, Accuracy=0.9457\n",
      "\n"
     ]
    },
    {
     "name": "stderr",
     "output_type": "stream",
     "text": [
      "Epoch 58: 100%|████████████████████████████████████████| 100/100 [00:03<00:00, 30.92batch/s, accuracy=94.2, loss=0.158]\n"
     ]
    },
    {
     "name": "stdout",
     "output_type": "stream",
     "text": [
      "Valid: Loss=0.1503, Accuracy=0.9463\n",
      "\n"
     ]
    },
    {
     "name": "stderr",
     "output_type": "stream",
     "text": [
      "Epoch 59: 100%|████████████████████████████████████████| 100/100 [00:03<00:00, 29.55batch/s, accuracy=94.2, loss=0.157]\n"
     ]
    },
    {
     "name": "stdout",
     "output_type": "stream",
     "text": [
      "Valid: Loss=0.1492, Accuracy=0.9466\n",
      "\n"
     ]
    },
    {
     "name": "stderr",
     "output_type": "stream",
     "text": [
      "Epoch 60: 100%|████████████████████████████████████████| 100/100 [00:03<00:00, 29.12batch/s, accuracy=94.3, loss=0.157]\n"
     ]
    },
    {
     "name": "stdout",
     "output_type": "stream",
     "text": [
      "Valid: Loss=0.1483, Accuracy=0.9472\n",
      "\n"
     ]
    },
    {
     "name": "stderr",
     "output_type": "stream",
     "text": [
      "Epoch 61: 100%|████████████████████████████████████████| 100/100 [00:03<00:00, 28.75batch/s, accuracy=94.2, loss=0.158]\n"
     ]
    },
    {
     "name": "stdout",
     "output_type": "stream",
     "text": [
      "Valid: Loss=0.1492, Accuracy=0.9469\n",
      "\n"
     ]
    },
    {
     "name": "stderr",
     "output_type": "stream",
     "text": [
      "Epoch 62: 100%|████████████████████████████████████████| 100/100 [00:03<00:00, 31.80batch/s, accuracy=94.3, loss=0.156]\n"
     ]
    },
    {
     "name": "stdout",
     "output_type": "stream",
     "text": [
      "Valid: Loss=0.1478, Accuracy=0.9475\n",
      "\n"
     ]
    },
    {
     "name": "stderr",
     "output_type": "stream",
     "text": [
      "Epoch 63: 100%|████████████████████████████████████████| 100/100 [00:03<00:00, 30.27batch/s, accuracy=94.3, loss=0.156]\n"
     ]
    },
    {
     "name": "stdout",
     "output_type": "stream",
     "text": [
      "Valid: Loss=0.1478, Accuracy=0.9472\n",
      "\n"
     ]
    },
    {
     "name": "stderr",
     "output_type": "stream",
     "text": [
      "Epoch 64: 100%|████████████████████████████████████████| 100/100 [00:03<00:00, 29.80batch/s, accuracy=94.4, loss=0.155]\n"
     ]
    },
    {
     "name": "stdout",
     "output_type": "stream",
     "text": [
      "Valid: Loss=0.1466, Accuracy=0.9475\n",
      "\n"
     ]
    },
    {
     "name": "stderr",
     "output_type": "stream",
     "text": [
      "Epoch 65: 100%|████████████████████████████████████████| 100/100 [00:03<00:00, 31.29batch/s, accuracy=94.4, loss=0.153]\n"
     ]
    },
    {
     "name": "stdout",
     "output_type": "stream",
     "text": [
      "Valid: Loss=0.1465, Accuracy=0.9472\n",
      "\n"
     ]
    },
    {
     "name": "stderr",
     "output_type": "stream",
     "text": [
      "Epoch 66: 100%|████████████████████████████████████████| 100/100 [00:03<00:00, 31.14batch/s, accuracy=94.5, loss=0.155]\n"
     ]
    },
    {
     "name": "stdout",
     "output_type": "stream",
     "text": [
      "Valid: Loss=0.146, Accuracy=0.9472\n",
      "\n"
     ]
    },
    {
     "name": "stderr",
     "output_type": "stream",
     "text": [
      "Epoch 67: 100%|████████████████████████████████████████| 100/100 [00:03<00:00, 33.28batch/s, accuracy=94.4, loss=0.153]\n"
     ]
    },
    {
     "name": "stdout",
     "output_type": "stream",
     "text": [
      "Valid: Loss=0.145, Accuracy=0.9475\n",
      "\n"
     ]
    },
    {
     "name": "stderr",
     "output_type": "stream",
     "text": [
      "Epoch 68: 100%|████████████████████████████████████████| 100/100 [00:03<00:00, 31.42batch/s, accuracy=94.4, loss=0.153]\n"
     ]
    },
    {
     "name": "stdout",
     "output_type": "stream",
     "text": [
      "Valid: Loss=0.1443, Accuracy=0.9492\n",
      "\n"
     ]
    },
    {
     "name": "stderr",
     "output_type": "stream",
     "text": [
      "Epoch 69: 100%|████████████████████████████████████████| 100/100 [00:03<00:00, 30.03batch/s, accuracy=94.6, loss=0.151]\n"
     ]
    },
    {
     "name": "stdout",
     "output_type": "stream",
     "text": [
      "Valid: Loss=0.1437, Accuracy=0.948\n",
      "\n"
     ]
    },
    {
     "name": "stderr",
     "output_type": "stream",
     "text": [
      "Epoch 70: 100%|████████████████████████████████████████| 100/100 [00:03<00:00, 29.73batch/s, accuracy=94.6, loss=0.151]\n"
     ]
    },
    {
     "name": "stdout",
     "output_type": "stream",
     "text": [
      "Valid: Loss=0.1438, Accuracy=0.9492\n",
      "\n"
     ]
    },
    {
     "name": "stderr",
     "output_type": "stream",
     "text": [
      "Epoch 71: 100%|████████████████████████████████████████| 100/100 [00:03<00:00, 30.87batch/s, accuracy=94.5, loss=0.152]\n"
     ]
    },
    {
     "name": "stdout",
     "output_type": "stream",
     "text": [
      "Valid: Loss=0.1438, Accuracy=0.9472\n",
      "\n"
     ]
    },
    {
     "name": "stderr",
     "output_type": "stream",
     "text": [
      "Epoch 72: 100%|█████████████████████████████████████████| 100/100 [00:02<00:00, 35.55batch/s, accuracy=94.7, loss=0.15]\n"
     ]
    },
    {
     "name": "stdout",
     "output_type": "stream",
     "text": [
      "Valid: Loss=0.1436, Accuracy=0.9477\n",
      "\n"
     ]
    },
    {
     "name": "stderr",
     "output_type": "stream",
     "text": [
      "Epoch 73: 100%|████████████████████████████████████████| 100/100 [00:03<00:00, 33.30batch/s, accuracy=94.7, loss=0.146]\n"
     ]
    },
    {
     "name": "stdout",
     "output_type": "stream",
     "text": [
      "Valid: Loss=0.1426, Accuracy=0.9486\n",
      "\n"
     ]
    },
    {
     "name": "stderr",
     "output_type": "stream",
     "text": [
      "Epoch 74: 100%|████████████████████████████████████████| 100/100 [00:02<00:00, 33.38batch/s, accuracy=94.3, loss=0.152]\n"
     ]
    },
    {
     "name": "stdout",
     "output_type": "stream",
     "text": [
      "Valid: Loss=0.1417, Accuracy=0.948\n",
      "\n"
     ]
    },
    {
     "name": "stderr",
     "output_type": "stream",
     "text": [
      "Epoch 75: 100%|████████████████████████████████████████| 100/100 [00:03<00:00, 32.32batch/s, accuracy=94.8, loss=0.148]\n"
     ]
    },
    {
     "name": "stdout",
     "output_type": "stream",
     "text": [
      "Valid: Loss=0.1421, Accuracy=0.948\n",
      "\n"
     ]
    },
    {
     "name": "stderr",
     "output_type": "stream",
     "text": [
      "Epoch 76: 100%|████████████████████████████████████████| 100/100 [00:02<00:00, 34.67batch/s, accuracy=94.7, loss=0.148]\n"
     ]
    },
    {
     "name": "stdout",
     "output_type": "stream",
     "text": [
      "Valid: Loss=0.1405, Accuracy=0.9495\n",
      "\n"
     ]
    },
    {
     "name": "stderr",
     "output_type": "stream",
     "text": [
      "Epoch 77: 100%|████████████████████████████████████████| 100/100 [00:02<00:00, 33.71batch/s, accuracy=94.6, loss=0.146]\n"
     ]
    },
    {
     "name": "stdout",
     "output_type": "stream",
     "text": [
      "Valid: Loss=0.1405, Accuracy=0.9489\n",
      "\n"
     ]
    },
    {
     "name": "stderr",
     "output_type": "stream",
     "text": [
      "Epoch 78: 100%|█████████████████████████████████████████| 100/100 [00:02<00:00, 35.42batch/s, accuracy=94.4, loss=0.15]\n"
     ]
    },
    {
     "name": "stdout",
     "output_type": "stream",
     "text": [
      "Valid: Loss=0.1398, Accuracy=0.9495\n",
      "\n"
     ]
    },
    {
     "name": "stderr",
     "output_type": "stream",
     "text": [
      "Epoch 79: 100%|████████████████████████████████████████| 100/100 [00:02<00:00, 36.35batch/s, accuracy=94.6, loss=0.145]\n"
     ]
    },
    {
     "name": "stdout",
     "output_type": "stream",
     "text": [
      "Valid: Loss=0.1397, Accuracy=0.9498\n",
      "\n"
     ]
    },
    {
     "name": "stderr",
     "output_type": "stream",
     "text": [
      "Epoch 80: 100%|████████████████████████████████████████| 100/100 [00:02<00:00, 34.58batch/s, accuracy=94.7, loss=0.144]\n"
     ]
    },
    {
     "name": "stdout",
     "output_type": "stream",
     "text": [
      "Valid: Loss=0.1388, Accuracy=0.9492\n",
      "\n"
     ]
    },
    {
     "name": "stderr",
     "output_type": "stream",
     "text": [
      "Epoch 81: 100%|████████████████████████████████████████| 100/100 [00:02<00:00, 35.92batch/s, accuracy=94.7, loss=0.143]\n"
     ]
    },
    {
     "name": "stdout",
     "output_type": "stream",
     "text": [
      "Valid: Loss=0.1395, Accuracy=0.9489\n",
      "\n"
     ]
    },
    {
     "name": "stderr",
     "output_type": "stream",
     "text": [
      "Epoch 82: 100%|████████████████████████████████████████| 100/100 [00:02<00:00, 36.44batch/s, accuracy=94.6, loss=0.146]\n"
     ]
    },
    {
     "name": "stdout",
     "output_type": "stream",
     "text": [
      "Valid: Loss=0.1391, Accuracy=0.9512\n",
      "\n"
     ]
    },
    {
     "name": "stderr",
     "output_type": "stream",
     "text": [
      "Epoch 83: 100%|████████████████████████████████████████| 100/100 [00:02<00:00, 34.16batch/s, accuracy=94.5, loss=0.145]\n"
     ]
    },
    {
     "name": "stdout",
     "output_type": "stream",
     "text": [
      "Valid: Loss=0.1367, Accuracy=0.9506\n",
      "\n"
     ]
    },
    {
     "name": "stderr",
     "output_type": "stream",
     "text": [
      "Epoch 84: 100%|████████████████████████████████████████| 100/100 [00:02<00:00, 33.95batch/s, accuracy=94.8, loss=0.142]\n"
     ]
    },
    {
     "name": "stdout",
     "output_type": "stream",
     "text": [
      "Valid: Loss=0.1367, Accuracy=0.9498\n",
      "\n"
     ]
    },
    {
     "name": "stderr",
     "output_type": "stream",
     "text": [
      "Epoch 85: 100%|████████████████████████████████████████| 100/100 [00:03<00:00, 33.00batch/s, accuracy=94.7, loss=0.143]\n"
     ]
    },
    {
     "name": "stdout",
     "output_type": "stream",
     "text": [
      "Valid: Loss=0.1361, Accuracy=0.9524\n",
      "\n"
     ]
    },
    {
     "name": "stderr",
     "output_type": "stream",
     "text": [
      "Epoch 86: 100%|████████████████████████████████████████| 100/100 [00:02<00:00, 35.87batch/s, accuracy=94.8, loss=0.141]\n"
     ]
    },
    {
     "name": "stdout",
     "output_type": "stream",
     "text": [
      "Valid: Loss=0.1368, Accuracy=0.9509\n",
      "\n"
     ]
    },
    {
     "name": "stderr",
     "output_type": "stream",
     "text": [
      "Epoch 87: 100%|██████████████████████████████████████████| 100/100 [00:02<00:00, 35.31batch/s, accuracy=95, loss=0.139]\n"
     ]
    },
    {
     "name": "stdout",
     "output_type": "stream",
     "text": [
      "Valid: Loss=0.1352, Accuracy=0.9515\n",
      "\n"
     ]
    },
    {
     "name": "stderr",
     "output_type": "stream",
     "text": [
      "Epoch 88: 100%|████████████████████████████████████████| 100/100 [00:03<00:00, 32.05batch/s, accuracy=94.8, loss=0.141]\n"
     ]
    },
    {
     "name": "stdout",
     "output_type": "stream",
     "text": [
      "Valid: Loss=0.1347, Accuracy=0.9521\n",
      "\n"
     ]
    },
    {
     "name": "stderr",
     "output_type": "stream",
     "text": [
      "Epoch 89: 100%|█████████████████████████████████████████| 100/100 [00:02<00:00, 35.25batch/s, accuracy=94.8, loss=0.14]\n"
     ]
    },
    {
     "name": "stdout",
     "output_type": "stream",
     "text": [
      "Valid: Loss=0.1338, Accuracy=0.9503\n",
      "\n"
     ]
    },
    {
     "name": "stderr",
     "output_type": "stream",
     "text": [
      "Epoch 90: 100%|████████████████████████████████████████| 100/100 [00:02<00:00, 33.46batch/s, accuracy=95.1, loss=0.138]\n"
     ]
    },
    {
     "name": "stdout",
     "output_type": "stream",
     "text": [
      "Valid: Loss=0.1333, Accuracy=0.9512\n",
      "\n"
     ]
    },
    {
     "name": "stderr",
     "output_type": "stream",
     "text": [
      "Epoch 91: 100%|████████████████████████████████████████| 100/100 [00:02<00:00, 34.52batch/s, accuracy=94.8, loss=0.141]\n"
     ]
    },
    {
     "name": "stdout",
     "output_type": "stream",
     "text": [
      "Valid: Loss=0.1327, Accuracy=0.9518\n",
      "\n"
     ]
    },
    {
     "name": "stderr",
     "output_type": "stream",
     "text": [
      "Epoch 92: 100%|████████████████████████████████████████| 100/100 [00:03<00:00, 33.28batch/s, accuracy=95.1, loss=0.137]\n"
     ]
    },
    {
     "name": "stdout",
     "output_type": "stream",
     "text": [
      "Valid: Loss=0.1347, Accuracy=0.9501\n",
      "\n"
     ]
    },
    {
     "name": "stderr",
     "output_type": "stream",
     "text": [
      "Epoch 93: 100%|████████████████████████████████████████| 100/100 [00:02<00:00, 35.92batch/s, accuracy=94.9, loss=0.137]\n"
     ]
    },
    {
     "name": "stdout",
     "output_type": "stream",
     "text": [
      "Valid: Loss=0.1336, Accuracy=0.9512\n",
      "\n"
     ]
    },
    {
     "name": "stderr",
     "output_type": "stream",
     "text": [
      "Epoch 94: 100%|███████████████████████████████████████████| 100/100 [00:02<00:00, 35.70batch/s, accuracy=95, loss=0.14]\n"
     ]
    },
    {
     "name": "stdout",
     "output_type": "stream",
     "text": [
      "Valid: Loss=0.1314, Accuracy=0.9521\n",
      "\n"
     ]
    },
    {
     "name": "stderr",
     "output_type": "stream",
     "text": [
      "Epoch 95: 100%|████████████████████████████████████████| 100/100 [00:02<00:00, 35.52batch/s, accuracy=95.2, loss=0.134]\n"
     ]
    },
    {
     "name": "stdout",
     "output_type": "stream",
     "text": [
      "Valid: Loss=0.1311, Accuracy=0.9524\n",
      "\n"
     ]
    },
    {
     "name": "stderr",
     "output_type": "stream",
     "text": [
      "Epoch 96: 100%|████████████████████████████████████████| 100/100 [00:02<00:00, 34.56batch/s, accuracy=95.1, loss=0.135]\n"
     ]
    },
    {
     "name": "stdout",
     "output_type": "stream",
     "text": [
      "Valid: Loss=0.1331, Accuracy=0.9501\n",
      "\n"
     ]
    },
    {
     "name": "stderr",
     "output_type": "stream",
     "text": [
      "Epoch 97: 100%|████████████████████████████████████████| 100/100 [00:02<00:00, 35.69batch/s, accuracy=95.2, loss=0.133]\n"
     ]
    },
    {
     "name": "stdout",
     "output_type": "stream",
     "text": [
      "Valid: Loss=0.1318, Accuracy=0.9512\n",
      "\n"
     ]
    },
    {
     "name": "stderr",
     "output_type": "stream",
     "text": [
      "Epoch 98: 100%|████████████████████████████████████████| 100/100 [00:02<00:00, 35.91batch/s, accuracy=95.2, loss=0.134]\n"
     ]
    },
    {
     "name": "stdout",
     "output_type": "stream",
     "text": [
      "Valid: Loss=0.1308, Accuracy=0.9524\n",
      "\n"
     ]
    },
    {
     "name": "stderr",
     "output_type": "stream",
     "text": [
      "Epoch 99: 100%|████████████████████████████████████████| 100/100 [00:02<00:00, 35.77batch/s, accuracy=94.9, loss=0.139]\n"
     ]
    },
    {
     "name": "stdout",
     "output_type": "stream",
     "text": [
      "Valid: Loss=0.1353, Accuracy=0.9509\n",
      "\n"
     ]
    },
    {
     "name": "stderr",
     "output_type": "stream",
     "text": [
      "Epoch 100: 100%|███████████████████████████████████████| 100/100 [00:02<00:00, 35.76batch/s, accuracy=95.1, loss=0.135]\n"
     ]
    },
    {
     "name": "stdout",
     "output_type": "stream",
     "text": [
      "Valid: Loss=0.1295, Accuracy=0.9532\n",
      "\n"
     ]
    },
    {
     "name": "stderr",
     "output_type": "stream",
     "text": [
      "Epoch 101: 100%|███████████████████████████████████████| 100/100 [00:02<00:00, 34.97batch/s, accuracy=95.1, loss=0.134]\n"
     ]
    },
    {
     "name": "stdout",
     "output_type": "stream",
     "text": [
      "Valid: Loss=0.129, Accuracy=0.9535\n",
      "\n"
     ]
    },
    {
     "name": "stderr",
     "output_type": "stream",
     "text": [
      "Epoch 102: 100%|███████████████████████████████████████| 100/100 [00:02<00:00, 35.74batch/s, accuracy=95.1, loss=0.134]\n"
     ]
    },
    {
     "name": "stdout",
     "output_type": "stream",
     "text": [
      "Valid: Loss=0.1294, Accuracy=0.9529\n",
      "\n"
     ]
    },
    {
     "name": "stderr",
     "output_type": "stream",
     "text": [
      "Epoch 103: 100%|███████████████████████████████████████| 100/100 [00:02<00:00, 36.08batch/s, accuracy=95.1, loss=0.134]\n"
     ]
    },
    {
     "name": "stdout",
     "output_type": "stream",
     "text": [
      "Valid: Loss=0.1296, Accuracy=0.9529\n",
      "\n"
     ]
    },
    {
     "name": "stderr",
     "output_type": "stream",
     "text": [
      "Epoch 104: 100%|███████████████████████████████████████| 100/100 [00:02<00:00, 35.71batch/s, accuracy=95.2, loss=0.134]\n"
     ]
    },
    {
     "name": "stdout",
     "output_type": "stream",
     "text": [
      "Valid: Loss=0.1288, Accuracy=0.9524\n",
      "\n"
     ]
    },
    {
     "name": "stderr",
     "output_type": "stream",
     "text": [
      "Epoch 105: 100%|███████████████████████████████████████| 100/100 [00:02<00:00, 35.82batch/s, accuracy=95.2, loss=0.134]\n"
     ]
    },
    {
     "name": "stdout",
     "output_type": "stream",
     "text": [
      "Valid: Loss=0.1313, Accuracy=0.9509\n",
      "\n"
     ]
    },
    {
     "name": "stderr",
     "output_type": "stream",
     "text": [
      "Epoch 106: 100%|████████████████████████████████████████| 100/100 [00:02<00:00, 36.67batch/s, accuracy=95.2, loss=0.13]\n"
     ]
    },
    {
     "name": "stdout",
     "output_type": "stream",
     "text": [
      "Valid: Loss=0.128, Accuracy=0.9532\n",
      "\n"
     ]
    },
    {
     "name": "stderr",
     "output_type": "stream",
     "text": [
      "Epoch 107: 100%|███████████████████████████████████████| 100/100 [00:03<00:00, 32.55batch/s, accuracy=95.2, loss=0.135]\n"
     ]
    },
    {
     "name": "stdout",
     "output_type": "stream",
     "text": [
      "Valid: Loss=0.1276, Accuracy=0.9538\n",
      "\n"
     ]
    },
    {
     "name": "stderr",
     "output_type": "stream",
     "text": [
      "Epoch 108: 100%|███████████████████████████████████████| 100/100 [00:02<00:00, 34.68batch/s, accuracy=95.4, loss=0.129]\n"
     ]
    },
    {
     "name": "stdout",
     "output_type": "stream",
     "text": [
      "Valid: Loss=0.1278, Accuracy=0.9541\n",
      "\n"
     ]
    },
    {
     "name": "stderr",
     "output_type": "stream",
     "text": [
      "Epoch 109: 100%|███████████████████████████████████████| 100/100 [00:02<00:00, 34.30batch/s, accuracy=95.2, loss=0.131]\n"
     ]
    },
    {
     "name": "stdout",
     "output_type": "stream",
     "text": [
      "Valid: Loss=0.1267, Accuracy=0.9541\n",
      "\n"
     ]
    },
    {
     "name": "stderr",
     "output_type": "stream",
     "text": [
      "Epoch 110: 100%|███████████████████████████████████████| 100/100 [00:02<00:00, 33.78batch/s, accuracy=95.2, loss=0.134]\n"
     ]
    },
    {
     "name": "stdout",
     "output_type": "stream",
     "text": [
      "Valid: Loss=0.1282, Accuracy=0.9512\n",
      "\n"
     ]
    },
    {
     "name": "stderr",
     "output_type": "stream",
     "text": [
      "Epoch 111: 100%|███████████████████████████████████████| 100/100 [00:02<00:00, 34.29batch/s, accuracy=95.4, loss=0.129]\n"
     ]
    },
    {
     "name": "stdout",
     "output_type": "stream",
     "text": [
      "Valid: Loss=0.1259, Accuracy=0.955\n",
      "\n"
     ]
    },
    {
     "name": "stderr",
     "output_type": "stream",
     "text": [
      "Epoch 112: 100%|████████████████████████████████████████| 100/100 [00:03<00:00, 33.23batch/s, accuracy=95.5, loss=0.13]\n"
     ]
    },
    {
     "name": "stdout",
     "output_type": "stream",
     "text": [
      "Valid: Loss=0.1258, Accuracy=0.955\n",
      "\n"
     ]
    },
    {
     "name": "stderr",
     "output_type": "stream",
     "text": [
      "Epoch 113: 100%|███████████████████████████████████████| 100/100 [00:03<00:00, 33.06batch/s, accuracy=95.2, loss=0.133]\n"
     ]
    },
    {
     "name": "stdout",
     "output_type": "stream",
     "text": [
      "Valid: Loss=0.1249, Accuracy=0.955\n",
      "\n"
     ]
    },
    {
     "name": "stderr",
     "output_type": "stream",
     "text": [
      "Epoch 114: 100%|███████████████████████████████████████| 100/100 [00:02<00:00, 35.25batch/s, accuracy=95.3, loss=0.129]\n"
     ]
    },
    {
     "name": "stdout",
     "output_type": "stream",
     "text": [
      "Valid: Loss=0.1257, Accuracy=0.9541\n",
      "\n"
     ]
    },
    {
     "name": "stderr",
     "output_type": "stream",
     "text": [
      "Epoch 115: 100%|████████████████████████████████████████| 100/100 [00:03<00:00, 32.55batch/s, accuracy=95.4, loss=0.13]\n"
     ]
    },
    {
     "name": "stdout",
     "output_type": "stream",
     "text": [
      "Valid: Loss=0.1253, Accuracy=0.9555\n",
      "\n"
     ]
    },
    {
     "name": "stderr",
     "output_type": "stream",
     "text": [
      "Epoch 116: 100%|███████████████████████████████████████| 100/100 [00:02<00:00, 33.36batch/s, accuracy=95.6, loss=0.128]\n"
     ]
    },
    {
     "name": "stdout",
     "output_type": "stream",
     "text": [
      "Valid: Loss=0.1253, Accuracy=0.9564\n",
      "\n"
     ]
    },
    {
     "name": "stderr",
     "output_type": "stream",
     "text": [
      "Epoch 117: 100%|███████████████████████████████████████| 100/100 [00:03<00:00, 32.18batch/s, accuracy=95.7, loss=0.125]\n"
     ]
    },
    {
     "name": "stdout",
     "output_type": "stream",
     "text": [
      "Valid: Loss=0.1245, Accuracy=0.9561\n",
      "\n"
     ]
    },
    {
     "name": "stderr",
     "output_type": "stream",
     "text": [
      "Epoch 118: 100%|████████████████████████████████████████| 100/100 [00:03<00:00, 32.80batch/s, accuracy=95.4, loss=0.13]\n"
     ]
    },
    {
     "name": "stdout",
     "output_type": "stream",
     "text": [
      "Valid: Loss=0.1267, Accuracy=0.9544\n",
      "\n"
     ]
    },
    {
     "name": "stderr",
     "output_type": "stream",
     "text": [
      "Epoch 119: 100%|███████████████████████████████████████| 100/100 [00:03<00:00, 33.20batch/s, accuracy=95.5, loss=0.124]\n"
     ]
    },
    {
     "name": "stdout",
     "output_type": "stream",
     "text": [
      "Valid: Loss=0.1232, Accuracy=0.9567\n",
      "\n"
     ]
    },
    {
     "name": "stderr",
     "output_type": "stream",
     "text": [
      "Epoch 120: 100%|███████████████████████████████████████| 100/100 [00:02<00:00, 33.56batch/s, accuracy=95.6, loss=0.126]\n"
     ]
    },
    {
     "name": "stdout",
     "output_type": "stream",
     "text": [
      "Valid: Loss=0.1237, Accuracy=0.9581\n",
      "\n"
     ]
    },
    {
     "name": "stderr",
     "output_type": "stream",
     "text": [
      "Epoch 121: 100%|███████████████████████████████████████| 100/100 [00:02<00:00, 33.65batch/s, accuracy=95.6, loss=0.126]\n"
     ]
    },
    {
     "name": "stdout",
     "output_type": "stream",
     "text": [
      "Valid: Loss=0.1222, Accuracy=0.9587\n",
      "\n"
     ]
    },
    {
     "name": "stderr",
     "output_type": "stream",
     "text": [
      "Epoch 122: 100%|███████████████████████████████████████| 100/100 [00:03<00:00, 31.68batch/s, accuracy=95.3, loss=0.129]\n"
     ]
    },
    {
     "name": "stdout",
     "output_type": "stream",
     "text": [
      "Valid: Loss=0.1219, Accuracy=0.959\n",
      "\n"
     ]
    },
    {
     "name": "stderr",
     "output_type": "stream",
     "text": [
      "Epoch 123: 100%|███████████████████████████████████████| 100/100 [00:03<00:00, 33.28batch/s, accuracy=95.6, loss=0.123]\n"
     ]
    },
    {
     "name": "stdout",
     "output_type": "stream",
     "text": [
      "Valid: Loss=0.1207, Accuracy=0.9584\n",
      "\n"
     ]
    },
    {
     "name": "stderr",
     "output_type": "stream",
     "text": [
      "Epoch 124: 100%|███████████████████████████████████████| 100/100 [00:02<00:00, 35.54batch/s, accuracy=95.7, loss=0.124]\n"
     ]
    },
    {
     "name": "stdout",
     "output_type": "stream",
     "text": [
      "Valid: Loss=0.1204, Accuracy=0.9596\n",
      "\n"
     ]
    },
    {
     "name": "stderr",
     "output_type": "stream",
     "text": [
      "Epoch 125: 100%|███████████████████████████████████████| 100/100 [00:02<00:00, 35.32batch/s, accuracy=95.5, loss=0.128]\n"
     ]
    },
    {
     "name": "stdout",
     "output_type": "stream",
     "text": [
      "Valid: Loss=0.1209, Accuracy=0.9587\n",
      "\n"
     ]
    },
    {
     "name": "stderr",
     "output_type": "stream",
     "text": [
      "Epoch 126: 100%|███████████████████████████████████████| 100/100 [00:02<00:00, 36.05batch/s, accuracy=95.4, loss=0.126]\n"
     ]
    },
    {
     "name": "stdout",
     "output_type": "stream",
     "text": [
      "Valid: Loss=0.1204, Accuracy=0.959\n",
      "\n"
     ]
    },
    {
     "name": "stderr",
     "output_type": "stream",
     "text": [
      "Epoch 127: 100%|███████████████████████████████████████| 100/100 [00:02<00:00, 35.97batch/s, accuracy=95.5, loss=0.124]\n"
     ]
    },
    {
     "name": "stdout",
     "output_type": "stream",
     "text": [
      "Valid: Loss=0.1223, Accuracy=0.9596\n",
      "\n"
     ]
    },
    {
     "name": "stderr",
     "output_type": "stream",
     "text": [
      "Epoch 128: 100%|███████████████████████████████████████| 100/100 [00:02<00:00, 36.57batch/s, accuracy=95.5, loss=0.127]\n"
     ]
    },
    {
     "name": "stdout",
     "output_type": "stream",
     "text": [
      "Valid: Loss=0.1187, Accuracy=0.9599\n",
      "\n"
     ]
    },
    {
     "name": "stderr",
     "output_type": "stream",
     "text": [
      "Epoch 129: 100%|███████████████████████████████████████| 100/100 [00:02<00:00, 36.35batch/s, accuracy=95.8, loss=0.124]\n"
     ]
    },
    {
     "name": "stdout",
     "output_type": "stream",
     "text": [
      "Valid: Loss=0.12, Accuracy=0.9613\n",
      "\n"
     ]
    },
    {
     "name": "stderr",
     "output_type": "stream",
     "text": [
      "Epoch 130: 100%|███████████████████████████████████████| 100/100 [00:02<00:00, 36.07batch/s, accuracy=95.9, loss=0.119]\n"
     ]
    },
    {
     "name": "stdout",
     "output_type": "stream",
     "text": [
      "Valid: Loss=0.1176, Accuracy=0.9619\n",
      "\n"
     ]
    },
    {
     "name": "stderr",
     "output_type": "stream",
     "text": [
      "Epoch 131: 100%|███████████████████████████████████████| 100/100 [00:02<00:00, 36.37batch/s, accuracy=95.8, loss=0.122]\n"
     ]
    },
    {
     "name": "stdout",
     "output_type": "stream",
     "text": [
      "Valid: Loss=0.1185, Accuracy=0.9616\n",
      "\n"
     ]
    },
    {
     "name": "stderr",
     "output_type": "stream",
     "text": [
      "Epoch 132: 100%|███████████████████████████████████████| 100/100 [00:02<00:00, 34.98batch/s, accuracy=95.7, loss=0.121]\n"
     ]
    },
    {
     "name": "stdout",
     "output_type": "stream",
     "text": [
      "Valid: Loss=0.1178, Accuracy=0.9593\n",
      "\n"
     ]
    },
    {
     "name": "stderr",
     "output_type": "stream",
     "text": [
      "Epoch 133: 100%|█████████████████████████████████████████| 100/100 [00:02<00:00, 35.53batch/s, accuracy=96, loss=0.119]\n"
     ]
    },
    {
     "name": "stdout",
     "output_type": "stream",
     "text": [
      "Valid: Loss=0.1176, Accuracy=0.9607\n",
      "\n"
     ]
    },
    {
     "name": "stderr",
     "output_type": "stream",
     "text": [
      "Epoch 134: 100%|█████████████████████████████████████████| 100/100 [00:02<00:00, 35.17batch/s, accuracy=96, loss=0.117]\n"
     ]
    },
    {
     "name": "stdout",
     "output_type": "stream",
     "text": [
      "Valid: Loss=0.1173, Accuracy=0.9622\n",
      "\n"
     ]
    },
    {
     "name": "stderr",
     "output_type": "stream",
     "text": [
      "Epoch 135: 100%|███████████████████████████████████████| 100/100 [00:02<00:00, 35.18batch/s, accuracy=95.6, loss=0.119]\n"
     ]
    },
    {
     "name": "stdout",
     "output_type": "stream",
     "text": [
      "Valid: Loss=0.1175, Accuracy=0.9602\n",
      "\n"
     ]
    },
    {
     "name": "stderr",
     "output_type": "stream",
     "text": [
      "Epoch 136: 100%|███████████████████████████████████████| 100/100 [00:02<00:00, 35.51batch/s, accuracy=95.7, loss=0.121]\n"
     ]
    },
    {
     "name": "stdout",
     "output_type": "stream",
     "text": [
      "Valid: Loss=0.1153, Accuracy=0.9622\n",
      "\n"
     ]
    },
    {
     "name": "stderr",
     "output_type": "stream",
     "text": [
      "Epoch 137: 100%|████████████████████████████████████████| 100/100 [00:02<00:00, 34.73batch/s, accuracy=95.8, loss=0.12]\n"
     ]
    },
    {
     "name": "stdout",
     "output_type": "stream",
     "text": [
      "Valid: Loss=0.115, Accuracy=0.9628\n",
      "\n"
     ]
    },
    {
     "name": "stderr",
     "output_type": "stream",
     "text": [
      "Epoch 138: 100%|███████████████████████████████████████| 100/100 [00:02<00:00, 34.74batch/s, accuracy=95.9, loss=0.121]\n"
     ]
    },
    {
     "name": "stdout",
     "output_type": "stream",
     "text": [
      "Valid: Loss=0.117, Accuracy=0.9607\n",
      "\n"
     ]
    },
    {
     "name": "stderr",
     "output_type": "stream",
     "text": [
      "Epoch 139: 100%|███████████████████████████████████████| 100/100 [00:02<00:00, 35.90batch/s, accuracy=95.7, loss=0.118]\n"
     ]
    },
    {
     "name": "stdout",
     "output_type": "stream",
     "text": [
      "Valid: Loss=0.115, Accuracy=0.9619\n",
      "\n"
     ]
    },
    {
     "name": "stderr",
     "output_type": "stream",
     "text": [
      "Epoch 140: 100%|█████████████████████████████████████████| 100/100 [00:02<00:00, 34.15batch/s, accuracy=96, loss=0.118]\n"
     ]
    },
    {
     "name": "stdout",
     "output_type": "stream",
     "text": [
      "Valid: Loss=0.115, Accuracy=0.9605\n",
      "\n"
     ]
    },
    {
     "name": "stderr",
     "output_type": "stream",
     "text": [
      "Epoch 141: 100%|███████████████████████████████████████| 100/100 [00:02<00:00, 34.42batch/s, accuracy=95.9, loss=0.121]\n"
     ]
    },
    {
     "name": "stdout",
     "output_type": "stream",
     "text": [
      "Valid: Loss=0.1153, Accuracy=0.9622\n",
      "\n"
     ]
    },
    {
     "name": "stderr",
     "output_type": "stream",
     "text": [
      "Epoch 142: 100%|█████████████████████████████████████████| 100/100 [00:02<00:00, 36.52batch/s, accuracy=96, loss=0.117]\n"
     ]
    },
    {
     "name": "stdout",
     "output_type": "stream",
     "text": [
      "Valid: Loss=0.1146, Accuracy=0.9625\n",
      "\n"
     ]
    },
    {
     "name": "stderr",
     "output_type": "stream",
     "text": [
      "Epoch 143: 100%|███████████████████████████████████████| 100/100 [00:02<00:00, 34.33batch/s, accuracy=95.6, loss=0.122]\n"
     ]
    },
    {
     "name": "stdout",
     "output_type": "stream",
     "text": [
      "Valid: Loss=0.1136, Accuracy=0.9642\n",
      "\n"
     ]
    },
    {
     "name": "stderr",
     "output_type": "stream",
     "text": [
      "Epoch 144: 100%|███████████████████████████████████████| 100/100 [00:02<00:00, 34.11batch/s, accuracy=95.9, loss=0.117]\n"
     ]
    },
    {
     "name": "stdout",
     "output_type": "stream",
     "text": [
      "Valid: Loss=0.1153, Accuracy=0.9616\n",
      "\n"
     ]
    },
    {
     "name": "stderr",
     "output_type": "stream",
     "text": [
      "Epoch 145: 100%|███████████████████████████████████████| 100/100 [00:03<00:00, 32.73batch/s, accuracy=95.8, loss=0.119]\n"
     ]
    },
    {
     "name": "stdout",
     "output_type": "stream",
     "text": [
      "Valid: Loss=0.113, Accuracy=0.9633\n",
      "\n"
     ]
    },
    {
     "name": "stderr",
     "output_type": "stream",
     "text": [
      "Epoch 146: 100%|███████████████████████████████████████| 100/100 [00:02<00:00, 33.95batch/s, accuracy=95.9, loss=0.117]\n"
     ]
    },
    {
     "name": "stdout",
     "output_type": "stream",
     "text": [
      "Valid: Loss=0.1132, Accuracy=0.9633\n",
      "\n"
     ]
    },
    {
     "name": "stderr",
     "output_type": "stream",
     "text": [
      "Epoch 147: 100%|███████████████████████████████████████| 100/100 [00:02<00:00, 35.25batch/s, accuracy=96.1, loss=0.116]\n"
     ]
    },
    {
     "name": "stdout",
     "output_type": "stream",
     "text": [
      "Valid: Loss=0.112, Accuracy=0.9639\n",
      "\n"
     ]
    },
    {
     "name": "stderr",
     "output_type": "stream",
     "text": [
      "Epoch 148: 100%|█████████████████████████████████████████| 100/100 [00:02<00:00, 33.96batch/s, accuracy=96, loss=0.116]\n"
     ]
    },
    {
     "name": "stdout",
     "output_type": "stream",
     "text": [
      "Valid: Loss=0.1119, Accuracy=0.9639\n",
      "\n"
     ]
    },
    {
     "name": "stderr",
     "output_type": "stream",
     "text": [
      "Epoch 149: 100%|███████████████████████████████████████| 100/100 [00:02<00:00, 33.59batch/s, accuracy=96.1, loss=0.119]\n"
     ]
    },
    {
     "name": "stdout",
     "output_type": "stream",
     "text": [
      "Valid: Loss=0.1129, Accuracy=0.9622\n",
      "\n"
     ]
    },
    {
     "name": "stderr",
     "output_type": "stream",
     "text": [
      "Epoch 150: 100%|███████████████████████████████████████| 100/100 [00:02<00:00, 33.52batch/s, accuracy=95.9, loss=0.118]\n"
     ]
    },
    {
     "name": "stdout",
     "output_type": "stream",
     "text": [
      "Valid: Loss=0.1118, Accuracy=0.9633\n",
      "\n"
     ]
    },
    {
     "name": "stderr",
     "output_type": "stream",
     "text": [
      "Epoch 151: 100%|███████████████████████████████████████| 100/100 [00:02<00:00, 33.40batch/s, accuracy=96.2, loss=0.115]\n"
     ]
    },
    {
     "name": "stdout",
     "output_type": "stream",
     "text": [
      "Valid: Loss=0.1118, Accuracy=0.9642\n",
      "\n"
     ]
    },
    {
     "name": "stderr",
     "output_type": "stream",
     "text": [
      "Epoch 152: 100%|███████████████████████████████████████| 100/100 [00:02<00:00, 34.28batch/s, accuracy=95.9, loss=0.114]\n"
     ]
    },
    {
     "name": "stdout",
     "output_type": "stream",
     "text": [
      "Valid: Loss=0.1127, Accuracy=0.9636\n",
      "\n"
     ]
    },
    {
     "name": "stderr",
     "output_type": "stream",
     "text": [
      "Epoch 153: 100%|███████████████████████████████████████| 100/100 [00:02<00:00, 34.62batch/s, accuracy=96.3, loss=0.113]\n"
     ]
    },
    {
     "name": "stdout",
     "output_type": "stream",
     "text": [
      "Valid: Loss=0.1108, Accuracy=0.9654\n",
      "\n"
     ]
    },
    {
     "name": "stderr",
     "output_type": "stream",
     "text": [
      "Epoch 154: 100%|███████████████████████████████████████| 100/100 [00:02<00:00, 34.11batch/s, accuracy=96.1, loss=0.111]\n"
     ]
    },
    {
     "name": "stdout",
     "output_type": "stream",
     "text": [
      "Valid: Loss=0.1099, Accuracy=0.9645\n",
      "\n"
     ]
    },
    {
     "name": "stderr",
     "output_type": "stream",
     "text": [
      "Epoch 155: 100%|███████████████████████████████████████| 100/100 [00:02<00:00, 36.09batch/s, accuracy=95.9, loss=0.118]\n"
     ]
    },
    {
     "name": "stdout",
     "output_type": "stream",
     "text": [
      "Valid: Loss=0.1091, Accuracy=0.9654\n",
      "\n"
     ]
    },
    {
     "name": "stderr",
     "output_type": "stream",
     "text": [
      "Epoch 156: 100%|███████████████████████████████████████| 100/100 [00:02<00:00, 36.11batch/s, accuracy=96.1, loss=0.114]\n"
     ]
    },
    {
     "name": "stdout",
     "output_type": "stream",
     "text": [
      "Valid: Loss=0.1096, Accuracy=0.9654\n",
      "\n"
     ]
    },
    {
     "name": "stderr",
     "output_type": "stream",
     "text": [
      "Epoch 157: 100%|███████████████████████████████████████| 100/100 [00:02<00:00, 36.73batch/s, accuracy=95.9, loss=0.116]\n"
     ]
    },
    {
     "name": "stdout",
     "output_type": "stream",
     "text": [
      "Valid: Loss=0.1116, Accuracy=0.9633\n",
      "\n"
     ]
    },
    {
     "name": "stderr",
     "output_type": "stream",
     "text": [
      "Epoch 158: 100%|███████████████████████████████████████| 100/100 [00:02<00:00, 35.73batch/s, accuracy=95.9, loss=0.116]\n"
     ]
    },
    {
     "name": "stdout",
     "output_type": "stream",
     "text": [
      "Valid: Loss=0.1086, Accuracy=0.9654\n",
      "\n"
     ]
    },
    {
     "name": "stderr",
     "output_type": "stream",
     "text": [
      "Epoch 159: 100%|███████████████████████████████████████| 100/100 [00:02<00:00, 35.71batch/s, accuracy=96.1, loss=0.113]\n"
     ]
    },
    {
     "name": "stdout",
     "output_type": "stream",
     "text": [
      "Valid: Loss=0.1086, Accuracy=0.9645\n",
      "\n"
     ]
    },
    {
     "name": "stderr",
     "output_type": "stream",
     "text": [
      "Epoch 160: 100%|███████████████████████████████████████| 100/100 [00:02<00:00, 35.90batch/s, accuracy=96.1, loss=0.113]\n"
     ]
    },
    {
     "name": "stdout",
     "output_type": "stream",
     "text": [
      "Valid: Loss=0.1095, Accuracy=0.9654\n",
      "\n"
     ]
    },
    {
     "name": "stderr",
     "output_type": "stream",
     "text": [
      "Epoch 161: 100%|███████████████████████████████████████| 100/100 [00:02<00:00, 35.29batch/s, accuracy=96.2, loss=0.113]\n"
     ]
    },
    {
     "name": "stdout",
     "output_type": "stream",
     "text": [
      "Valid: Loss=0.1076, Accuracy=0.9648\n",
      "\n"
     ]
    },
    {
     "name": "stderr",
     "output_type": "stream",
     "text": [
      "Epoch 162: 100%|███████████████████████████████████████| 100/100 [00:02<00:00, 35.01batch/s, accuracy=95.9, loss=0.116]\n"
     ]
    },
    {
     "name": "stdout",
     "output_type": "stream",
     "text": [
      "Valid: Loss=0.109, Accuracy=0.9648\n",
      "\n"
     ]
    },
    {
     "name": "stderr",
     "output_type": "stream",
     "text": [
      "Epoch 163: 100%|███████████████████████████████████████| 100/100 [00:02<00:00, 34.63batch/s, accuracy=96.1, loss=0.113]\n"
     ]
    },
    {
     "name": "stdout",
     "output_type": "stream",
     "text": [
      "Valid: Loss=0.108, Accuracy=0.9659\n",
      "\n"
     ]
    },
    {
     "name": "stderr",
     "output_type": "stream",
     "text": [
      "Epoch 164: 100%|███████████████████████████████████████| 100/100 [00:02<00:00, 35.01batch/s, accuracy=96.2, loss=0.111]\n"
     ]
    },
    {
     "name": "stdout",
     "output_type": "stream",
     "text": [
      "Valid: Loss=0.108, Accuracy=0.9659\n",
      "\n"
     ]
    },
    {
     "name": "stderr",
     "output_type": "stream",
     "text": [
      "Epoch 165: 100%|███████████████████████████████████████| 100/100 [00:02<00:00, 34.64batch/s, accuracy=96.1, loss=0.115]\n"
     ]
    },
    {
     "name": "stdout",
     "output_type": "stream",
     "text": [
      "Valid: Loss=0.1096, Accuracy=0.9651\n",
      "\n"
     ]
    },
    {
     "name": "stderr",
     "output_type": "stream",
     "text": [
      "Epoch 166: 100%|███████████████████████████████████████| 100/100 [00:02<00:00, 34.79batch/s, accuracy=96.1, loss=0.114]\n"
     ]
    },
    {
     "name": "stdout",
     "output_type": "stream",
     "text": [
      "Valid: Loss=0.108, Accuracy=0.9648\n",
      "\n"
     ]
    },
    {
     "name": "stderr",
     "output_type": "stream",
     "text": [
      "Epoch 167: 100%|███████████████████████████████████████| 100/100 [00:02<00:00, 35.03batch/s, accuracy=96.1, loss=0.112]\n"
     ]
    },
    {
     "name": "stdout",
     "output_type": "stream",
     "text": [
      "Valid: Loss=0.1082, Accuracy=0.9662\n",
      "\n"
     ]
    },
    {
     "name": "stderr",
     "output_type": "stream",
     "text": [
      "Epoch 168: 100%|███████████████████████████████████████| 100/100 [00:02<00:00, 33.69batch/s, accuracy=96.3, loss=0.109]\n"
     ]
    },
    {
     "name": "stdout",
     "output_type": "stream",
     "text": [
      "Valid: Loss=0.1076, Accuracy=0.9659\n",
      "\n"
     ]
    },
    {
     "name": "stderr",
     "output_type": "stream",
     "text": [
      "Epoch 169: 100%|███████████████████████████████████████| 100/100 [00:02<00:00, 34.03batch/s, accuracy=96.3, loss=0.109]\n"
     ]
    },
    {
     "name": "stdout",
     "output_type": "stream",
     "text": [
      "Valid: Loss=0.1074, Accuracy=0.9648\n",
      "\n"
     ]
    },
    {
     "name": "stderr",
     "output_type": "stream",
     "text": [
      "Epoch 170: 100%|████████████████████████████████████████| 100/100 [00:02<00:00, 33.62batch/s, accuracy=96.3, loss=0.11]\n"
     ]
    },
    {
     "name": "stdout",
     "output_type": "stream",
     "text": [
      "Valid: Loss=0.109, Accuracy=0.9656\n",
      "\n"
     ]
    },
    {
     "name": "stderr",
     "output_type": "stream",
     "text": [
      "Epoch 171: 100%|████████████████████████████████████████| 100/100 [00:03<00:00, 33.01batch/s, accuracy=96.3, loss=0.11]\n"
     ]
    },
    {
     "name": "stdout",
     "output_type": "stream",
     "text": [
      "Valid: Loss=0.107, Accuracy=0.9642\n",
      "\n"
     ]
    },
    {
     "name": "stderr",
     "output_type": "stream",
     "text": [
      "Epoch 172: 100%|████████████████████████████████████████| 100/100 [00:02<00:00, 36.26batch/s, accuracy=96.4, loss=0.11]\n"
     ]
    },
    {
     "name": "stdout",
     "output_type": "stream",
     "text": [
      "Valid: Loss=0.1068, Accuracy=0.9668\n",
      "\n"
     ]
    },
    {
     "name": "stderr",
     "output_type": "stream",
     "text": [
      "Epoch 173: 100%|████████████████████████████████████████| 100/100 [00:02<00:00, 34.19batch/s, accuracy=96.3, loss=0.11]\n"
     ]
    },
    {
     "name": "stdout",
     "output_type": "stream",
     "text": [
      "Valid: Loss=0.1075, Accuracy=0.9668\n",
      "\n"
     ]
    },
    {
     "name": "stderr",
     "output_type": "stream",
     "text": [
      "Epoch 174: 100%|████████████████████████████████████████| 100/100 [00:03<00:00, 32.11batch/s, accuracy=96.3, loss=0.11]\n"
     ]
    },
    {
     "name": "stdout",
     "output_type": "stream",
     "text": [
      "Valid: Loss=0.1059, Accuracy=0.9671\n",
      "\n"
     ]
    },
    {
     "name": "stderr",
     "output_type": "stream",
     "text": [
      "Epoch 175: 100%|███████████████████████████████████████| 100/100 [00:03<00:00, 33.05batch/s, accuracy=96.1, loss=0.109]\n"
     ]
    },
    {
     "name": "stdout",
     "output_type": "stream",
     "text": [
      "Valid: Loss=0.1049, Accuracy=0.9665\n",
      "\n"
     ]
    },
    {
     "name": "stderr",
     "output_type": "stream",
     "text": [
      "Epoch 176: 100%|█████████████████████████████████████████| 100/100 [00:03<00:00, 31.91batch/s, accuracy=96, loss=0.111]\n"
     ]
    },
    {
     "name": "stdout",
     "output_type": "stream",
     "text": [
      "Valid: Loss=0.104, Accuracy=0.9668\n",
      "\n"
     ]
    },
    {
     "name": "stderr",
     "output_type": "stream",
     "text": [
      "Epoch 177: 100%|████████████████████████████████████████| 100/100 [00:03<00:00, 32.06batch/s, accuracy=96.2, loss=0.11]\n"
     ]
    },
    {
     "name": "stdout",
     "output_type": "stream",
     "text": [
      "Valid: Loss=0.105, Accuracy=0.9654\n",
      "\n"
     ]
    },
    {
     "name": "stderr",
     "output_type": "stream",
     "text": [
      "Epoch 178: 100%|███████████████████████████████████████| 100/100 [00:02<00:00, 34.25batch/s, accuracy=96.4, loss=0.106]\n"
     ]
    },
    {
     "name": "stdout",
     "output_type": "stream",
     "text": [
      "Valid: Loss=0.1036, Accuracy=0.9665\n",
      "\n"
     ]
    },
    {
     "name": "stderr",
     "output_type": "stream",
     "text": [
      "Epoch 179: 100%|███████████████████████████████████████| 100/100 [00:02<00:00, 34.05batch/s, accuracy=96.5, loss=0.106]\n"
     ]
    },
    {
     "name": "stdout",
     "output_type": "stream",
     "text": [
      "Valid: Loss=0.1044, Accuracy=0.9654\n",
      "\n"
     ]
    },
    {
     "name": "stderr",
     "output_type": "stream",
     "text": [
      "Epoch 180: 100%|███████████████████████████████████████| 100/100 [00:02<00:00, 33.48batch/s, accuracy=96.2, loss=0.108]\n"
     ]
    },
    {
     "name": "stdout",
     "output_type": "stream",
     "text": [
      "Valid: Loss=0.1027, Accuracy=0.968\n",
      "\n"
     ]
    },
    {
     "name": "stderr",
     "output_type": "stream",
     "text": [
      "Epoch 181: 100%|███████████████████████████████████████| 100/100 [00:02<00:00, 33.90batch/s, accuracy=96.2, loss=0.109]\n"
     ]
    },
    {
     "name": "stdout",
     "output_type": "stream",
     "text": [
      "Valid: Loss=0.1035, Accuracy=0.9677\n",
      "\n"
     ]
    },
    {
     "name": "stderr",
     "output_type": "stream",
     "text": [
      "Epoch 182: 100%|███████████████████████████████████████| 100/100 [00:02<00:00, 35.66batch/s, accuracy=96.3, loss=0.106]\n"
     ]
    },
    {
     "name": "stdout",
     "output_type": "stream",
     "text": [
      "Valid: Loss=0.105, Accuracy=0.9659\n",
      "\n"
     ]
    },
    {
     "name": "stderr",
     "output_type": "stream",
     "text": [
      "Epoch 183: 100%|███████████████████████████████████████| 100/100 [00:02<00:00, 35.45batch/s, accuracy=96.4, loss=0.106]\n"
     ]
    },
    {
     "name": "stdout",
     "output_type": "stream",
     "text": [
      "Valid: Loss=0.1028, Accuracy=0.9685\n",
      "\n"
     ]
    },
    {
     "name": "stderr",
     "output_type": "stream",
     "text": [
      "Epoch 184: 100%|███████████████████████████████████████| 100/100 [00:02<00:00, 36.88batch/s, accuracy=96.5, loss=0.108]\n"
     ]
    },
    {
     "name": "stdout",
     "output_type": "stream",
     "text": [
      "Valid: Loss=0.1042, Accuracy=0.9674\n",
      "\n"
     ]
    },
    {
     "name": "stderr",
     "output_type": "stream",
     "text": [
      "Epoch 185: 100%|███████████████████████████████████████| 100/100 [00:02<00:00, 39.92batch/s, accuracy=96.3, loss=0.107]\n"
     ]
    },
    {
     "name": "stdout",
     "output_type": "stream",
     "text": [
      "Valid: Loss=0.1017, Accuracy=0.9691\n",
      "\n"
     ]
    },
    {
     "name": "stderr",
     "output_type": "stream",
     "text": [
      "Epoch 186: 100%|██████████████████████████████████████| 100/100 [00:00<00:00, 109.89batch/s, accuracy=96.5, loss=0.105]\n"
     ]
    },
    {
     "name": "stdout",
     "output_type": "stream",
     "text": [
      "Valid: Loss=0.1024, Accuracy=0.9674\n",
      "\n"
     ]
    },
    {
     "name": "stderr",
     "output_type": "stream",
     "text": [
      "Epoch 187: 100%|███████████████████████████████████████| 100/100 [00:01<00:00, 85.63batch/s, accuracy=96.5, loss=0.103]\n"
     ]
    },
    {
     "name": "stdout",
     "output_type": "stream",
     "text": [
      "Valid: Loss=0.1028, Accuracy=0.9677\n",
      "\n"
     ]
    },
    {
     "name": "stderr",
     "output_type": "stream",
     "text": [
      "Epoch 188: 100%|███████████████████████████████████████| 100/100 [00:03<00:00, 31.81batch/s, accuracy=96.3, loss=0.106]\n"
     ]
    },
    {
     "name": "stdout",
     "output_type": "stream",
     "text": [
      "Valid: Loss=0.1021, Accuracy=0.968\n",
      "\n"
     ]
    },
    {
     "name": "stderr",
     "output_type": "stream",
     "text": [
      "Epoch 189: 100%|███████████████████████████████████████| 100/100 [00:03<00:00, 28.02batch/s, accuracy=96.5, loss=0.106]\n"
     ]
    },
    {
     "name": "stdout",
     "output_type": "stream",
     "text": [
      "Valid: Loss=0.1015, Accuracy=0.9674\n",
      "\n"
     ]
    },
    {
     "name": "stderr",
     "output_type": "stream",
     "text": [
      "Epoch 190: 100%|███████████████████████████████████████| 100/100 [00:03<00:00, 31.20batch/s, accuracy=96.5, loss=0.107]\n"
     ]
    },
    {
     "name": "stdout",
     "output_type": "stream",
     "text": [
      "Valid: Loss=0.1043, Accuracy=0.9662\n",
      "\n"
     ]
    },
    {
     "name": "stderr",
     "output_type": "stream",
     "text": [
      "Epoch 191: 100%|███████████████████████████████████████| 100/100 [00:03<00:00, 31.97batch/s, accuracy=96.4, loss=0.106]\n"
     ]
    },
    {
     "name": "stdout",
     "output_type": "stream",
     "text": [
      "Valid: Loss=0.1013, Accuracy=0.968\n",
      "\n"
     ]
    },
    {
     "name": "stderr",
     "output_type": "stream",
     "text": [
      "Epoch 192: 100%|███████████████████████████████████████| 100/100 [00:03<00:00, 31.03batch/s, accuracy=96.3, loss=0.107]\n"
     ]
    },
    {
     "name": "stdout",
     "output_type": "stream",
     "text": [
      "Valid: Loss=0.1003, Accuracy=0.9668\n",
      "\n"
     ]
    },
    {
     "name": "stderr",
     "output_type": "stream",
     "text": [
      "Epoch 193: 100%|███████████████████████████████████████| 100/100 [00:03<00:00, 32.68batch/s, accuracy=96.4, loss=0.107]\n"
     ]
    },
    {
     "name": "stdout",
     "output_type": "stream",
     "text": [
      "Valid: Loss=0.09988, Accuracy=0.9677\n",
      "\n"
     ]
    },
    {
     "name": "stderr",
     "output_type": "stream",
     "text": [
      "Epoch 194: 100%|███████████████████████████████████████| 100/100 [00:03<00:00, 30.72batch/s, accuracy=96.4, loss=0.105]\n"
     ]
    },
    {
     "name": "stdout",
     "output_type": "stream",
     "text": [
      "Valid: Loss=0.09871, Accuracy=0.9685\n",
      "\n"
     ]
    },
    {
     "name": "stderr",
     "output_type": "stream",
     "text": [
      "Epoch 195: 100%|███████████████████████████████████████| 100/100 [00:03<00:00, 31.63batch/s, accuracy=96.4, loss=0.105]\n"
     ]
    },
    {
     "name": "stdout",
     "output_type": "stream",
     "text": [
      "Valid: Loss=0.1018, Accuracy=0.9677\n",
      "\n"
     ]
    },
    {
     "name": "stderr",
     "output_type": "stream",
     "text": [
      "Epoch 196: 100%|███████████████████████████████████████| 100/100 [00:03<00:00, 30.16batch/s, accuracy=96.6, loss=0.103]\n"
     ]
    },
    {
     "name": "stdout",
     "output_type": "stream",
     "text": [
      "Valid: Loss=0.1017, Accuracy=0.9674\n",
      "\n"
     ]
    },
    {
     "name": "stderr",
     "output_type": "stream",
     "text": [
      "Epoch 197: 100%|███████████████████████████████████████| 100/100 [00:03<00:00, 29.38batch/s, accuracy=96.5, loss=0.106]\n"
     ]
    },
    {
     "name": "stdout",
     "output_type": "stream",
     "text": [
      "Valid: Loss=0.1001, Accuracy=0.9674\n",
      "\n"
     ]
    },
    {
     "name": "stderr",
     "output_type": "stream",
     "text": [
      "Epoch 198: 100%|███████████████████████████████████████| 100/100 [00:03<00:00, 31.66batch/s, accuracy=96.5, loss=0.101]\n"
     ]
    },
    {
     "name": "stdout",
     "output_type": "stream",
     "text": [
      "Valid: Loss=0.1002, Accuracy=0.9682\n",
      "\n"
     ]
    },
    {
     "name": "stderr",
     "output_type": "stream",
     "text": [
      "Epoch 199: 100%|█████████████████████████████████████████| 100/100 [00:03<00:00, 30.46batch/s, accuracy=96.6, loss=0.1]\n"
     ]
    },
    {
     "name": "stdout",
     "output_type": "stream",
     "text": [
      "Valid: Loss=0.09952, Accuracy=0.9688\n",
      "\n"
     ]
    },
    {
     "name": "stderr",
     "output_type": "stream",
     "text": [
      "Epoch 200: 100%|███████████████████████████████████████| 100/100 [00:03<00:00, 30.68batch/s, accuracy=96.4, loss=0.107]\n"
     ]
    },
    {
     "name": "stdout",
     "output_type": "stream",
     "text": [
      "Valid: Loss=0.1019, Accuracy=0.9674\n",
      "\n"
     ]
    },
    {
     "name": "stderr",
     "output_type": "stream",
     "text": [
      "Epoch 201: 100%|███████████████████████████████████████| 100/100 [00:03<00:00, 30.49batch/s, accuracy=96.5, loss=0.109]\n"
     ]
    },
    {
     "name": "stdout",
     "output_type": "stream",
     "text": [
      "Valid: Loss=0.09851, Accuracy=0.9688\n",
      "\n"
     ]
    },
    {
     "name": "stderr",
     "output_type": "stream",
     "text": [
      "Epoch 202: 100%|███████████████████████████████████████| 100/100 [00:03<00:00, 29.98batch/s, accuracy=96.6, loss=0.107]\n"
     ]
    },
    {
     "name": "stdout",
     "output_type": "stream",
     "text": [
      "Valid: Loss=0.1011, Accuracy=0.9668\n",
      "\n"
     ]
    },
    {
     "name": "stderr",
     "output_type": "stream",
     "text": [
      "Epoch 203: 100%|██████████████████████████████████████| 100/100 [00:02<00:00, 33.36batch/s, accuracy=96.7, loss=0.0999]\n"
     ]
    },
    {
     "name": "stdout",
     "output_type": "stream",
     "text": [
      "Valid: Loss=0.09932, Accuracy=0.9691\n",
      "\n"
     ]
    },
    {
     "name": "stderr",
     "output_type": "stream",
     "text": [
      "Epoch 204: 100%|███████████████████████████████████████| 100/100 [00:03<00:00, 32.89batch/s, accuracy=96.5, loss=0.105]\n"
     ]
    },
    {
     "name": "stdout",
     "output_type": "stream",
     "text": [
      "Valid: Loss=0.09805, Accuracy=0.9697\n",
      "\n"
     ]
    },
    {
     "name": "stderr",
     "output_type": "stream",
     "text": [
      "Epoch 205: 100%|██████████████████████████████████████| 100/100 [00:02<00:00, 34.39batch/s, accuracy=96.6, loss=0.0993]\n"
     ]
    },
    {
     "name": "stdout",
     "output_type": "stream",
     "text": [
      "Valid: Loss=0.09819, Accuracy=0.9697\n",
      "\n"
     ]
    },
    {
     "name": "stderr",
     "output_type": "stream",
     "text": [
      "Epoch 206: 100%|███████████████████████████████████████| 100/100 [00:02<00:00, 33.49batch/s, accuracy=96.7, loss=0.102]\n"
     ]
    },
    {
     "name": "stdout",
     "output_type": "stream",
     "text": [
      "Valid: Loss=0.09874, Accuracy=0.9691\n",
      "\n"
     ]
    },
    {
     "name": "stderr",
     "output_type": "stream",
     "text": [
      "Epoch 207: 100%|███████████████████████████████████████| 100/100 [00:02<00:00, 34.88batch/s, accuracy=96.6, loss=0.101]\n"
     ]
    },
    {
     "name": "stdout",
     "output_type": "stream",
     "text": [
      "Valid: Loss=0.09835, Accuracy=0.9703\n",
      "\n"
     ]
    },
    {
     "name": "stderr",
     "output_type": "stream",
     "text": [
      "Epoch 208: 100%|███████████████████████████████████████| 100/100 [00:02<00:00, 34.21batch/s, accuracy=96.6, loss=0.104]\n"
     ]
    },
    {
     "name": "stdout",
     "output_type": "stream",
     "text": [
      "Valid: Loss=0.09934, Accuracy=0.9688\n",
      "\n"
     ]
    },
    {
     "name": "stderr",
     "output_type": "stream",
     "text": [
      "Epoch 209: 100%|███████████████████████████████████████| 100/100 [00:02<00:00, 34.10batch/s, accuracy=96.6, loss=0.102]\n"
     ]
    },
    {
     "name": "stdout",
     "output_type": "stream",
     "text": [
      "Valid: Loss=0.09676, Accuracy=0.9694\n",
      "\n"
     ]
    },
    {
     "name": "stderr",
     "output_type": "stream",
     "text": [
      "Epoch 210: 100%|███████████████████████████████████████| 100/100 [00:02<00:00, 34.57batch/s, accuracy=96.5, loss=0.106]\n"
     ]
    },
    {
     "name": "stdout",
     "output_type": "stream",
     "text": [
      "Valid: Loss=0.1023, Accuracy=0.9674\n",
      "\n"
     ]
    },
    {
     "name": "stderr",
     "output_type": "stream",
     "text": [
      "Epoch 211: 100%|███████████████████████████████████████| 100/100 [00:02<00:00, 35.06batch/s, accuracy=96.6, loss=0.101]\n"
     ]
    },
    {
     "name": "stdout",
     "output_type": "stream",
     "text": [
      "Valid: Loss=0.09831, Accuracy=0.9682\n",
      "\n"
     ]
    },
    {
     "name": "stderr",
     "output_type": "stream",
     "text": [
      "Epoch 212: 100%|██████████████████████████████████████| 100/100 [00:02<00:00, 35.16batch/s, accuracy=96.8, loss=0.0968]\n"
     ]
    },
    {
     "name": "stdout",
     "output_type": "stream",
     "text": [
      "Valid: Loss=0.09821, Accuracy=0.9703\n",
      "\n"
     ]
    },
    {
     "name": "stderr",
     "output_type": "stream",
     "text": [
      "Epoch 213: 100%|██████████████████████████████████████| 100/100 [00:02<00:00, 35.07batch/s, accuracy=96.8, loss=0.0972]\n"
     ]
    },
    {
     "name": "stdout",
     "output_type": "stream",
     "text": [
      "Valid: Loss=0.09673, Accuracy=0.9694\n",
      "\n"
     ]
    },
    {
     "name": "stderr",
     "output_type": "stream",
     "text": [
      "Epoch 214: 100%|███████████████████████████████████████| 100/100 [00:02<00:00, 34.06batch/s, accuracy=96.5, loss=0.102]\n"
     ]
    },
    {
     "name": "stdout",
     "output_type": "stream",
     "text": [
      "Valid: Loss=0.09916, Accuracy=0.9685\n",
      "\n"
     ]
    },
    {
     "name": "stderr",
     "output_type": "stream",
     "text": [
      "Epoch 215: 100%|███████████████████████████████████████| 100/100 [00:02<00:00, 35.19batch/s, accuracy=96.5, loss=0.102]\n"
     ]
    },
    {
     "name": "stdout",
     "output_type": "stream",
     "text": [
      "Valid: Loss=0.09645, Accuracy=0.9682\n",
      "\n"
     ]
    },
    {
     "name": "stderr",
     "output_type": "stream",
     "text": [
      "Epoch 216: 100%|█████████████████████████████████████████| 100/100 [00:02<00:00, 35.38batch/s, accuracy=96.6, loss=0.1]\n"
     ]
    },
    {
     "name": "stdout",
     "output_type": "stream",
     "text": [
      "Valid: Loss=0.09835, Accuracy=0.968\n",
      "\n"
     ]
    },
    {
     "name": "stderr",
     "output_type": "stream",
     "text": [
      "Epoch 217: 100%|██████████████████████████████████████| 100/100 [00:02<00:00, 35.37batch/s, accuracy=96.7, loss=0.0987]\n"
     ]
    },
    {
     "name": "stdout",
     "output_type": "stream",
     "text": [
      "Valid: Loss=0.09842, Accuracy=0.9688\n",
      "\n"
     ]
    },
    {
     "name": "stderr",
     "output_type": "stream",
     "text": [
      "Epoch 218: 100%|█████████████████████████████████████████| 100/100 [00:02<00:00, 35.92batch/s, accuracy=96.6, loss=0.1]\n"
     ]
    },
    {
     "name": "stdout",
     "output_type": "stream",
     "text": [
      "Valid: Loss=0.09608, Accuracy=0.9703\n",
      "\n"
     ]
    },
    {
     "name": "stderr",
     "output_type": "stream",
     "text": [
      "Epoch 219: 100%|███████████████████████████████████████| 100/100 [00:02<00:00, 36.43batch/s, accuracy=96.5, loss=0.102]\n"
     ]
    },
    {
     "name": "stdout",
     "output_type": "stream",
     "text": [
      "Valid: Loss=0.096, Accuracy=0.9694\n",
      "\n"
     ]
    },
    {
     "name": "stderr",
     "output_type": "stream",
     "text": [
      "Epoch 220: 100%|█████████████████████████████████████████| 100/100 [00:02<00:00, 35.88batch/s, accuracy=96.6, loss=0.1]\n"
     ]
    },
    {
     "name": "stdout",
     "output_type": "stream",
     "text": [
      "Valid: Loss=0.0971, Accuracy=0.968\n",
      "\n"
     ]
    },
    {
     "name": "stderr",
     "output_type": "stream",
     "text": [
      "Epoch 221: 100%|███████████████████████████████████████| 100/100 [00:02<00:00, 35.19batch/s, accuracy=96.7, loss=0.098]\n"
     ]
    },
    {
     "name": "stdout",
     "output_type": "stream",
     "text": [
      "Valid: Loss=0.09844, Accuracy=0.9688\n",
      "\n"
     ]
    },
    {
     "name": "stderr",
     "output_type": "stream",
     "text": [
      "Epoch 222: 100%|█████████████████████████████████████████| 100/100 [00:02<00:00, 35.81batch/s, accuracy=96.5, loss=0.1]\n"
     ]
    },
    {
     "name": "stdout",
     "output_type": "stream",
     "text": [
      "Valid: Loss=0.09646, Accuracy=0.9694\n",
      "\n"
     ]
    },
    {
     "name": "stderr",
     "output_type": "stream",
     "text": [
      "Epoch 223: 100%|██████████████████████████████████████| 100/100 [00:02<00:00, 33.76batch/s, accuracy=96.8, loss=0.0947]\n"
     ]
    },
    {
     "name": "stdout",
     "output_type": "stream",
     "text": [
      "Valid: Loss=0.09412, Accuracy=0.9711\n",
      "\n"
     ]
    },
    {
     "name": "stderr",
     "output_type": "stream",
     "text": [
      "Epoch 224: 100%|██████████████████████████████████████| 100/100 [00:03<00:00, 32.51batch/s, accuracy=96.6, loss=0.0964]\n"
     ]
    },
    {
     "name": "stdout",
     "output_type": "stream",
     "text": [
      "Valid: Loss=0.09683, Accuracy=0.968\n",
      "\n"
     ]
    },
    {
     "name": "stderr",
     "output_type": "stream",
     "text": [
      "Epoch 225: 100%|██████████████████████████████████████| 100/100 [00:03<00:00, 32.83batch/s, accuracy=96.8, loss=0.0985]\n"
     ]
    },
    {
     "name": "stdout",
     "output_type": "stream",
     "text": [
      "Valid: Loss=0.09508, Accuracy=0.9694\n",
      "\n"
     ]
    },
    {
     "name": "stderr",
     "output_type": "stream",
     "text": [
      "Epoch 226: 100%|██████████████████████████████████████| 100/100 [00:02<00:00, 34.18batch/s, accuracy=96.8, loss=0.0948]\n"
     ]
    },
    {
     "name": "stdout",
     "output_type": "stream",
     "text": [
      "Valid: Loss=0.09416, Accuracy=0.9691\n",
      "\n"
     ]
    },
    {
     "name": "stderr",
     "output_type": "stream",
     "text": [
      "Epoch 227: 100%|███████████████████████████████████████| 100/100 [00:03<00:00, 32.46batch/s, accuracy=96.8, loss=0.095]\n"
     ]
    },
    {
     "name": "stdout",
     "output_type": "stream",
     "text": [
      "Valid: Loss=0.09519, Accuracy=0.9691\n",
      "\n"
     ]
    },
    {
     "name": "stderr",
     "output_type": "stream",
     "text": [
      "Epoch 228: 100%|██████████████████████████████████████| 100/100 [00:03<00:00, 32.17batch/s, accuracy=96.6, loss=0.0998]\n"
     ]
    },
    {
     "name": "stdout",
     "output_type": "stream",
     "text": [
      "Valid: Loss=0.09326, Accuracy=0.97\n",
      "\n"
     ]
    },
    {
     "name": "stderr",
     "output_type": "stream",
     "text": [
      "Epoch 229: 100%|██████████████████████████████████████| 100/100 [00:03<00:00, 32.04batch/s, accuracy=96.8, loss=0.0977]\n"
     ]
    },
    {
     "name": "stdout",
     "output_type": "stream",
     "text": [
      "Valid: Loss=0.09322, Accuracy=0.9691\n",
      "\n"
     ]
    },
    {
     "name": "stderr",
     "output_type": "stream",
     "text": [
      "Epoch 230: 100%|██████████████████████████████████████| 100/100 [00:03<00:00, 32.46batch/s, accuracy=96.8, loss=0.0961]\n"
     ]
    },
    {
     "name": "stdout",
     "output_type": "stream",
     "text": [
      "Valid: Loss=0.09383, Accuracy=0.97\n",
      "\n"
     ]
    },
    {
     "name": "stderr",
     "output_type": "stream",
     "text": [
      "Epoch 231: 100%|██████████████████████████████████████| 100/100 [00:02<00:00, 35.44batch/s, accuracy=96.8, loss=0.0978]\n"
     ]
    },
    {
     "name": "stdout",
     "output_type": "stream",
     "text": [
      "Valid: Loss=0.09333, Accuracy=0.9674\n",
      "\n"
     ]
    },
    {
     "name": "stderr",
     "output_type": "stream",
     "text": [
      "Epoch 232: 100%|██████████████████████████████████████| 100/100 [00:03<00:00, 33.31batch/s, accuracy=96.8, loss=0.0981]\n"
     ]
    },
    {
     "name": "stdout",
     "output_type": "stream",
     "text": [
      "Valid: Loss=0.093, Accuracy=0.9703\n",
      "\n"
     ]
    },
    {
     "name": "stderr",
     "output_type": "stream",
     "text": [
      "Epoch 233: 100%|█████████████████████████████████████████| 100/100 [00:02<00:00, 33.73batch/s, accuracy=96.6, loss=0.1]\n"
     ]
    },
    {
     "name": "stdout",
     "output_type": "stream",
     "text": [
      "Valid: Loss=0.09673, Accuracy=0.968\n",
      "\n"
     ]
    },
    {
     "name": "stderr",
     "output_type": "stream",
     "text": [
      "Epoch 234: 100%|███████████████████████████████████████| 100/100 [00:02<00:00, 34.20batch/s, accuracy=96.7, loss=0.095]\n"
     ]
    },
    {
     "name": "stdout",
     "output_type": "stream",
     "text": [
      "Valid: Loss=0.09346, Accuracy=0.9694\n",
      "\n"
     ]
    },
    {
     "name": "stderr",
     "output_type": "stream",
     "text": [
      "Epoch 235: 100%|████████████████████████████████████████| 100/100 [00:03<00:00, 33.24batch/s, accuracy=97, loss=0.0928]\n"
     ]
    },
    {
     "name": "stdout",
     "output_type": "stream",
     "text": [
      "Valid: Loss=0.09245, Accuracy=0.97\n",
      "\n"
     ]
    },
    {
     "name": "stderr",
     "output_type": "stream",
     "text": [
      "Epoch 236: 100%|██████████████████████████████████████| 100/100 [00:02<00:00, 34.90batch/s, accuracy=96.7, loss=0.0982]\n"
     ]
    },
    {
     "name": "stdout",
     "output_type": "stream",
     "text": [
      "Valid: Loss=0.09328, Accuracy=0.9706\n",
      "\n"
     ]
    },
    {
     "name": "stderr",
     "output_type": "stream",
     "text": [
      "Epoch 237: 100%|██████████████████████████████████████| 100/100 [00:03<00:00, 30.73batch/s, accuracy=97.1, loss=0.0931]\n"
     ]
    },
    {
     "name": "stdout",
     "output_type": "stream",
     "text": [
      "Valid: Loss=0.09173, Accuracy=0.9703\n",
      "\n"
     ]
    },
    {
     "name": "stderr",
     "output_type": "stream",
     "text": [
      "Epoch 238: 100%|██████████████████████████████████████| 100/100 [00:02<00:00, 34.71batch/s, accuracy=97.1, loss=0.0941]\n"
     ]
    },
    {
     "name": "stdout",
     "output_type": "stream",
     "text": [
      "Valid: Loss=0.09346, Accuracy=0.9711\n",
      "\n"
     ]
    },
    {
     "name": "stderr",
     "output_type": "stream",
     "text": [
      "Epoch 239: 100%|██████████████████████████████████████| 100/100 [00:02<00:00, 35.48batch/s, accuracy=96.9, loss=0.0949]\n"
     ]
    },
    {
     "name": "stdout",
     "output_type": "stream",
     "text": [
      "Valid: Loss=0.09216, Accuracy=0.97\n",
      "\n"
     ]
    },
    {
     "name": "stderr",
     "output_type": "stream",
     "text": [
      "Epoch 240: 100%|██████████████████████████████████████| 100/100 [00:02<00:00, 35.36batch/s, accuracy=96.8, loss=0.0933]\n"
     ]
    },
    {
     "name": "stdout",
     "output_type": "stream",
     "text": [
      "Valid: Loss=0.093, Accuracy=0.9711\n",
      "\n"
     ]
    },
    {
     "name": "stderr",
     "output_type": "stream",
     "text": [
      "Epoch 241: 100%|████████████████████████████████████████| 100/100 [00:02<00:00, 36.12batch/s, accuracy=97, loss=0.0925]\n"
     ]
    },
    {
     "name": "stdout",
     "output_type": "stream",
     "text": [
      "Valid: Loss=0.09176, Accuracy=0.9711\n",
      "\n"
     ]
    },
    {
     "name": "stderr",
     "output_type": "stream",
     "text": [
      "Epoch 242: 100%|██████████████████████████████████████| 100/100 [00:02<00:00, 35.21batch/s, accuracy=96.8, loss=0.0936]\n"
     ]
    },
    {
     "name": "stdout",
     "output_type": "stream",
     "text": [
      "Valid: Loss=0.0917, Accuracy=0.9697\n",
      "\n"
     ]
    },
    {
     "name": "stderr",
     "output_type": "stream",
     "text": [
      "Epoch 243: 100%|████████████████████████████████████████| 100/100 [00:02<00:00, 34.61batch/s, accuracy=97, loss=0.0916]\n"
     ]
    },
    {
     "name": "stdout",
     "output_type": "stream",
     "text": [
      "Valid: Loss=0.09212, Accuracy=0.9694\n",
      "\n"
     ]
    },
    {
     "name": "stderr",
     "output_type": "stream",
     "text": [
      "Epoch 244: 100%|██████████████████████████████████████| 100/100 [00:02<00:00, 35.76batch/s, accuracy=97.1, loss=0.0948]\n"
     ]
    },
    {
     "name": "stdout",
     "output_type": "stream",
     "text": [
      "Valid: Loss=0.08941, Accuracy=0.9717\n",
      "\n"
     ]
    },
    {
     "name": "stderr",
     "output_type": "stream",
     "text": [
      "Epoch 245: 100%|██████████████████████████████████████| 100/100 [00:02<00:00, 35.55batch/s, accuracy=96.9, loss=0.0915]\n"
     ]
    },
    {
     "name": "stdout",
     "output_type": "stream",
     "text": [
      "Valid: Loss=0.09102, Accuracy=0.9711\n",
      "\n"
     ]
    },
    {
     "name": "stderr",
     "output_type": "stream",
     "text": [
      "Epoch 246: 100%|██████████████████████████████████████| 100/100 [00:02<00:00, 35.73batch/s, accuracy=96.8, loss=0.0913]\n"
     ]
    },
    {
     "name": "stdout",
     "output_type": "stream",
     "text": [
      "Valid: Loss=0.09018, Accuracy=0.9717\n",
      "\n"
     ]
    },
    {
     "name": "stderr",
     "output_type": "stream",
     "text": [
      "Epoch 247: 100%|██████████████████████████████████████| 100/100 [00:02<00:00, 34.72batch/s, accuracy=96.8, loss=0.0949]\n"
     ]
    },
    {
     "name": "stdout",
     "output_type": "stream",
     "text": [
      "Valid: Loss=0.09068, Accuracy=0.972\n",
      "\n"
     ]
    },
    {
     "name": "stderr",
     "output_type": "stream",
     "text": [
      "Epoch 248: 100%|██████████████████████████████████████| 100/100 [00:02<00:00, 34.16batch/s, accuracy=96.8, loss=0.0946]\n"
     ]
    },
    {
     "name": "stdout",
     "output_type": "stream",
     "text": [
      "Valid: Loss=0.09019, Accuracy=0.9706\n",
      "\n"
     ]
    },
    {
     "name": "stderr",
     "output_type": "stream",
     "text": [
      "Epoch 249: 100%|██████████████████████████████████████| 100/100 [00:02<00:00, 34.13batch/s, accuracy=97.1, loss=0.0962]\n"
     ]
    },
    {
     "name": "stdout",
     "output_type": "stream",
     "text": [
      "Valid: Loss=0.09079, Accuracy=0.9708\n",
      "\n"
     ]
    },
    {
     "name": "stderr",
     "output_type": "stream",
     "text": [
      "Epoch 250: 100%|███████████████████████████████████████| 100/100 [00:02<00:00, 36.10batch/s, accuracy=96.9, loss=0.095]\n"
     ]
    },
    {
     "name": "stdout",
     "output_type": "stream",
     "text": [
      "Valid: Loss=0.09139, Accuracy=0.9697\n",
      "\n"
     ]
    },
    {
     "name": "stderr",
     "output_type": "stream",
     "text": [
      "Epoch 251: 100%|████████████████████████████████████████| 100/100 [00:03<00:00, 32.73batch/s, accuracy=97, loss=0.0919]\n"
     ]
    },
    {
     "name": "stdout",
     "output_type": "stream",
     "text": [
      "Valid: Loss=0.08889, Accuracy=0.9694\n",
      "\n"
     ]
    },
    {
     "name": "stderr",
     "output_type": "stream",
     "text": [
      "Epoch 252: 100%|███████████████████████████████████████| 100/100 [00:03<00:00, 32.38batch/s, accuracy=96.9, loss=0.092]\n"
     ]
    },
    {
     "name": "stdout",
     "output_type": "stream",
     "text": [
      "Valid: Loss=0.08773, Accuracy=0.9717\n",
      "\n"
     ]
    },
    {
     "name": "stderr",
     "output_type": "stream",
     "text": [
      "Epoch 253: 100%|██████████████████████████████████████| 100/100 [00:03<00:00, 33.21batch/s, accuracy=97.1, loss=0.0923]\n"
     ]
    },
    {
     "name": "stdout",
     "output_type": "stream",
     "text": [
      "Valid: Loss=0.0908, Accuracy=0.9706\n",
      "\n"
     ]
    },
    {
     "name": "stderr",
     "output_type": "stream",
     "text": [
      "Epoch 254: 100%|████████████████████████████████████████| 100/100 [00:03<00:00, 31.39batch/s, accuracy=97, loss=0.0908]\n"
     ]
    },
    {
     "name": "stdout",
     "output_type": "stream",
     "text": [
      "Valid: Loss=0.09029, Accuracy=0.9717\n",
      "\n"
     ]
    },
    {
     "name": "stderr",
     "output_type": "stream",
     "text": [
      "Epoch 255: 100%|██████████████████████████████████████| 100/100 [00:02<00:00, 36.80batch/s, accuracy=97.1, loss=0.0901]\n"
     ]
    },
    {
     "name": "stdout",
     "output_type": "stream",
     "text": [
      "Valid: Loss=0.08909, Accuracy=0.9711\n",
      "\n"
     ]
    },
    {
     "name": "stderr",
     "output_type": "stream",
     "text": [
      "Epoch 256: 100%|██████████████████████████████████████| 100/100 [00:03<00:00, 31.65batch/s, accuracy=97.1, loss=0.0917]\n"
     ]
    },
    {
     "name": "stdout",
     "output_type": "stream",
     "text": [
      "Valid: Loss=0.08835, Accuracy=0.9717\n",
      "\n"
     ]
    },
    {
     "name": "stderr",
     "output_type": "stream",
     "text": [
      "Epoch 257: 100%|████████████████████████████████████████| 100/100 [00:02<00:00, 33.68batch/s, accuracy=97, loss=0.0902]\n"
     ]
    },
    {
     "name": "stdout",
     "output_type": "stream",
     "text": [
      "Valid: Loss=0.08756, Accuracy=0.9729\n",
      "\n"
     ]
    },
    {
     "name": "stderr",
     "output_type": "stream",
     "text": [
      "Epoch 258: 100%|██████████████████████████████████████| 100/100 [00:02<00:00, 34.42batch/s, accuracy=96.9, loss=0.0927]\n"
     ]
    },
    {
     "name": "stdout",
     "output_type": "stream",
     "text": [
      "Valid: Loss=0.08727, Accuracy=0.972\n",
      "\n"
     ]
    },
    {
     "name": "stderr",
     "output_type": "stream",
     "text": [
      "Epoch 259: 100%|████████████████████████████████████████| 100/100 [00:02<00:00, 33.93batch/s, accuracy=97, loss=0.0907]\n"
     ]
    },
    {
     "name": "stdout",
     "output_type": "stream",
     "text": [
      "Valid: Loss=0.08751, Accuracy=0.9723\n",
      "\n"
     ]
    },
    {
     "name": "stderr",
     "output_type": "stream",
     "text": [
      "Epoch 260: 100%|████████████████████████████████████████| 100/100 [00:02<00:00, 33.67batch/s, accuracy=97, loss=0.0915]\n"
     ]
    },
    {
     "name": "stdout",
     "output_type": "stream",
     "text": [
      "Valid: Loss=0.0879, Accuracy=0.9717\n",
      "\n"
     ]
    },
    {
     "name": "stderr",
     "output_type": "stream",
     "text": [
      "Epoch 261: 100%|██████████████████████████████████████| 100/100 [00:02<00:00, 35.00batch/s, accuracy=96.9, loss=0.0937]\n"
     ]
    },
    {
     "name": "stdout",
     "output_type": "stream",
     "text": [
      "Valid: Loss=0.08794, Accuracy=0.9706\n",
      "\n"
     ]
    },
    {
     "name": "stderr",
     "output_type": "stream",
     "text": [
      "Epoch 262: 100%|████████████████████████████████████████| 100/100 [00:02<00:00, 34.27batch/s, accuracy=97, loss=0.0918]\n"
     ]
    },
    {
     "name": "stdout",
     "output_type": "stream",
     "text": [
      "Valid: Loss=0.08808, Accuracy=0.9726\n",
      "\n"
     ]
    },
    {
     "name": "stderr",
     "output_type": "stream",
     "text": [
      "Epoch 263: 100%|██████████████████████████████████████| 100/100 [00:02<00:00, 36.66batch/s, accuracy=97.2, loss=0.0859]\n"
     ]
    },
    {
     "name": "stdout",
     "output_type": "stream",
     "text": [
      "Valid: Loss=0.08657, Accuracy=0.9717\n",
      "\n"
     ]
    },
    {
     "name": "stderr",
     "output_type": "stream",
     "text": [
      "Epoch 264: 100%|████████████████████████████████████████| 100/100 [00:02<00:00, 35.67batch/s, accuracy=97, loss=0.0905]\n"
     ]
    },
    {
     "name": "stdout",
     "output_type": "stream",
     "text": [
      "Valid: Loss=0.0866, Accuracy=0.9729\n",
      "\n"
     ]
    },
    {
     "name": "stderr",
     "output_type": "stream",
     "text": [
      "Epoch 265: 100%|██████████████████████████████████████| 100/100 [00:02<00:00, 35.88batch/s, accuracy=96.9, loss=0.0907]\n"
     ]
    },
    {
     "name": "stdout",
     "output_type": "stream",
     "text": [
      "Valid: Loss=0.0871, Accuracy=0.9726\n",
      "\n"
     ]
    },
    {
     "name": "stderr",
     "output_type": "stream",
     "text": [
      "Epoch 266: 100%|████████████████████████████████████████| 100/100 [00:02<00:00, 35.07batch/s, accuracy=97, loss=0.0891]\n"
     ]
    },
    {
     "name": "stdout",
     "output_type": "stream",
     "text": [
      "Valid: Loss=0.08643, Accuracy=0.9732\n",
      "\n"
     ]
    },
    {
     "name": "stderr",
     "output_type": "stream",
     "text": [
      "Epoch 267: 100%|██████████████████████████████████████| 100/100 [00:02<00:00, 35.07batch/s, accuracy=97.1, loss=0.0881]\n"
     ]
    },
    {
     "name": "stdout",
     "output_type": "stream",
     "text": [
      "Valid: Loss=0.08579, Accuracy=0.9729\n",
      "\n"
     ]
    },
    {
     "name": "stderr",
     "output_type": "stream",
     "text": [
      "Epoch 268: 100%|██████████████████████████████████████| 100/100 [00:02<00:00, 34.49batch/s, accuracy=96.9, loss=0.0929]\n"
     ]
    },
    {
     "name": "stdout",
     "output_type": "stream",
     "text": [
      "Valid: Loss=0.08638, Accuracy=0.972\n",
      "\n"
     ]
    },
    {
     "name": "stderr",
     "output_type": "stream",
     "text": [
      "Epoch 269: 100%|██████████████████████████████████████| 100/100 [00:02<00:00, 35.28batch/s, accuracy=97.2, loss=0.0886]\n"
     ]
    },
    {
     "name": "stdout",
     "output_type": "stream",
     "text": [
      "Valid: Loss=0.08888, Accuracy=0.9697\n",
      "\n"
     ]
    },
    {
     "name": "stderr",
     "output_type": "stream",
     "text": [
      "Epoch 270: 100%|████████████████████████████████████████| 100/100 [00:02<00:00, 35.66batch/s, accuracy=97, loss=0.0895]\n"
     ]
    },
    {
     "name": "stdout",
     "output_type": "stream",
     "text": [
      "Valid: Loss=0.08574, Accuracy=0.9732\n",
      "\n"
     ]
    },
    {
     "name": "stderr",
     "output_type": "stream",
     "text": [
      "Epoch 271: 100%|██████████████████████████████████████| 100/100 [00:02<00:00, 35.88batch/s, accuracy=97.2, loss=0.0879]\n"
     ]
    },
    {
     "name": "stdout",
     "output_type": "stream",
     "text": [
      "Valid: Loss=0.08675, Accuracy=0.9726\n",
      "\n"
     ]
    },
    {
     "name": "stderr",
     "output_type": "stream",
     "text": [
      "Epoch 272: 100%|████████████████████████████████████████| 100/100 [00:02<00:00, 34.91batch/s, accuracy=97, loss=0.0904]\n"
     ]
    },
    {
     "name": "stdout",
     "output_type": "stream",
     "text": [
      "Valid: Loss=0.08712, Accuracy=0.972\n",
      "\n"
     ]
    },
    {
     "name": "stderr",
     "output_type": "stream",
     "text": [
      "Epoch 273: 100%|██████████████████████████████████████| 100/100 [00:02<00:00, 35.27batch/s, accuracy=97.1, loss=0.0886]\n"
     ]
    },
    {
     "name": "stdout",
     "output_type": "stream",
     "text": [
      "Valid: Loss=0.08743, Accuracy=0.9717\n",
      "\n"
     ]
    },
    {
     "name": "stderr",
     "output_type": "stream",
     "text": [
      "Epoch 274: 100%|██████████████████████████████████████| 100/100 [00:02<00:00, 33.95batch/s, accuracy=97.3, loss=0.0851]\n"
     ]
    },
    {
     "name": "stdout",
     "output_type": "stream",
     "text": [
      "Valid: Loss=0.08399, Accuracy=0.9737\n",
      "\n"
     ]
    },
    {
     "name": "stderr",
     "output_type": "stream",
     "text": [
      "Epoch 275: 100%|████████████████████████████████████████| 100/100 [00:02<00:00, 33.97batch/s, accuracy=97, loss=0.0888]\n"
     ]
    },
    {
     "name": "stdout",
     "output_type": "stream",
     "text": [
      "Valid: Loss=0.08625, Accuracy=0.9726\n",
      "\n"
     ]
    },
    {
     "name": "stderr",
     "output_type": "stream",
     "text": [
      "Epoch 276: 100%|██████████████████████████████████████| 100/100 [00:02<00:00, 36.88batch/s, accuracy=97.2, loss=0.0851]\n"
     ]
    },
    {
     "name": "stdout",
     "output_type": "stream",
     "text": [
      "Valid: Loss=0.08427, Accuracy=0.9743\n",
      "\n"
     ]
    },
    {
     "name": "stderr",
     "output_type": "stream",
     "text": [
      "Epoch 277: 100%|████████████████████████████████████████| 100/100 [00:03<00:00, 31.23batch/s, accuracy=97, loss=0.0906]\n"
     ]
    },
    {
     "name": "stdout",
     "output_type": "stream",
     "text": [
      "Valid: Loss=0.08622, Accuracy=0.9729\n",
      "\n"
     ]
    },
    {
     "name": "stderr",
     "output_type": "stream",
     "text": [
      "Epoch 278: 100%|██████████████████████████████████████| 100/100 [00:02<00:00, 33.74batch/s, accuracy=97.1, loss=0.0886]\n"
     ]
    },
    {
     "name": "stdout",
     "output_type": "stream",
     "text": [
      "Valid: Loss=0.08379, Accuracy=0.9737\n",
      "\n"
     ]
    },
    {
     "name": "stderr",
     "output_type": "stream",
     "text": [
      "Epoch 279: 100%|██████████████████████████████████████| 100/100 [00:03<00:00, 32.85batch/s, accuracy=97.2, loss=0.0844]\n"
     ]
    },
    {
     "name": "stdout",
     "output_type": "stream",
     "text": [
      "Valid: Loss=0.08622, Accuracy=0.9723\n",
      "\n"
     ]
    },
    {
     "name": "stderr",
     "output_type": "stream",
     "text": [
      "Epoch 280: 100%|██████████████████████████████████████| 100/100 [00:02<00:00, 36.25batch/s, accuracy=97.3, loss=0.0873]\n"
     ]
    },
    {
     "name": "stdout",
     "output_type": "stream",
     "text": [
      "Valid: Loss=0.08687, Accuracy=0.9732\n",
      "\n"
     ]
    },
    {
     "name": "stderr",
     "output_type": "stream",
     "text": [
      "Epoch 281: 100%|████████████████████████████████████████| 100/100 [00:03<00:00, 33.02batch/s, accuracy=97, loss=0.0908]\n"
     ]
    },
    {
     "name": "stdout",
     "output_type": "stream",
     "text": [
      "Valid: Loss=0.08807, Accuracy=0.9729\n",
      "\n"
     ]
    },
    {
     "name": "stderr",
     "output_type": "stream",
     "text": [
      "Epoch 282: 100%|████████████████████████████████████████| 100/100 [00:03<00:00, 32.83batch/s, accuracy=97, loss=0.0902]\n"
     ]
    },
    {
     "name": "stdout",
     "output_type": "stream",
     "text": [
      "Valid: Loss=0.08656, Accuracy=0.9717\n",
      "\n"
     ]
    },
    {
     "name": "stderr",
     "output_type": "stream",
     "text": [
      "Epoch 283: 100%|██████████████████████████████████████| 100/100 [00:02<00:00, 33.74batch/s, accuracy=97.2, loss=0.0858]\n"
     ]
    },
    {
     "name": "stdout",
     "output_type": "stream",
     "text": [
      "Valid: Loss=0.08606, Accuracy=0.9729\n",
      "\n"
     ]
    },
    {
     "name": "stderr",
     "output_type": "stream",
     "text": [
      "Epoch 284: 100%|███████████████████████████████████████| 100/100 [00:03<00:00, 32.35batch/s, accuracy=97.1, loss=0.088]\n"
     ]
    },
    {
     "name": "stdout",
     "output_type": "stream",
     "text": [
      "Valid: Loss=0.08438, Accuracy=0.9758\n",
      "\n"
     ]
    },
    {
     "name": "stderr",
     "output_type": "stream",
     "text": [
      "Epoch 285: 100%|██████████████████████████████████████| 100/100 [00:03<00:00, 32.18batch/s, accuracy=97.1, loss=0.0898]\n"
     ]
    },
    {
     "name": "stdout",
     "output_type": "stream",
     "text": [
      "Valid: Loss=0.085, Accuracy=0.9737\n",
      "\n"
     ]
    },
    {
     "name": "stderr",
     "output_type": "stream",
     "text": [
      "Epoch 286: 100%|██████████████████████████████████████| 100/100 [00:02<00:00, 36.44batch/s, accuracy=97.1, loss=0.0902]\n"
     ]
    },
    {
     "name": "stdout",
     "output_type": "stream",
     "text": [
      "Valid: Loss=0.08588, Accuracy=0.9732\n",
      "\n"
     ]
    },
    {
     "name": "stderr",
     "output_type": "stream",
     "text": [
      "Epoch 287: 100%|██████████████████████████████████████| 100/100 [00:02<00:00, 34.27batch/s, accuracy=97.1, loss=0.0862]\n"
     ]
    },
    {
     "name": "stdout",
     "output_type": "stream",
     "text": [
      "Valid: Loss=0.08496, Accuracy=0.972\n",
      "\n"
     ]
    },
    {
     "name": "stderr",
     "output_type": "stream",
     "text": [
      "Epoch 288: 100%|██████████████████████████████████████| 100/100 [00:02<00:00, 34.46batch/s, accuracy=97.3, loss=0.0845]\n"
     ]
    },
    {
     "name": "stdout",
     "output_type": "stream",
     "text": [
      "Valid: Loss=0.08486, Accuracy=0.9737\n",
      "\n"
     ]
    },
    {
     "name": "stderr",
     "output_type": "stream",
     "text": [
      "Epoch 289: 100%|██████████████████████████████████████| 100/100 [00:02<00:00, 34.28batch/s, accuracy=97.2, loss=0.0881]\n"
     ]
    },
    {
     "name": "stdout",
     "output_type": "stream",
     "text": [
      "Valid: Loss=0.08567, Accuracy=0.9729\n",
      "\n"
     ]
    },
    {
     "name": "stderr",
     "output_type": "stream",
     "text": [
      "Epoch 290: 100%|████████████████████████████████████████| 100/100 [00:02<00:00, 34.35batch/s, accuracy=97, loss=0.0886]\n"
     ]
    },
    {
     "name": "stdout",
     "output_type": "stream",
     "text": [
      "Valid: Loss=0.08579, Accuracy=0.974\n",
      "\n"
     ]
    },
    {
     "name": "stderr",
     "output_type": "stream",
     "text": [
      "Epoch 291: 100%|██████████████████████████████████████| 100/100 [00:02<00:00, 35.14batch/s, accuracy=97.2, loss=0.0852]\n"
     ]
    },
    {
     "name": "stdout",
     "output_type": "stream",
     "text": [
      "Valid: Loss=0.08555, Accuracy=0.974\n",
      "\n"
     ]
    },
    {
     "name": "stderr",
     "output_type": "stream",
     "text": [
      "Epoch 292: 100%|███████████████████████████████████████| 100/100 [00:02<00:00, 34.00batch/s, accuracy=97.1, loss=0.088]\n"
     ]
    },
    {
     "name": "stdout",
     "output_type": "stream",
     "text": [
      "Valid: Loss=0.08555, Accuracy=0.9732\n",
      "\n"
     ]
    },
    {
     "name": "stderr",
     "output_type": "stream",
     "text": [
      "Epoch 293: 100%|██████████████████████████████████████| 100/100 [00:02<00:00, 35.54batch/s, accuracy=97.2, loss=0.0871]\n"
     ]
    },
    {
     "name": "stdout",
     "output_type": "stream",
     "text": [
      "Valid: Loss=0.08425, Accuracy=0.974\n",
      "\n"
     ]
    },
    {
     "name": "stderr",
     "output_type": "stream",
     "text": [
      "Epoch 294: 100%|██████████████████████████████████████| 100/100 [00:02<00:00, 34.54batch/s, accuracy=97.3, loss=0.0853]\n"
     ]
    },
    {
     "name": "stdout",
     "output_type": "stream",
     "text": [
      "Valid: Loss=0.08416, Accuracy=0.9743\n",
      "\n"
     ]
    },
    {
     "name": "stderr",
     "output_type": "stream",
     "text": [
      "Epoch 295: 100%|███████████████████████████████████████| 100/100 [00:02<00:00, 35.46batch/s, accuracy=97.3, loss=0.081]\n"
     ]
    },
    {
     "name": "stdout",
     "output_type": "stream",
     "text": [
      "Valid: Loss=0.08473, Accuracy=0.9737\n",
      "\n"
     ]
    },
    {
     "name": "stderr",
     "output_type": "stream",
     "text": [
      "Epoch 296: 100%|██████████████████████████████████████| 100/100 [00:02<00:00, 35.07batch/s, accuracy=97.3, loss=0.0844]\n"
     ]
    },
    {
     "name": "stdout",
     "output_type": "stream",
     "text": [
      "Valid: Loss=0.08419, Accuracy=0.9743\n",
      "\n"
     ]
    },
    {
     "name": "stderr",
     "output_type": "stream",
     "text": [
      "Epoch 297: 100%|██████████████████████████████████████| 100/100 [00:02<00:00, 34.87batch/s, accuracy=97.3, loss=0.0848]\n"
     ]
    },
    {
     "name": "stdout",
     "output_type": "stream",
     "text": [
      "Valid: Loss=0.08431, Accuracy=0.9737\n",
      "\n"
     ]
    },
    {
     "name": "stderr",
     "output_type": "stream",
     "text": [
      "Epoch 298: 100%|███████████████████████████████████████| 100/100 [00:02<00:00, 34.89batch/s, accuracy=97.1, loss=0.085]\n"
     ]
    },
    {
     "name": "stdout",
     "output_type": "stream",
     "text": [
      "Valid: Loss=0.08457, Accuracy=0.9734\n",
      "\n"
     ]
    },
    {
     "name": "stderr",
     "output_type": "stream",
     "text": [
      "Epoch 299: 100%|██████████████████████████████████████| 100/100 [00:02<00:00, 34.67batch/s, accuracy=97.3, loss=0.0849]\n"
     ]
    },
    {
     "name": "stdout",
     "output_type": "stream",
     "text": [
      "Valid: Loss=0.08464, Accuracy=0.974\n",
      "\n"
     ]
    },
    {
     "name": "stderr",
     "output_type": "stream",
     "text": [
      "Epoch 300: 100%|██████████████████████████████████████| 100/100 [00:02<00:00, 35.07batch/s, accuracy=97.2, loss=0.0847]\n"
     ]
    },
    {
     "name": "stdout",
     "output_type": "stream",
     "text": [
      "Valid: Loss=0.08431, Accuracy=0.9746\n",
      "\n"
     ]
    },
    {
     "name": "stderr",
     "output_type": "stream",
     "text": [
      "Epoch 301: 100%|██████████████████████████████████████| 100/100 [00:02<00:00, 35.35batch/s, accuracy=97.2, loss=0.0858]\n"
     ]
    },
    {
     "name": "stdout",
     "output_type": "stream",
     "text": [
      "Valid: Loss=0.08441, Accuracy=0.974\n",
      "\n"
     ]
    },
    {
     "name": "stderr",
     "output_type": "stream",
     "text": [
      "Epoch 302: 100%|██████████████████████████████████████| 100/100 [00:02<00:00, 34.97batch/s, accuracy=97.3, loss=0.0839]\n"
     ]
    },
    {
     "name": "stdout",
     "output_type": "stream",
     "text": [
      "Valid: Loss=0.08437, Accuracy=0.9734\n",
      "\n"
     ]
    },
    {
     "name": "stderr",
     "output_type": "stream",
     "text": [
      "Epoch 303: 100%|██████████████████████████████████████| 100/100 [00:02<00:00, 34.78batch/s, accuracy=97.2, loss=0.0872]\n"
     ]
    },
    {
     "name": "stdout",
     "output_type": "stream",
     "text": [
      "Valid: Loss=0.08533, Accuracy=0.9729\n",
      "\n"
     ]
    },
    {
     "name": "stderr",
     "output_type": "stream",
     "text": [
      "Epoch 304: 100%|██████████████████████████████████████| 100/100 [00:02<00:00, 34.57batch/s, accuracy=97.2, loss=0.0873]\n"
     ]
    },
    {
     "name": "stdout",
     "output_type": "stream",
     "text": [
      "Valid: Loss=0.08418, Accuracy=0.9743\n",
      "\n"
     ]
    },
    {
     "name": "stderr",
     "output_type": "stream",
     "text": [
      "Epoch 305: 100%|███████████████████████████████████████| 100/100 [00:02<00:00, 34.61batch/s, accuracy=97.3, loss=0.085]\n"
     ]
    },
    {
     "name": "stdout",
     "output_type": "stream",
     "text": [
      "Valid: Loss=0.08499, Accuracy=0.9737\n",
      "\n"
     ]
    },
    {
     "name": "stderr",
     "output_type": "stream",
     "text": [
      "Epoch 306: 100%|██████████████████████████████████████| 100/100 [00:02<00:00, 34.43batch/s, accuracy=97.3, loss=0.0851]\n"
     ]
    },
    {
     "name": "stdout",
     "output_type": "stream",
     "text": [
      "Valid: Loss=0.08429, Accuracy=0.974\n",
      "\n"
     ]
    },
    {
     "name": "stderr",
     "output_type": "stream",
     "text": [
      "Epoch 307: 100%|██████████████████████████████████████| 100/100 [00:03<00:00, 32.63batch/s, accuracy=97.2, loss=0.0875]\n"
     ]
    },
    {
     "name": "stdout",
     "output_type": "stream",
     "text": [
      "Valid: Loss=0.08417, Accuracy=0.9737\n",
      "\n"
     ]
    },
    {
     "name": "stderr",
     "output_type": "stream",
     "text": [
      "Epoch 308: 100%|██████████████████████████████████████| 100/100 [00:03<00:00, 32.65batch/s, accuracy=97.1, loss=0.0859]\n"
     ]
    },
    {
     "name": "stdout",
     "output_type": "stream",
     "text": [
      "Valid: Loss=0.08507, Accuracy=0.9737\n",
      "\n"
     ]
    },
    {
     "name": "stderr",
     "output_type": "stream",
     "text": [
      "Epoch 309: 100%|██████████████████████████████████████| 100/100 [00:03<00:00, 33.04batch/s, accuracy=97.1, loss=0.0844]\n"
     ]
    },
    {
     "name": "stdout",
     "output_type": "stream",
     "text": [
      "Valid: Loss=0.08507, Accuracy=0.974\n",
      "\n"
     ]
    },
    {
     "name": "stderr",
     "output_type": "stream",
     "text": [
      "Epoch 310: 100%|███████████████████████████████████████| 100/100 [00:03<00:00, 32.87batch/s, accuracy=97.4, loss=0.083]\n"
     ]
    },
    {
     "name": "stdout",
     "output_type": "stream",
     "text": [
      "Valid: Loss=0.08482, Accuracy=0.9734\n",
      "\n"
     ]
    },
    {
     "name": "stderr",
     "output_type": "stream",
     "text": [
      "Epoch 311: 100%|██████████████████████████████████████| 100/100 [00:02<00:00, 34.27batch/s, accuracy=97.3, loss=0.0822]\n"
     ]
    },
    {
     "name": "stdout",
     "output_type": "stream",
     "text": [
      "Valid: Loss=0.08467, Accuracy=0.9732\n",
      "\n"
     ]
    },
    {
     "name": "stderr",
     "output_type": "stream",
     "text": [
      "Epoch 312: 100%|██████████████████████████████████████| 100/100 [00:03<00:00, 32.36batch/s, accuracy=97.3, loss=0.0844]\n"
     ]
    },
    {
     "name": "stdout",
     "output_type": "stream",
     "text": [
      "Valid: Loss=0.08529, Accuracy=0.9729\n",
      "\n"
     ]
    },
    {
     "name": "stderr",
     "output_type": "stream",
     "text": [
      "Epoch 313: 100%|██████████████████████████████████████| 100/100 [00:02<00:00, 35.03batch/s, accuracy=97.3, loss=0.0869]\n"
     ]
    },
    {
     "name": "stdout",
     "output_type": "stream",
     "text": [
      "Valid: Loss=0.08522, Accuracy=0.9734\n",
      "\n"
     ]
    },
    {
     "name": "stderr",
     "output_type": "stream",
     "text": [
      "Epoch 314: 100%|██████████████████████████████████████| 100/100 [00:03<00:00, 31.84batch/s, accuracy=97.3, loss=0.0829]\n"
     ]
    },
    {
     "name": "stdout",
     "output_type": "stream",
     "text": [
      "Valid: Loss=0.08552, Accuracy=0.9732\n",
      "\n"
     ]
    },
    {
     "name": "stderr",
     "output_type": "stream",
     "text": [
      "Epoch 315: 100%|██████████████████████████████████████| 100/100 [00:02<00:00, 33.78batch/s, accuracy=97.3, loss=0.0826]\n"
     ]
    },
    {
     "name": "stdout",
     "output_type": "stream",
     "text": [
      "Valid: Loss=0.08497, Accuracy=0.9734\n",
      "\n"
     ]
    },
    {
     "name": "stderr",
     "output_type": "stream",
     "text": [
      "Epoch 316: 100%|██████████████████████████████████████| 100/100 [00:02<00:00, 34.54batch/s, accuracy=97.5, loss=0.0818]\n"
     ]
    },
    {
     "name": "stdout",
     "output_type": "stream",
     "text": [
      "Valid: Loss=0.0854, Accuracy=0.9734\n",
      "\n"
     ]
    },
    {
     "name": "stderr",
     "output_type": "stream",
     "text": [
      "Epoch 317: 100%|██████████████████████████████████████| 100/100 [00:03<00:00, 32.73batch/s, accuracy=97.3, loss=0.0837]\n"
     ]
    },
    {
     "name": "stdout",
     "output_type": "stream",
     "text": [
      "Valid: Loss=0.08459, Accuracy=0.9737\n",
      "\n"
     ]
    },
    {
     "name": "stderr",
     "output_type": "stream",
     "text": [
      "Epoch 318: 100%|██████████████████████████████████████| 100/100 [00:02<00:00, 34.56batch/s, accuracy=97.3, loss=0.0858]\n"
     ]
    },
    {
     "name": "stdout",
     "output_type": "stream",
     "text": [
      "Valid: Loss=0.08468, Accuracy=0.9734\n",
      "\n"
     ]
    },
    {
     "name": "stderr",
     "output_type": "stream",
     "text": [
      "Epoch 319: 100%|███████████████████████████████████████| 100/100 [00:02<00:00, 36.13batch/s, accuracy=97.3, loss=0.086]\n"
     ]
    },
    {
     "name": "stdout",
     "output_type": "stream",
     "text": [
      "Valid: Loss=0.08462, Accuracy=0.9732\n",
      "\n"
     ]
    },
    {
     "name": "stderr",
     "output_type": "stream",
     "text": [
      "Epoch 320: 100%|██████████████████████████████████████| 100/100 [00:02<00:00, 34.36batch/s, accuracy=97.3, loss=0.0842]\n"
     ]
    },
    {
     "name": "stdout",
     "output_type": "stream",
     "text": [
      "Valid: Loss=0.08452, Accuracy=0.9746\n",
      "\n"
     ]
    },
    {
     "name": "stderr",
     "output_type": "stream",
     "text": [
      "Epoch 321: 100%|██████████████████████████████████████| 100/100 [00:02<00:00, 36.34batch/s, accuracy=97.2, loss=0.0853]\n"
     ]
    },
    {
     "name": "stdout",
     "output_type": "stream",
     "text": [
      "Valid: Loss=0.08475, Accuracy=0.9737\n",
      "\n"
     ]
    },
    {
     "name": "stderr",
     "output_type": "stream",
     "text": [
      "Epoch 322: 100%|██████████████████████████████████████| 100/100 [00:02<00:00, 35.55batch/s, accuracy=97.1, loss=0.0859]\n"
     ]
    },
    {
     "name": "stdout",
     "output_type": "stream",
     "text": [
      "Valid: Loss=0.08504, Accuracy=0.974\n",
      "\n"
     ]
    },
    {
     "name": "stderr",
     "output_type": "stream",
     "text": [
      "Epoch 323: 100%|██████████████████████████████████████| 100/100 [00:02<00:00, 34.93batch/s, accuracy=97.1, loss=0.0851]\n"
     ]
    },
    {
     "name": "stdout",
     "output_type": "stream",
     "text": [
      "Valid: Loss=0.08455, Accuracy=0.9743\n",
      "\n"
     ]
    },
    {
     "name": "stderr",
     "output_type": "stream",
     "text": [
      "Epoch 324: 100%|██████████████████████████████████████| 100/100 [00:02<00:00, 35.17batch/s, accuracy=97.2, loss=0.0866]\n"
     ]
    },
    {
     "name": "stdout",
     "output_type": "stream",
     "text": [
      "Valid: Loss=0.08397, Accuracy=0.9737\n",
      "\n"
     ]
    },
    {
     "name": "stderr",
     "output_type": "stream",
     "text": [
      "Epoch 325: 100%|██████████████████████████████████████| 100/100 [00:02<00:00, 35.55batch/s, accuracy=97.2, loss=0.0865]\n"
     ]
    },
    {
     "name": "stdout",
     "output_type": "stream",
     "text": [
      "Valid: Loss=0.0848, Accuracy=0.9737\n",
      "\n"
     ]
    },
    {
     "name": "stderr",
     "output_type": "stream",
     "text": [
      "Epoch 326: 100%|██████████████████████████████████████| 100/100 [00:02<00:00, 34.97batch/s, accuracy=97.4, loss=0.0826]\n"
     ]
    },
    {
     "name": "stdout",
     "output_type": "stream",
     "text": [
      "Valid: Loss=0.08466, Accuracy=0.974\n",
      "\n"
     ]
    },
    {
     "name": "stderr",
     "output_type": "stream",
     "text": [
      "Epoch 327: 100%|████████████████████████████████████████| 100/100 [00:02<00:00, 35.57batch/s, accuracy=97, loss=0.0909]\n"
     ]
    },
    {
     "name": "stdout",
     "output_type": "stream",
     "text": [
      "Valid: Loss=0.08465, Accuracy=0.974\n",
      "\n"
     ]
    },
    {
     "name": "stderr",
     "output_type": "stream",
     "text": [
      "Epoch 328: 100%|██████████████████████████████████████| 100/100 [00:02<00:00, 35.56batch/s, accuracy=97.2, loss=0.0844]\n"
     ]
    },
    {
     "name": "stdout",
     "output_type": "stream",
     "text": [
      "Valid: Loss=0.0858, Accuracy=0.9737\n",
      "\n"
     ]
    },
    {
     "name": "stderr",
     "output_type": "stream",
     "text": [
      "Epoch 329: 100%|██████████████████████████████████████| 100/100 [00:02<00:00, 35.16batch/s, accuracy=97.1, loss=0.0872]\n"
     ]
    },
    {
     "name": "stdout",
     "output_type": "stream",
     "text": [
      "Valid: Loss=0.08451, Accuracy=0.974\n",
      "\n"
     ]
    },
    {
     "name": "stderr",
     "output_type": "stream",
     "text": [
      "Epoch 330: 100%|██████████████████████████████████████| 100/100 [00:02<00:00, 35.36batch/s, accuracy=97.3, loss=0.0857]\n"
     ]
    },
    {
     "name": "stdout",
     "output_type": "stream",
     "text": [
      "Valid: Loss=0.08412, Accuracy=0.9737\n",
      "\n"
     ]
    },
    {
     "name": "stderr",
     "output_type": "stream",
     "text": [
      "Epoch 331: 100%|██████████████████████████████████████| 100/100 [00:02<00:00, 35.55batch/s, accuracy=97.2, loss=0.0843]\n"
     ]
    },
    {
     "name": "stdout",
     "output_type": "stream",
     "text": [
      "Valid: Loss=0.08441, Accuracy=0.9734\n",
      "\n"
     ]
    },
    {
     "name": "stderr",
     "output_type": "stream",
     "text": [
      "Epoch 332: 100%|██████████████████████████████████████| 100/100 [00:02<00:00, 35.17batch/s, accuracy=97.2, loss=0.0847]\n"
     ]
    },
    {
     "name": "stdout",
     "output_type": "stream",
     "text": [
      "Valid: Loss=0.08431, Accuracy=0.974\n",
      "\n"
     ]
    },
    {
     "name": "stderr",
     "output_type": "stream",
     "text": [
      "Epoch 333: 100%|██████████████████████████████████████| 100/100 [00:02<00:00, 34.59batch/s, accuracy=97.2, loss=0.0879]\n"
     ]
    },
    {
     "name": "stdout",
     "output_type": "stream",
     "text": [
      "Valid: Loss=0.085, Accuracy=0.9734\n",
      "\n"
     ]
    },
    {
     "name": "stderr",
     "output_type": "stream",
     "text": [
      "Epoch 334: 100%|██████████████████████████████████████| 100/100 [00:02<00:00, 35.50batch/s, accuracy=97.1, loss=0.0873]\n"
     ]
    },
    {
     "name": "stdout",
     "output_type": "stream",
     "text": [
      "Valid: Loss=0.08499, Accuracy=0.9737\n",
      "\n"
     ]
    },
    {
     "name": "stderr",
     "output_type": "stream",
     "text": [
      "Epoch 335: 100%|██████████████████████████████████████| 100/100 [00:02<00:00, 34.37batch/s, accuracy=97.2, loss=0.0837]\n"
     ]
    },
    {
     "name": "stdout",
     "output_type": "stream",
     "text": [
      "Valid: Loss=0.08398, Accuracy=0.9743\n",
      "\n"
     ]
    },
    {
     "name": "stderr",
     "output_type": "stream",
     "text": [
      "Epoch 336: 100%|██████████████████████████████████████| 100/100 [00:02<00:00, 37.75batch/s, accuracy=97.3, loss=0.0849]\n"
     ]
    },
    {
     "name": "stdout",
     "output_type": "stream",
     "text": [
      "Valid: Loss=0.08426, Accuracy=0.9737\n",
      "\n"
     ]
    },
    {
     "name": "stderr",
     "output_type": "stream",
     "text": [
      "Epoch 337: 100%|██████████████████████████████████████| 100/100 [00:02<00:00, 34.63batch/s, accuracy=97.3, loss=0.0856]\n"
     ]
    },
    {
     "name": "stdout",
     "output_type": "stream",
     "text": [
      "Valid: Loss=0.08569, Accuracy=0.9732\n",
      "\n"
     ]
    },
    {
     "name": "stderr",
     "output_type": "stream",
     "text": [
      "Epoch 338: 100%|██████████████████████████████████████| 100/100 [00:02<00:00, 34.06batch/s, accuracy=97.3, loss=0.0814]\n"
     ]
    },
    {
     "name": "stdout",
     "output_type": "stream",
     "text": [
      "Valid: Loss=0.08553, Accuracy=0.9729\n",
      "\n"
     ]
    },
    {
     "name": "stderr",
     "output_type": "stream",
     "text": [
      "Epoch 339: 100%|██████████████████████████████████████| 100/100 [00:02<00:00, 33.38batch/s, accuracy=97.4, loss=0.0813]\n"
     ]
    },
    {
     "name": "stdout",
     "output_type": "stream",
     "text": [
      "Valid: Loss=0.08436, Accuracy=0.9743\n",
      "\n"
     ]
    },
    {
     "name": "stderr",
     "output_type": "stream",
     "text": [
      "Epoch 340: 100%|██████████████████████████████████████| 100/100 [00:03<00:00, 32.86batch/s, accuracy=97.4, loss=0.0845]\n"
     ]
    },
    {
     "name": "stdout",
     "output_type": "stream",
     "text": [
      "Valid: Loss=0.08477, Accuracy=0.9734\n",
      "\n"
     ]
    },
    {
     "name": "stderr",
     "output_type": "stream",
     "text": [
      "Epoch 341: 100%|██████████████████████████████████████| 100/100 [00:03<00:00, 32.70batch/s, accuracy=97.2, loss=0.0846]\n"
     ]
    },
    {
     "name": "stdout",
     "output_type": "stream",
     "text": [
      "Valid: Loss=0.08428, Accuracy=0.9734\n",
      "\n"
     ]
    },
    {
     "name": "stderr",
     "output_type": "stream",
     "text": [
      "Epoch 342: 100%|██████████████████████████████████████| 100/100 [00:02<00:00, 34.11batch/s, accuracy=97.1, loss=0.0875]\n"
     ]
    },
    {
     "name": "stdout",
     "output_type": "stream",
     "text": [
      "Valid: Loss=0.08453, Accuracy=0.9737\n",
      "\n"
     ]
    },
    {
     "name": "stderr",
     "output_type": "stream",
     "text": [
      "Epoch 343: 100%|██████████████████████████████████████| 100/100 [00:02<00:00, 33.74batch/s, accuracy=97.3, loss=0.0826]\n"
     ]
    },
    {
     "name": "stdout",
     "output_type": "stream",
     "text": [
      "Valid: Loss=0.085, Accuracy=0.974\n",
      "\n"
     ]
    },
    {
     "name": "stderr",
     "output_type": "stream",
     "text": [
      "Epoch 344: 100%|██████████████████████████████████████| 100/100 [00:02<00:00, 34.09batch/s, accuracy=97.3, loss=0.0882]\n"
     ]
    },
    {
     "name": "stdout",
     "output_type": "stream",
     "text": [
      "Valid: Loss=0.08396, Accuracy=0.9734\n",
      "\n"
     ]
    },
    {
     "name": "stderr",
     "output_type": "stream",
     "text": [
      "Epoch 345: 100%|███████████████████████████████████████| 100/100 [00:03<00:00, 32.54batch/s, accuracy=97.1, loss=0.085]\n"
     ]
    },
    {
     "name": "stdout",
     "output_type": "stream",
     "text": [
      "Valid: Loss=0.08489, Accuracy=0.9737\n",
      "\n"
     ]
    },
    {
     "name": "stderr",
     "output_type": "stream",
     "text": [
      "Epoch 346: 100%|██████████████████████████████████████| 100/100 [00:02<00:00, 33.55batch/s, accuracy=97.1, loss=0.0867]\n"
     ]
    },
    {
     "name": "stdout",
     "output_type": "stream",
     "text": [
      "Valid: Loss=0.08412, Accuracy=0.9734\n",
      "\n"
     ]
    },
    {
     "name": "stderr",
     "output_type": "stream",
     "text": [
      "Epoch 347: 100%|██████████████████████████████████████| 100/100 [00:02<00:00, 34.11batch/s, accuracy=97.4, loss=0.0825]\n"
     ]
    },
    {
     "name": "stdout",
     "output_type": "stream",
     "text": [
      "Valid: Loss=0.08537, Accuracy=0.9734\n",
      "\n"
     ]
    },
    {
     "name": "stderr",
     "output_type": "stream",
     "text": [
      "Epoch 348: 100%|██████████████████████████████████████| 100/100 [00:02<00:00, 33.87batch/s, accuracy=97.2, loss=0.0852]\n"
     ]
    },
    {
     "name": "stdout",
     "output_type": "stream",
     "text": [
      "Valid: Loss=0.08461, Accuracy=0.9743\n",
      "\n"
     ]
    },
    {
     "name": "stderr",
     "output_type": "stream",
     "text": [
      "Epoch 349: 100%|██████████████████████████████████████| 100/100 [00:02<00:00, 34.67batch/s, accuracy=97.2, loss=0.0835]\n"
     ]
    },
    {
     "name": "stdout",
     "output_type": "stream",
     "text": [
      "Valid: Loss=0.08445, Accuracy=0.9734\n",
      "\n"
     ]
    },
    {
     "name": "stderr",
     "output_type": "stream",
     "text": [
      "Epoch 350: 100%|██████████████████████████████████████| 100/100 [00:02<00:00, 34.65batch/s, accuracy=97.2, loss=0.0867]\n"
     ]
    },
    {
     "name": "stdout",
     "output_type": "stream",
     "text": [
      "Valid: Loss=0.0838, Accuracy=0.9749\n",
      "\n"
     ]
    },
    {
     "name": "stderr",
     "output_type": "stream",
     "text": [
      "Epoch 351: 100%|███████████████████████████████████████| 100/100 [00:02<00:00, 34.45batch/s, accuracy=97.1, loss=0.089]\n"
     ]
    },
    {
     "name": "stdout",
     "output_type": "stream",
     "text": [
      "Valid: Loss=0.08519, Accuracy=0.9734\n",
      "\n"
     ]
    },
    {
     "name": "stderr",
     "output_type": "stream",
     "text": [
      "Epoch 352: 100%|██████████████████████████████████████| 100/100 [00:02<00:00, 34.47batch/s, accuracy=97.3, loss=0.0843]\n"
     ]
    },
    {
     "name": "stdout",
     "output_type": "stream",
     "text": [
      "Valid: Loss=0.08438, Accuracy=0.9743\n",
      "\n"
     ]
    },
    {
     "name": "stderr",
     "output_type": "stream",
     "text": [
      "Epoch 353: 100%|██████████████████████████████████████| 100/100 [00:02<00:00, 34.64batch/s, accuracy=97.1, loss=0.0869]\n"
     ]
    },
    {
     "name": "stdout",
     "output_type": "stream",
     "text": [
      "Valid: Loss=0.08445, Accuracy=0.9743\n",
      "\n"
     ]
    },
    {
     "name": "stderr",
     "output_type": "stream",
     "text": [
      "Epoch 354: 100%|██████████████████████████████████████| 100/100 [00:02<00:00, 35.77batch/s, accuracy=97.2, loss=0.0865]\n"
     ]
    },
    {
     "name": "stdout",
     "output_type": "stream",
     "text": [
      "Valid: Loss=0.08487, Accuracy=0.9729\n",
      "\n"
     ]
    },
    {
     "name": "stderr",
     "output_type": "stream",
     "text": [
      "Epoch 355: 100%|██████████████████████████████████████| 100/100 [00:02<00:00, 34.60batch/s, accuracy=97.3, loss=0.0839]\n"
     ]
    },
    {
     "name": "stdout",
     "output_type": "stream",
     "text": [
      "Valid: Loss=0.08439, Accuracy=0.9734\n",
      "\n"
     ]
    },
    {
     "name": "stderr",
     "output_type": "stream",
     "text": [
      "Epoch 356: 100%|███████████████████████████████████████| 100/100 [00:02<00:00, 37.01batch/s, accuracy=97.2, loss=0.083]\n"
     ]
    },
    {
     "name": "stdout",
     "output_type": "stream",
     "text": [
      "Valid: Loss=0.08474, Accuracy=0.9734\n",
      "\n"
     ]
    },
    {
     "name": "stderr",
     "output_type": "stream",
     "text": [
      "Epoch 357: 100%|██████████████████████████████████████| 100/100 [00:02<00:00, 35.35batch/s, accuracy=97.3, loss=0.0831]\n"
     ]
    },
    {
     "name": "stdout",
     "output_type": "stream",
     "text": [
      "Valid: Loss=0.08477, Accuracy=0.9732\n",
      "\n"
     ]
    },
    {
     "name": "stderr",
     "output_type": "stream",
     "text": [
      "Epoch 358: 100%|██████████████████████████████████████| 100/100 [00:02<00:00, 34.39batch/s, accuracy=97.3, loss=0.0818]\n"
     ]
    },
    {
     "name": "stdout",
     "output_type": "stream",
     "text": [
      "Valid: Loss=0.08515, Accuracy=0.9726\n",
      "\n"
     ]
    },
    {
     "name": "stderr",
     "output_type": "stream",
     "text": [
      "Epoch 359: 100%|████████████████████████████████████████| 100/100 [00:02<00:00, 34.09batch/s, accuracy=97, loss=0.0857]\n"
     ]
    },
    {
     "name": "stdout",
     "output_type": "stream",
     "text": [
      "Valid: Loss=0.08482, Accuracy=0.9732\n",
      "\n"
     ]
    },
    {
     "name": "stderr",
     "output_type": "stream",
     "text": [
      "Epoch 360: 100%|█████████████████████████████████████████| 100/100 [00:02<00:00, 34.87batch/s, accuracy=97, loss=0.089]\n"
     ]
    },
    {
     "name": "stdout",
     "output_type": "stream",
     "text": [
      "Valid: Loss=0.08423, Accuracy=0.9732\n",
      "\n"
     ]
    },
    {
     "name": "stderr",
     "output_type": "stream",
     "text": [
      "Epoch 361: 100%|██████████████████████████████████████| 100/100 [00:02<00:00, 34.06batch/s, accuracy=97.3, loss=0.0861]\n"
     ]
    },
    {
     "name": "stdout",
     "output_type": "stream",
     "text": [
      "Valid: Loss=0.08387, Accuracy=0.9737\n",
      "\n"
     ]
    },
    {
     "name": "stderr",
     "output_type": "stream",
     "text": [
      "Epoch 362: 100%|███████████████████████████████████████| 100/100 [00:02<00:00, 38.36batch/s, accuracy=97.4, loss=0.085]\n"
     ]
    },
    {
     "name": "stdout",
     "output_type": "stream",
     "text": [
      "Valid: Loss=0.08451, Accuracy=0.9737\n",
      "\n"
     ]
    },
    {
     "name": "stderr",
     "output_type": "stream",
     "text": [
      "Epoch 363: 100%|██████████████████████████████████████| 100/100 [00:02<00:00, 35.95batch/s, accuracy=97.3, loss=0.0857]\n"
     ]
    },
    {
     "name": "stdout",
     "output_type": "stream",
     "text": [
      "Valid: Loss=0.08404, Accuracy=0.9746\n",
      "\n"
     ]
    },
    {
     "name": "stderr",
     "output_type": "stream",
     "text": [
      "Epoch 364: 100%|██████████████████████████████████████| 100/100 [00:02<00:00, 35.94batch/s, accuracy=97.2, loss=0.0857]\n"
     ]
    },
    {
     "name": "stdout",
     "output_type": "stream",
     "text": [
      "Valid: Loss=0.08609, Accuracy=0.9729\n",
      "\n"
     ]
    },
    {
     "name": "stderr",
     "output_type": "stream",
     "text": [
      "Epoch 365: 100%|██████████████████████████████████████| 100/100 [00:02<00:00, 37.43batch/s, accuracy=97.3, loss=0.0843]\n"
     ]
    },
    {
     "name": "stdout",
     "output_type": "stream",
     "text": [
      "Valid: Loss=0.08429, Accuracy=0.974\n",
      "\n"
     ]
    },
    {
     "name": "stderr",
     "output_type": "stream",
     "text": [
      "Epoch 366: 100%|██████████████████████████████████████| 100/100 [00:02<00:00, 36.15batch/s, accuracy=97.3, loss=0.0851]\n"
     ]
    },
    {
     "name": "stdout",
     "output_type": "stream",
     "text": [
      "Valid: Loss=0.08403, Accuracy=0.9737\n",
      "\n"
     ]
    },
    {
     "name": "stderr",
     "output_type": "stream",
     "text": [
      "Epoch 367: 100%|██████████████████████████████████████| 100/100 [00:02<00:00, 35.56batch/s, accuracy=97.3, loss=0.0844]\n"
     ]
    },
    {
     "name": "stdout",
     "output_type": "stream",
     "text": [
      "Valid: Loss=0.08509, Accuracy=0.9737\n",
      "\n"
     ]
    },
    {
     "name": "stderr",
     "output_type": "stream",
     "text": [
      "Epoch 368: 100%|██████████████████████████████████████| 100/100 [00:02<00:00, 36.59batch/s, accuracy=97.3, loss=0.0846]\n"
     ]
    },
    {
     "name": "stdout",
     "output_type": "stream",
     "text": [
      "Valid: Loss=0.08473, Accuracy=0.9732\n",
      "\n"
     ]
    },
    {
     "name": "stderr",
     "output_type": "stream",
     "text": [
      "Epoch 369: 100%|████████████████████████████████████████| 100/100 [00:02<00:00, 37.65batch/s, accuracy=97, loss=0.0867]\n"
     ]
    },
    {
     "name": "stdout",
     "output_type": "stream",
     "text": [
      "Valid: Loss=0.08424, Accuracy=0.974\n",
      "\n"
     ]
    },
    {
     "name": "stderr",
     "output_type": "stream",
     "text": [
      "Epoch 370: 100%|██████████████████████████████████████| 100/100 [00:02<00:00, 40.29batch/s, accuracy=97.1, loss=0.0863]\n"
     ]
    },
    {
     "name": "stdout",
     "output_type": "stream",
     "text": [
      "Valid: Loss=0.08471, Accuracy=0.9743\n",
      "\n"
     ]
    },
    {
     "name": "stderr",
     "output_type": "stream",
     "text": [
      "Epoch 371: 100%|██████████████████████████████████████| 100/100 [00:02<00:00, 37.00batch/s, accuracy=97.1, loss=0.0861]\n"
     ]
    },
    {
     "name": "stdout",
     "output_type": "stream",
     "text": [
      "Valid: Loss=0.08374, Accuracy=0.9752\n",
      "\n"
     ]
    },
    {
     "name": "stderr",
     "output_type": "stream",
     "text": [
      "Epoch 372: 100%|██████████████████████████████████████| 100/100 [00:02<00:00, 38.82batch/s, accuracy=97.3, loss=0.0832]\n"
     ]
    },
    {
     "name": "stdout",
     "output_type": "stream",
     "text": [
      "Valid: Loss=0.08406, Accuracy=0.9746\n",
      "\n"
     ]
    },
    {
     "name": "stderr",
     "output_type": "stream",
     "text": [
      "Epoch 373: 100%|██████████████████████████████████████| 100/100 [00:02<00:00, 38.13batch/s, accuracy=97.3, loss=0.0834]\n"
     ]
    },
    {
     "name": "stdout",
     "output_type": "stream",
     "text": [
      "Valid: Loss=0.08454, Accuracy=0.9729\n",
      "\n"
     ]
    },
    {
     "name": "stderr",
     "output_type": "stream",
     "text": [
      "Epoch 374: 100%|██████████████████████████████████████| 100/100 [00:02<00:00, 34.04batch/s, accuracy=97.1, loss=0.0863]\n"
     ]
    },
    {
     "name": "stdout",
     "output_type": "stream",
     "text": [
      "Valid: Loss=0.08495, Accuracy=0.9732\n",
      "\n"
     ]
    },
    {
     "name": "stderr",
     "output_type": "stream",
     "text": [
      "Epoch 375: 100%|██████████████████████████████████████| 100/100 [00:02<00:00, 37.69batch/s, accuracy=97.3, loss=0.0839]\n"
     ]
    },
    {
     "name": "stdout",
     "output_type": "stream",
     "text": [
      "Valid: Loss=0.08421, Accuracy=0.974\n",
      "\n"
     ]
    },
    {
     "name": "stderr",
     "output_type": "stream",
     "text": [
      "Epoch 376: 100%|██████████████████████████████████████| 100/100 [00:02<00:00, 38.86batch/s, accuracy=97.3, loss=0.0839]\n"
     ]
    },
    {
     "name": "stdout",
     "output_type": "stream",
     "text": [
      "Valid: Loss=0.08421, Accuracy=0.974\n",
      "\n"
     ]
    },
    {
     "name": "stderr",
     "output_type": "stream",
     "text": [
      "Epoch 377: 100%|███████████████████████████████████████| 100/100 [00:02<00:00, 38.86batch/s, accuracy=97.2, loss=0.084]\n"
     ]
    },
    {
     "name": "stdout",
     "output_type": "stream",
     "text": [
      "Valid: Loss=0.08412, Accuracy=0.9729\n",
      "\n"
     ]
    },
    {
     "name": "stderr",
     "output_type": "stream",
     "text": [
      "Epoch 378: 100%|██████████████████████████████████████| 100/100 [00:02<00:00, 39.83batch/s, accuracy=97.2, loss=0.0839]\n"
     ]
    },
    {
     "name": "stdout",
     "output_type": "stream",
     "text": [
      "Valid: Loss=0.08466, Accuracy=0.974\n",
      "\n"
     ]
    },
    {
     "name": "stderr",
     "output_type": "stream",
     "text": [
      "Epoch 379: 100%|██████████████████████████████████████| 100/100 [00:02<00:00, 39.34batch/s, accuracy=97.3, loss=0.0847]\n"
     ]
    },
    {
     "name": "stdout",
     "output_type": "stream",
     "text": [
      "Valid: Loss=0.08458, Accuracy=0.9743\n",
      "\n"
     ]
    },
    {
     "name": "stderr",
     "output_type": "stream",
     "text": [
      "Epoch 380: 100%|██████████████████████████████████████| 100/100 [00:02<00:00, 38.84batch/s, accuracy=97.2, loss=0.0846]\n"
     ]
    },
    {
     "name": "stdout",
     "output_type": "stream",
     "text": [
      "Valid: Loss=0.08422, Accuracy=0.9737\n",
      "\n"
     ]
    },
    {
     "name": "stderr",
     "output_type": "stream",
     "text": [
      "Epoch 381: 100%|██████████████████████████████████████| 100/100 [00:02<00:00, 39.59batch/s, accuracy=97.2, loss=0.0858]\n"
     ]
    },
    {
     "name": "stdout",
     "output_type": "stream",
     "text": [
      "Valid: Loss=0.08575, Accuracy=0.9732\n",
      "\n"
     ]
    },
    {
     "name": "stderr",
     "output_type": "stream",
     "text": [
      "Epoch 382: 100%|██████████████████████████████████████| 100/100 [00:02<00:00, 39.45batch/s, accuracy=97.3, loss=0.0845]\n"
     ]
    },
    {
     "name": "stdout",
     "output_type": "stream",
     "text": [
      "Valid: Loss=0.08445, Accuracy=0.9737\n",
      "\n"
     ]
    },
    {
     "name": "stderr",
     "output_type": "stream",
     "text": [
      "Epoch 383: 100%|██████████████████████████████████████| 100/100 [00:02<00:00, 39.06batch/s, accuracy=97.4, loss=0.0835]\n"
     ]
    },
    {
     "name": "stdout",
     "output_type": "stream",
     "text": [
      "Valid: Loss=0.08409, Accuracy=0.974\n",
      "\n"
     ]
    },
    {
     "name": "stderr",
     "output_type": "stream",
     "text": [
      "Epoch 384: 100%|██████████████████████████████████████| 100/100 [00:02<00:00, 39.50batch/s, accuracy=97.4, loss=0.0855]\n"
     ]
    },
    {
     "name": "stdout",
     "output_type": "stream",
     "text": [
      "Valid: Loss=0.08537, Accuracy=0.9732\n",
      "\n"
     ]
    },
    {
     "name": "stderr",
     "output_type": "stream",
     "text": [
      "Epoch 385: 100%|███████████████████████████████████████| 100/100 [00:02<00:00, 38.29batch/s, accuracy=97.1, loss=0.083]\n"
     ]
    },
    {
     "name": "stdout",
     "output_type": "stream",
     "text": [
      "Valid: Loss=0.08378, Accuracy=0.9746\n",
      "\n"
     ]
    },
    {
     "name": "stderr",
     "output_type": "stream",
     "text": [
      "Epoch 386: 100%|██████████████████████████████████████| 100/100 [00:02<00:00, 38.01batch/s, accuracy=97.1, loss=0.0865]\n"
     ]
    },
    {
     "name": "stdout",
     "output_type": "stream",
     "text": [
      "Valid: Loss=0.08493, Accuracy=0.9732\n",
      "\n"
     ]
    },
    {
     "name": "stderr",
     "output_type": "stream",
     "text": [
      "Epoch 387: 100%|██████████████████████████████████████| 100/100 [00:02<00:00, 38.70batch/s, accuracy=97.3, loss=0.0833]\n"
     ]
    },
    {
     "name": "stdout",
     "output_type": "stream",
     "text": [
      "Valid: Loss=0.08426, Accuracy=0.9732\n",
      "\n"
     ]
    },
    {
     "name": "stderr",
     "output_type": "stream",
     "text": [
      "Epoch 388: 100%|██████████████████████████████████████| 100/100 [00:02<00:00, 37.54batch/s, accuracy=97.2, loss=0.0852]\n"
     ]
    },
    {
     "name": "stdout",
     "output_type": "stream",
     "text": [
      "Valid: Loss=0.08378, Accuracy=0.9749\n",
      "\n"
     ]
    },
    {
     "name": "stderr",
     "output_type": "stream",
     "text": [
      "Epoch 389: 100%|██████████████████████████████████████| 100/100 [00:02<00:00, 35.97batch/s, accuracy=97.1, loss=0.0881]\n"
     ]
    },
    {
     "name": "stdout",
     "output_type": "stream",
     "text": [
      "Valid: Loss=0.08467, Accuracy=0.9743\n",
      "\n"
     ]
    },
    {
     "name": "stderr",
     "output_type": "stream",
     "text": [
      "Epoch 390: 100%|██████████████████████████████████████| 100/100 [00:02<00:00, 35.56batch/s, accuracy=97.2, loss=0.0845]\n"
     ]
    },
    {
     "name": "stdout",
     "output_type": "stream",
     "text": [
      "Valid: Loss=0.08459, Accuracy=0.974\n",
      "\n"
     ]
    },
    {
     "name": "stderr",
     "output_type": "stream",
     "text": [
      "Epoch 391: 100%|██████████████████████████████████████| 100/100 [00:02<00:00, 36.96batch/s, accuracy=97.3, loss=0.0877]\n"
     ]
    },
    {
     "name": "stdout",
     "output_type": "stream",
     "text": [
      "Valid: Loss=0.0842, Accuracy=0.974\n",
      "\n"
     ]
    },
    {
     "name": "stderr",
     "output_type": "stream",
     "text": [
      "Epoch 392: 100%|████████████████████████████████████████| 100/100 [00:02<00:00, 37.41batch/s, accuracy=97, loss=0.0878]\n"
     ]
    },
    {
     "name": "stdout",
     "output_type": "stream",
     "text": [
      "Valid: Loss=0.08528, Accuracy=0.9734\n",
      "\n"
     ]
    },
    {
     "name": "stderr",
     "output_type": "stream",
     "text": [
      "Epoch 393: 100%|██████████████████████████████████████| 100/100 [00:02<00:00, 35.90batch/s, accuracy=97.4, loss=0.0828]\n"
     ]
    },
    {
     "name": "stdout",
     "output_type": "stream",
     "text": [
      "Valid: Loss=0.085, Accuracy=0.9734\n",
      "\n"
     ]
    },
    {
     "name": "stderr",
     "output_type": "stream",
     "text": [
      "Epoch 394: 100%|██████████████████████████████████████| 100/100 [00:02<00:00, 39.01batch/s, accuracy=97.2, loss=0.0851]\n"
     ]
    },
    {
     "name": "stdout",
     "output_type": "stream",
     "text": [
      "Valid: Loss=0.08415, Accuracy=0.9737\n",
      "\n"
     ]
    },
    {
     "name": "stderr",
     "output_type": "stream",
     "text": [
      "Epoch 395: 100%|██████████████████████████████████████| 100/100 [00:02<00:00, 36.95batch/s, accuracy=97.3, loss=0.0844]\n"
     ]
    },
    {
     "name": "stdout",
     "output_type": "stream",
     "text": [
      "Valid: Loss=0.08482, Accuracy=0.9732\n",
      "\n"
     ]
    },
    {
     "name": "stderr",
     "output_type": "stream",
     "text": [
      "Epoch 396: 100%|██████████████████████████████████████| 100/100 [00:02<00:00, 40.52batch/s, accuracy=97.4, loss=0.0825]\n"
     ]
    },
    {
     "name": "stdout",
     "output_type": "stream",
     "text": [
      "Valid: Loss=0.08428, Accuracy=0.974\n",
      "\n"
     ]
    },
    {
     "name": "stderr",
     "output_type": "stream",
     "text": [
      "Epoch 397: 100%|██████████████████████████████████████| 100/100 [00:02<00:00, 39.39batch/s, accuracy=97.2, loss=0.0837]\n"
     ]
    },
    {
     "name": "stdout",
     "output_type": "stream",
     "text": [
      "Valid: Loss=0.08437, Accuracy=0.9743\n",
      "\n"
     ]
    },
    {
     "name": "stderr",
     "output_type": "stream",
     "text": [
      "Epoch 398: 100%|██████████████████████████████████████| 100/100 [00:02<00:00, 39.14batch/s, accuracy=97.2, loss=0.0844]\n"
     ]
    },
    {
     "name": "stdout",
     "output_type": "stream",
     "text": [
      "Valid: Loss=0.08509, Accuracy=0.9734\n",
      "\n"
     ]
    },
    {
     "name": "stderr",
     "output_type": "stream",
     "text": [
      "Epoch 399: 100%|██████████████████████████████████████| 100/100 [00:02<00:00, 39.14batch/s, accuracy=97.4, loss=0.0836]\n"
     ]
    },
    {
     "name": "stdout",
     "output_type": "stream",
     "text": [
      "Valid: Loss=0.08401, Accuracy=0.974\n",
      "\n"
     ]
    },
    {
     "name": "stderr",
     "output_type": "stream",
     "text": [
      "Epoch 400: 100%|████████████████████████████████████████| 100/100 [00:02<00:00, 39.39batch/s, accuracy=97, loss=0.0866]\n"
     ]
    },
    {
     "name": "stdout",
     "output_type": "stream",
     "text": [
      "Valid: Loss=0.08429, Accuracy=0.9743\n",
      "\n"
     ]
    },
    {
     "name": "stderr",
     "output_type": "stream",
     "text": [
      "Epoch 401: 100%|██████████████████████████████████████| 100/100 [00:02<00:00, 39.12batch/s, accuracy=97.2, loss=0.0855]\n"
     ]
    },
    {
     "name": "stdout",
     "output_type": "stream",
     "text": [
      "Valid: Loss=0.0847, Accuracy=0.9737\n",
      "\n"
     ]
    },
    {
     "name": "stderr",
     "output_type": "stream",
     "text": [
      "Epoch 402: 100%|██████████████████████████████████████| 100/100 [00:02<00:00, 38.50batch/s, accuracy=97.1, loss=0.0862]\n"
     ]
    },
    {
     "name": "stdout",
     "output_type": "stream",
     "text": [
      "Valid: Loss=0.08421, Accuracy=0.9746\n",
      "\n"
     ]
    },
    {
     "name": "stderr",
     "output_type": "stream",
     "text": [
      "Epoch 403: 100%|██████████████████████████████████████| 100/100 [00:02<00:00, 39.17batch/s, accuracy=97.2, loss=0.0862]\n"
     ]
    },
    {
     "name": "stdout",
     "output_type": "stream",
     "text": [
      "Valid: Loss=0.08527, Accuracy=0.9729\n",
      "\n"
     ]
    },
    {
     "name": "stderr",
     "output_type": "stream",
     "text": [
      "Epoch 404: 100%|██████████████████████████████████████| 100/100 [00:02<00:00, 37.10batch/s, accuracy=97.1, loss=0.0875]\n"
     ]
    },
    {
     "name": "stdout",
     "output_type": "stream",
     "text": [
      "Valid: Loss=0.08374, Accuracy=0.9749\n",
      "\n"
     ]
    },
    {
     "name": "stderr",
     "output_type": "stream",
     "text": [
      "Epoch 405: 100%|██████████████████████████████████████| 100/100 [00:02<00:00, 39.30batch/s, accuracy=97.3, loss=0.0836]\n"
     ]
    },
    {
     "name": "stdout",
     "output_type": "stream",
     "text": [
      "Valid: Loss=0.08454, Accuracy=0.974\n",
      "\n"
     ]
    },
    {
     "name": "stderr",
     "output_type": "stream",
     "text": [
      "Epoch 406: 100%|███████████████████████████████████████| 100/100 [00:02<00:00, 38.83batch/s, accuracy=97.2, loss=0.084]\n"
     ]
    },
    {
     "name": "stdout",
     "output_type": "stream",
     "text": [
      "Valid: Loss=0.08474, Accuracy=0.9734\n",
      "\n"
     ]
    },
    {
     "name": "stderr",
     "output_type": "stream",
     "text": [
      "Epoch 407: 100%|██████████████████████████████████████| 100/100 [00:02<00:00, 39.56batch/s, accuracy=97.3, loss=0.0841]\n"
     ]
    },
    {
     "name": "stdout",
     "output_type": "stream",
     "text": [
      "Valid: Loss=0.08415, Accuracy=0.9749\n",
      "\n"
     ]
    },
    {
     "name": "stderr",
     "output_type": "stream",
     "text": [
      "Epoch 408: 100%|██████████████████████████████████████| 100/100 [00:02<00:00, 39.09batch/s, accuracy=97.2, loss=0.0848]\n"
     ]
    },
    {
     "name": "stdout",
     "output_type": "stream",
     "text": [
      "Valid: Loss=0.08403, Accuracy=0.9734\n",
      "\n"
     ]
    },
    {
     "name": "stderr",
     "output_type": "stream",
     "text": [
      "Epoch 409: 100%|██████████████████████████████████████| 100/100 [00:02<00:00, 37.90batch/s, accuracy=97.1, loss=0.0855]\n"
     ]
    },
    {
     "name": "stdout",
     "output_type": "stream",
     "text": [
      "Valid: Loss=0.08614, Accuracy=0.9723\n",
      "\n"
     ]
    },
    {
     "name": "stderr",
     "output_type": "stream",
     "text": [
      "Epoch 410: 100%|██████████████████████████████████████| 100/100 [00:02<00:00, 37.90batch/s, accuracy=97.2, loss=0.0839]\n"
     ]
    },
    {
     "name": "stdout",
     "output_type": "stream",
     "text": [
      "Valid: Loss=0.08418, Accuracy=0.9726\n",
      "\n"
     ]
    },
    {
     "name": "stderr",
     "output_type": "stream",
     "text": [
      "Epoch 411: 100%|██████████████████████████████████████| 100/100 [00:02<00:00, 38.13batch/s, accuracy=97.2, loss=0.0842]\n"
     ]
    },
    {
     "name": "stdout",
     "output_type": "stream",
     "text": [
      "Valid: Loss=0.0844, Accuracy=0.974\n",
      "\n"
     ]
    },
    {
     "name": "stderr",
     "output_type": "stream",
     "text": [
      "Epoch 412: 100%|██████████████████████████████████████| 100/100 [00:02<00:00, 37.47batch/s, accuracy=97.5, loss=0.0828]\n"
     ]
    },
    {
     "name": "stdout",
     "output_type": "stream",
     "text": [
      "Valid: Loss=0.08437, Accuracy=0.9737\n",
      "\n"
     ]
    },
    {
     "name": "stderr",
     "output_type": "stream",
     "text": [
      "Epoch 413: 100%|██████████████████████████████████████| 100/100 [00:02<00:00, 37.45batch/s, accuracy=97.3, loss=0.0857]\n"
     ]
    },
    {
     "name": "stdout",
     "output_type": "stream",
     "text": [
      "Valid: Loss=0.08601, Accuracy=0.9723\n",
      "\n"
     ]
    },
    {
     "name": "stderr",
     "output_type": "stream",
     "text": [
      "Epoch 414: 100%|██████████████████████████████████████| 100/100 [00:03<00:00, 33.22batch/s, accuracy=97.1, loss=0.0865]\n"
     ]
    },
    {
     "name": "stdout",
     "output_type": "stream",
     "text": [
      "Valid: Loss=0.08477, Accuracy=0.9737\n",
      "\n"
     ]
    },
    {
     "name": "stderr",
     "output_type": "stream",
     "text": [
      "Epoch 415: 100%|██████████████████████████████████████| 100/100 [00:02<00:00, 34.28batch/s, accuracy=97.2, loss=0.0857]\n"
     ]
    },
    {
     "name": "stdout",
     "output_type": "stream",
     "text": [
      "Valid: Loss=0.08456, Accuracy=0.9737\n",
      "\n"
     ]
    },
    {
     "name": "stderr",
     "output_type": "stream",
     "text": [
      "Epoch 416: 100%|███████████████████████████████████████| 100/100 [00:03<00:00, 32.67batch/s, accuracy=97.3, loss=0.085]\n"
     ]
    },
    {
     "name": "stdout",
     "output_type": "stream",
     "text": [
      "Valid: Loss=0.08447, Accuracy=0.9743\n",
      "\n"
     ]
    },
    {
     "name": "stderr",
     "output_type": "stream",
     "text": [
      "Epoch 417: 100%|██████████████████████████████████████| 100/100 [00:02<00:00, 33.36batch/s, accuracy=97.2, loss=0.0852]\n"
     ]
    },
    {
     "name": "stdout",
     "output_type": "stream",
     "text": [
      "Valid: Loss=0.08419, Accuracy=0.9732\n",
      "\n"
     ]
    },
    {
     "name": "stderr",
     "output_type": "stream",
     "text": [
      "Epoch 418: 100%|██████████████████████████████████████| 100/100 [00:02<00:00, 34.25batch/s, accuracy=97.4, loss=0.0834]\n"
     ]
    },
    {
     "name": "stdout",
     "output_type": "stream",
     "text": [
      "Valid: Loss=0.08503, Accuracy=0.9732\n",
      "\n"
     ]
    },
    {
     "name": "stderr",
     "output_type": "stream",
     "text": [
      "Epoch 419: 100%|██████████████████████████████████████| 100/100 [00:02<00:00, 35.22batch/s, accuracy=97.4, loss=0.0833]\n"
     ]
    },
    {
     "name": "stdout",
     "output_type": "stream",
     "text": [
      "Valid: Loss=0.08497, Accuracy=0.9734\n",
      "\n"
     ]
    },
    {
     "name": "stderr",
     "output_type": "stream",
     "text": [
      "Epoch 420: 100%|██████████████████████████████████████| 100/100 [00:02<00:00, 33.89batch/s, accuracy=97.1, loss=0.0869]\n"
     ]
    },
    {
     "name": "stdout",
     "output_type": "stream",
     "text": [
      "Valid: Loss=0.08493, Accuracy=0.9732\n",
      "\n"
     ]
    },
    {
     "name": "stderr",
     "output_type": "stream",
     "text": [
      "Epoch 421: 100%|██████████████████████████████████████| 100/100 [00:03<00:00, 33.19batch/s, accuracy=97.4, loss=0.0846]\n"
     ]
    },
    {
     "name": "stdout",
     "output_type": "stream",
     "text": [
      "Valid: Loss=0.08472, Accuracy=0.974\n",
      "\n"
     ]
    },
    {
     "name": "stderr",
     "output_type": "stream",
     "text": [
      "Epoch 422: 100%|███████████████████████████████████████| 100/100 [00:02<00:00, 35.85batch/s, accuracy=97.3, loss=0.083]\n"
     ]
    },
    {
     "name": "stdout",
     "output_type": "stream",
     "text": [
      "Valid: Loss=0.08381, Accuracy=0.974\n",
      "\n"
     ]
    },
    {
     "name": "stderr",
     "output_type": "stream",
     "text": [
      "Epoch 423: 100%|██████████████████████████████████████| 100/100 [00:02<00:00, 34.63batch/s, accuracy=97.2, loss=0.0848]\n"
     ]
    },
    {
     "name": "stdout",
     "output_type": "stream",
     "text": [
      "Valid: Loss=0.08445, Accuracy=0.9743\n",
      "\n"
     ]
    },
    {
     "name": "stderr",
     "output_type": "stream",
     "text": [
      "Epoch 424: 100%|██████████████████████████████████████| 100/100 [00:02<00:00, 35.08batch/s, accuracy=97.4, loss=0.0813]\n"
     ]
    },
    {
     "name": "stdout",
     "output_type": "stream",
     "text": [
      "Valid: Loss=0.0843, Accuracy=0.9743\n",
      "\n"
     ]
    },
    {
     "name": "stderr",
     "output_type": "stream",
     "text": [
      "Epoch 425: 100%|██████████████████████████████████████| 100/100 [00:02<00:00, 34.90batch/s, accuracy=97.3, loss=0.0822]\n"
     ]
    },
    {
     "name": "stdout",
     "output_type": "stream",
     "text": [
      "Valid: Loss=0.08444, Accuracy=0.9729\n",
      "\n"
     ]
    },
    {
     "name": "stderr",
     "output_type": "stream",
     "text": [
      "Epoch 426: 100%|██████████████████████████████████████| 100/100 [00:02<00:00, 34.70batch/s, accuracy=97.1, loss=0.0872]\n"
     ]
    },
    {
     "name": "stdout",
     "output_type": "stream",
     "text": [
      "Valid: Loss=0.08522, Accuracy=0.9734\n",
      "\n"
     ]
    },
    {
     "name": "stderr",
     "output_type": "stream",
     "text": [
      "Epoch 427: 100%|██████████████████████████████████████| 100/100 [00:02<00:00, 35.67batch/s, accuracy=97.4, loss=0.0816]\n"
     ]
    },
    {
     "name": "stdout",
     "output_type": "stream",
     "text": [
      "Valid: Loss=0.08542, Accuracy=0.9729\n",
      "\n"
     ]
    },
    {
     "name": "stderr",
     "output_type": "stream",
     "text": [
      "Epoch 428: 100%|██████████████████████████████████████| 100/100 [00:02<00:00, 35.66batch/s, accuracy=97.3, loss=0.0846]\n"
     ]
    },
    {
     "name": "stdout",
     "output_type": "stream",
     "text": [
      "Valid: Loss=0.0858, Accuracy=0.9723\n",
      "\n"
     ]
    },
    {
     "name": "stderr",
     "output_type": "stream",
     "text": [
      "Epoch 429: 100%|███████████████████████████████████████| 100/100 [00:02<00:00, 35.90batch/s, accuracy=97.3, loss=0.085]\n"
     ]
    },
    {
     "name": "stdout",
     "output_type": "stream",
     "text": [
      "Valid: Loss=0.08538, Accuracy=0.9732\n",
      "\n"
     ]
    },
    {
     "name": "stderr",
     "output_type": "stream",
     "text": [
      "Epoch 430: 100%|██████████████████████████████████████| 100/100 [00:02<00:00, 35.47batch/s, accuracy=97.2, loss=0.0868]\n"
     ]
    },
    {
     "name": "stdout",
     "output_type": "stream",
     "text": [
      "Valid: Loss=0.0844, Accuracy=0.974\n",
      "\n"
     ]
    },
    {
     "name": "stderr",
     "output_type": "stream",
     "text": [
      "Epoch 431: 100%|██████████████████████████████████████| 100/100 [00:02<00:00, 35.89batch/s, accuracy=97.1, loss=0.0856]\n"
     ]
    },
    {
     "name": "stdout",
     "output_type": "stream",
     "text": [
      "Valid: Loss=0.08414, Accuracy=0.9743\n",
      "\n"
     ]
    },
    {
     "name": "stderr",
     "output_type": "stream",
     "text": [
      "Epoch 432: 100%|██████████████████████████████████████| 100/100 [00:02<00:00, 35.67batch/s, accuracy=97.3, loss=0.0833]\n"
     ]
    },
    {
     "name": "stdout",
     "output_type": "stream",
     "text": [
      "Valid: Loss=0.0844, Accuracy=0.9743\n",
      "\n"
     ]
    },
    {
     "name": "stderr",
     "output_type": "stream",
     "text": [
      "Epoch 433: 100%|██████████████████████████████████████| 100/100 [00:02<00:00, 35.02batch/s, accuracy=97.2, loss=0.0855]\n"
     ]
    },
    {
     "name": "stdout",
     "output_type": "stream",
     "text": [
      "Valid: Loss=0.0843, Accuracy=0.9737\n",
      "\n"
     ]
    },
    {
     "name": "stderr",
     "output_type": "stream",
     "text": [
      "Epoch 434: 100%|██████████████████████████████████████| 100/100 [00:02<00:00, 35.22batch/s, accuracy=97.1, loss=0.0878]\n"
     ]
    },
    {
     "name": "stdout",
     "output_type": "stream",
     "text": [
      "Valid: Loss=0.0838, Accuracy=0.9734\n",
      "\n"
     ]
    },
    {
     "name": "stderr",
     "output_type": "stream",
     "text": [
      "Epoch 435: 100%|██████████████████████████████████████| 100/100 [00:02<00:00, 36.47batch/s, accuracy=97.1, loss=0.0867]\n"
     ]
    },
    {
     "name": "stdout",
     "output_type": "stream",
     "text": [
      "Valid: Loss=0.08502, Accuracy=0.9732\n",
      "\n"
     ]
    },
    {
     "name": "stderr",
     "output_type": "stream",
     "text": [
      "Epoch 436: 100%|██████████████████████████████████████| 100/100 [00:02<00:00, 36.02batch/s, accuracy=97.3, loss=0.0855]\n"
     ]
    },
    {
     "name": "stdout",
     "output_type": "stream",
     "text": [
      "Valid: Loss=0.08595, Accuracy=0.9723\n",
      "\n"
     ]
    },
    {
     "name": "stderr",
     "output_type": "stream",
     "text": [
      "Epoch 437: 100%|██████████████████████████████████████| 100/100 [00:02<00:00, 34.51batch/s, accuracy=97.2, loss=0.0817]\n"
     ]
    },
    {
     "name": "stdout",
     "output_type": "stream",
     "text": [
      "Valid: Loss=0.08425, Accuracy=0.9737\n",
      "\n"
     ]
    },
    {
     "name": "stderr",
     "output_type": "stream",
     "text": [
      "Epoch 438: 100%|██████████████████████████████████████| 100/100 [00:02<00:00, 33.39batch/s, accuracy=97.3, loss=0.0851]\n"
     ]
    },
    {
     "name": "stdout",
     "output_type": "stream",
     "text": [
      "Valid: Loss=0.08485, Accuracy=0.974\n",
      "\n"
     ]
    },
    {
     "name": "stderr",
     "output_type": "stream",
     "text": [
      "Epoch 439: 100%|██████████████████████████████████████| 100/100 [00:02<00:00, 33.54batch/s, accuracy=97.2, loss=0.0834]\n"
     ]
    },
    {
     "name": "stdout",
     "output_type": "stream",
     "text": [
      "Valid: Loss=0.0851, Accuracy=0.9734\n",
      "\n"
     ]
    },
    {
     "name": "stderr",
     "output_type": "stream",
     "text": [
      "Epoch 440: 100%|███████████████████████████████████████| 100/100 [00:02<00:00, 33.39batch/s, accuracy=97.1, loss=0.083]\n"
     ]
    },
    {
     "name": "stdout",
     "output_type": "stream",
     "text": [
      "Valid: Loss=0.0848, Accuracy=0.9743\n",
      "\n"
     ]
    },
    {
     "name": "stderr",
     "output_type": "stream",
     "text": [
      "Epoch 441: 100%|██████████████████████████████████████| 100/100 [00:03<00:00, 32.82batch/s, accuracy=97.2, loss=0.0841]\n"
     ]
    },
    {
     "name": "stdout",
     "output_type": "stream",
     "text": [
      "Valid: Loss=0.08458, Accuracy=0.9746\n",
      "\n"
     ]
    },
    {
     "name": "stderr",
     "output_type": "stream",
     "text": [
      "Epoch 442: 100%|██████████████████████████████████████| 100/100 [00:03<00:00, 33.22batch/s, accuracy=97.4, loss=0.0845]\n"
     ]
    },
    {
     "name": "stdout",
     "output_type": "stream",
     "text": [
      "Valid: Loss=0.08445, Accuracy=0.9737\n",
      "\n"
     ]
    },
    {
     "name": "stderr",
     "output_type": "stream",
     "text": [
      "Epoch 443: 100%|██████████████████████████████████████| 100/100 [00:03<00:00, 32.01batch/s, accuracy=97.3, loss=0.0864]\n"
     ]
    },
    {
     "name": "stdout",
     "output_type": "stream",
     "text": [
      "Valid: Loss=0.08415, Accuracy=0.9734\n",
      "\n"
     ]
    },
    {
     "name": "stderr",
     "output_type": "stream",
     "text": [
      "Epoch 444: 100%|██████████████████████████████████████| 100/100 [00:02<00:00, 33.90batch/s, accuracy=97.2, loss=0.0855]\n"
     ]
    },
    {
     "name": "stdout",
     "output_type": "stream",
     "text": [
      "Valid: Loss=0.08646, Accuracy=0.9723\n",
      "\n"
     ]
    },
    {
     "name": "stderr",
     "output_type": "stream",
     "text": [
      "Epoch 445: 100%|██████████████████████████████████████| 100/100 [00:02<00:00, 34.27batch/s, accuracy=97.2, loss=0.0855]\n"
     ]
    },
    {
     "name": "stdout",
     "output_type": "stream",
     "text": [
      "Valid: Loss=0.08526, Accuracy=0.9726\n",
      "\n"
     ]
    },
    {
     "name": "stderr",
     "output_type": "stream",
     "text": [
      "Epoch 446: 100%|██████████████████████████████████████| 100/100 [00:03<00:00, 32.66batch/s, accuracy=97.2, loss=0.0868]\n"
     ]
    },
    {
     "name": "stdout",
     "output_type": "stream",
     "text": [
      "Valid: Loss=0.08449, Accuracy=0.9743\n",
      "\n"
     ]
    },
    {
     "name": "stderr",
     "output_type": "stream",
     "text": [
      "Epoch 447: 100%|████████████████████████████████████████| 100/100 [00:03<00:00, 32.80batch/s, accuracy=97, loss=0.0856]\n"
     ]
    },
    {
     "name": "stdout",
     "output_type": "stream",
     "text": [
      "Valid: Loss=0.08457, Accuracy=0.9734\n",
      "\n"
     ]
    },
    {
     "name": "stderr",
     "output_type": "stream",
     "text": [
      "Epoch 448: 100%|██████████████████████████████████████| 100/100 [00:02<00:00, 33.56batch/s, accuracy=97.3, loss=0.0865]\n"
     ]
    },
    {
     "name": "stdout",
     "output_type": "stream",
     "text": [
      "Valid: Loss=0.08498, Accuracy=0.9734\n",
      "\n"
     ]
    },
    {
     "name": "stderr",
     "output_type": "stream",
     "text": [
      "Epoch 449: 100%|██████████████████████████████████████| 100/100 [00:02<00:00, 34.23batch/s, accuracy=97.2, loss=0.0846]\n"
     ]
    },
    {
     "name": "stdout",
     "output_type": "stream",
     "text": [
      "Valid: Loss=0.08448, Accuracy=0.9737\n",
      "\n"
     ]
    },
    {
     "name": "stderr",
     "output_type": "stream",
     "text": [
      "Epoch 450: 100%|██████████████████████████████████████| 100/100 [00:02<00:00, 36.60batch/s, accuracy=97.3, loss=0.0826]\n"
     ]
    },
    {
     "name": "stdout",
     "output_type": "stream",
     "text": [
      "Valid: Loss=0.08502, Accuracy=0.9737\n",
      "\n"
     ]
    },
    {
     "name": "stderr",
     "output_type": "stream",
     "text": [
      "Epoch 451: 100%|███████████████████████████████████████| 100/100 [00:02<00:00, 34.81batch/s, accuracy=97.3, loss=0.086]\n"
     ]
    },
    {
     "name": "stdout",
     "output_type": "stream",
     "text": [
      "Valid: Loss=0.08491, Accuracy=0.9737\n",
      "\n"
     ]
    },
    {
     "name": "stderr",
     "output_type": "stream",
     "text": [
      "Epoch 452: 100%|██████████████████████████████████████| 100/100 [00:02<00:00, 34.35batch/s, accuracy=97.1, loss=0.0839]\n"
     ]
    },
    {
     "name": "stdout",
     "output_type": "stream",
     "text": [
      "Valid: Loss=0.08443, Accuracy=0.9743\n",
      "\n"
     ]
    },
    {
     "name": "stderr",
     "output_type": "stream",
     "text": [
      "Epoch 453: 100%|██████████████████████████████████████| 100/100 [00:02<00:00, 35.85batch/s, accuracy=97.3, loss=0.0864]\n"
     ]
    },
    {
     "name": "stdout",
     "output_type": "stream",
     "text": [
      "Valid: Loss=0.08463, Accuracy=0.9734\n",
      "\n"
     ]
    },
    {
     "name": "stderr",
     "output_type": "stream",
     "text": [
      "Epoch 454: 100%|██████████████████████████████████████| 100/100 [00:02<00:00, 35.61batch/s, accuracy=97.3, loss=0.0836]\n"
     ]
    },
    {
     "name": "stdout",
     "output_type": "stream",
     "text": [
      "Valid: Loss=0.08461, Accuracy=0.9729\n",
      "\n"
     ]
    },
    {
     "name": "stderr",
     "output_type": "stream",
     "text": [
      "Epoch 455: 100%|██████████████████████████████████████| 100/100 [00:02<00:00, 37.43batch/s, accuracy=97.2, loss=0.0856]\n"
     ]
    },
    {
     "name": "stdout",
     "output_type": "stream",
     "text": [
      "Valid: Loss=0.085, Accuracy=0.9737\n",
      "\n"
     ]
    },
    {
     "name": "stderr",
     "output_type": "stream",
     "text": [
      "Epoch 456: 100%|██████████████████████████████████████| 100/100 [00:02<00:00, 35.84batch/s, accuracy=97.4, loss=0.0827]\n"
     ]
    },
    {
     "name": "stdout",
     "output_type": "stream",
     "text": [
      "Valid: Loss=0.08476, Accuracy=0.974\n",
      "\n"
     ]
    },
    {
     "name": "stderr",
     "output_type": "stream",
     "text": [
      "Epoch 457: 100%|██████████████████████████████████████| 100/100 [00:02<00:00, 35.77batch/s, accuracy=97.3, loss=0.0845]\n"
     ]
    },
    {
     "name": "stdout",
     "output_type": "stream",
     "text": [
      "Valid: Loss=0.08471, Accuracy=0.974\n",
      "\n"
     ]
    },
    {
     "name": "stderr",
     "output_type": "stream",
     "text": [
      "Epoch 458: 100%|██████████████████████████████████████| 100/100 [00:02<00:00, 37.05batch/s, accuracy=97.3, loss=0.0834]\n"
     ]
    },
    {
     "name": "stdout",
     "output_type": "stream",
     "text": [
      "Valid: Loss=0.08435, Accuracy=0.974\n",
      "\n"
     ]
    },
    {
     "name": "stderr",
     "output_type": "stream",
     "text": [
      "Epoch 459: 100%|██████████████████████████████████████| 100/100 [00:02<00:00, 35.82batch/s, accuracy=97.1, loss=0.0881]\n"
     ]
    },
    {
     "name": "stdout",
     "output_type": "stream",
     "text": [
      "Valid: Loss=0.08413, Accuracy=0.9743\n",
      "\n"
     ]
    },
    {
     "name": "stderr",
     "output_type": "stream",
     "text": [
      "Epoch 460: 100%|██████████████████████████████████████| 100/100 [00:02<00:00, 34.87batch/s, accuracy=97.2, loss=0.0858]\n"
     ]
    },
    {
     "name": "stdout",
     "output_type": "stream",
     "text": [
      "Valid: Loss=0.08481, Accuracy=0.9729\n",
      "\n"
     ]
    },
    {
     "name": "stderr",
     "output_type": "stream",
     "text": [
      "Epoch 461: 100%|██████████████████████████████████████| 100/100 [00:02<00:00, 35.99batch/s, accuracy=97.3, loss=0.0825]\n"
     ]
    },
    {
     "name": "stdout",
     "output_type": "stream",
     "text": [
      "Valid: Loss=0.08438, Accuracy=0.974\n",
      "\n"
     ]
    },
    {
     "name": "stderr",
     "output_type": "stream",
     "text": [
      "Epoch 462: 100%|██████████████████████████████████████| 100/100 [00:02<00:00, 35.23batch/s, accuracy=97.4, loss=0.0825]\n"
     ]
    },
    {
     "name": "stdout",
     "output_type": "stream",
     "text": [
      "Valid: Loss=0.08554, Accuracy=0.9734\n",
      "\n"
     ]
    },
    {
     "name": "stderr",
     "output_type": "stream",
     "text": [
      "Epoch 463: 100%|███████████████████████████████████████| 100/100 [00:02<00:00, 35.42batch/s, accuracy=97.2, loss=0.085]\n"
     ]
    },
    {
     "name": "stdout",
     "output_type": "stream",
     "text": [
      "Valid: Loss=0.08495, Accuracy=0.9734\n",
      "\n"
     ]
    },
    {
     "name": "stderr",
     "output_type": "stream",
     "text": [
      "Epoch 464: 100%|██████████████████████████████████████| 100/100 [00:02<00:00, 34.11batch/s, accuracy=97.3, loss=0.0853]\n"
     ]
    },
    {
     "name": "stdout",
     "output_type": "stream",
     "text": [
      "Valid: Loss=0.08462, Accuracy=0.9743\n",
      "\n"
     ]
    },
    {
     "name": "stderr",
     "output_type": "stream",
     "text": [
      "Epoch 465: 100%|██████████████████████████████████████| 100/100 [00:02<00:00, 35.09batch/s, accuracy=97.3, loss=0.0867]\n"
     ]
    },
    {
     "name": "stdout",
     "output_type": "stream",
     "text": [
      "Valid: Loss=0.08475, Accuracy=0.9737\n",
      "\n"
     ]
    },
    {
     "name": "stderr",
     "output_type": "stream",
     "text": [
      "Epoch 466: 100%|██████████████████████████████████████| 100/100 [00:02<00:00, 34.46batch/s, accuracy=97.5, loss=0.0806]\n"
     ]
    },
    {
     "name": "stdout",
     "output_type": "stream",
     "text": [
      "Valid: Loss=0.08486, Accuracy=0.9729\n",
      "\n"
     ]
    },
    {
     "name": "stderr",
     "output_type": "stream",
     "text": [
      "Epoch 467: 100%|██████████████████████████████████████| 100/100 [00:02<00:00, 34.57batch/s, accuracy=97.3, loss=0.0838]\n"
     ]
    },
    {
     "name": "stdout",
     "output_type": "stream",
     "text": [
      "Valid: Loss=0.08469, Accuracy=0.9734\n",
      "\n"
     ]
    },
    {
     "name": "stderr",
     "output_type": "stream",
     "text": [
      "Epoch 468: 100%|██████████████████████████████████████| 100/100 [00:03<00:00, 32.64batch/s, accuracy=97.3, loss=0.0843]\n"
     ]
    },
    {
     "name": "stdout",
     "output_type": "stream",
     "text": [
      "Valid: Loss=0.08494, Accuracy=0.9737\n",
      "\n"
     ]
    },
    {
     "name": "stderr",
     "output_type": "stream",
     "text": [
      "Epoch 469: 100%|██████████████████████████████████████| 100/100 [00:03<00:00, 33.19batch/s, accuracy=97.3, loss=0.0846]\n"
     ]
    },
    {
     "name": "stdout",
     "output_type": "stream",
     "text": [
      "Valid: Loss=0.08502, Accuracy=0.9732\n",
      "\n"
     ]
    },
    {
     "name": "stderr",
     "output_type": "stream",
     "text": [
      "Epoch 470: 100%|██████████████████████████████████████| 100/100 [00:02<00:00, 34.27batch/s, accuracy=97.2, loss=0.0874]\n"
     ]
    },
    {
     "name": "stdout",
     "output_type": "stream",
     "text": [
      "Valid: Loss=0.08421, Accuracy=0.9743\n",
      "\n"
     ]
    },
    {
     "name": "stderr",
     "output_type": "stream",
     "text": [
      "Epoch 471: 100%|██████████████████████████████████████| 100/100 [00:03<00:00, 31.96batch/s, accuracy=97.1, loss=0.0882]\n"
     ]
    },
    {
     "name": "stdout",
     "output_type": "stream",
     "text": [
      "Valid: Loss=0.08517, Accuracy=0.9732\n",
      "\n"
     ]
    },
    {
     "name": "stderr",
     "output_type": "stream",
     "text": [
      "Epoch 472: 100%|██████████████████████████████████████| 100/100 [00:02<00:00, 35.81batch/s, accuracy=97.2, loss=0.0834]\n"
     ]
    },
    {
     "name": "stdout",
     "output_type": "stream",
     "text": [
      "Valid: Loss=0.0846, Accuracy=0.9737\n",
      "\n"
     ]
    },
    {
     "name": "stderr",
     "output_type": "stream",
     "text": [
      "Epoch 473: 100%|██████████████████████████████████████| 100/100 [00:03<00:00, 32.70batch/s, accuracy=97.2, loss=0.0822]\n"
     ]
    },
    {
     "name": "stdout",
     "output_type": "stream",
     "text": [
      "Valid: Loss=0.0845, Accuracy=0.9732\n",
      "\n"
     ]
    },
    {
     "name": "stderr",
     "output_type": "stream",
     "text": [
      "Epoch 474: 100%|██████████████████████████████████████| 100/100 [00:02<00:00, 33.94batch/s, accuracy=97.4, loss=0.0836]\n"
     ]
    },
    {
     "name": "stdout",
     "output_type": "stream",
     "text": [
      "Valid: Loss=0.08526, Accuracy=0.974\n",
      "\n"
     ]
    },
    {
     "name": "stderr",
     "output_type": "stream",
     "text": [
      "Epoch 475: 100%|███████████████████████████████████████| 100/100 [00:02<00:00, 33.55batch/s, accuracy=97.3, loss=0.085]\n"
     ]
    },
    {
     "name": "stdout",
     "output_type": "stream",
     "text": [
      "Valid: Loss=0.0848, Accuracy=0.9729\n",
      "\n"
     ]
    },
    {
     "name": "stderr",
     "output_type": "stream",
     "text": [
      "Epoch 476: 100%|██████████████████████████████████████| 100/100 [00:02<00:00, 37.32batch/s, accuracy=97.2, loss=0.0866]\n"
     ]
    },
    {
     "name": "stdout",
     "output_type": "stream",
     "text": [
      "Valid: Loss=0.08435, Accuracy=0.9746\n",
      "\n"
     ]
    },
    {
     "name": "stderr",
     "output_type": "stream",
     "text": [
      "Epoch 477: 100%|██████████████████████████████████████| 100/100 [00:02<00:00, 33.98batch/s, accuracy=97.2, loss=0.0859]\n"
     ]
    },
    {
     "name": "stdout",
     "output_type": "stream",
     "text": [
      "Valid: Loss=0.08427, Accuracy=0.974\n",
      "\n"
     ]
    },
    {
     "name": "stderr",
     "output_type": "stream",
     "text": [
      "Epoch 478: 100%|██████████████████████████████████████| 100/100 [00:02<00:00, 36.11batch/s, accuracy=97.3, loss=0.0842]\n"
     ]
    },
    {
     "name": "stdout",
     "output_type": "stream",
     "text": [
      "Valid: Loss=0.08453, Accuracy=0.9734\n",
      "\n"
     ]
    },
    {
     "name": "stderr",
     "output_type": "stream",
     "text": [
      "Epoch 479: 100%|██████████████████████████████████████| 100/100 [00:02<00:00, 35.91batch/s, accuracy=97.3, loss=0.0849]\n"
     ]
    },
    {
     "name": "stdout",
     "output_type": "stream",
     "text": [
      "Valid: Loss=0.08416, Accuracy=0.9743\n",
      "\n"
     ]
    },
    {
     "name": "stderr",
     "output_type": "stream",
     "text": [
      "Epoch 480: 100%|██████████████████████████████████████| 100/100 [00:02<00:00, 36.82batch/s, accuracy=97.3, loss=0.0836]\n"
     ]
    },
    {
     "name": "stdout",
     "output_type": "stream",
     "text": [
      "Valid: Loss=0.08499, Accuracy=0.9734\n",
      "\n"
     ]
    },
    {
     "name": "stderr",
     "output_type": "stream",
     "text": [
      "Epoch 481: 100%|██████████████████████████████████████| 100/100 [00:02<00:00, 35.90batch/s, accuracy=97.3, loss=0.0837]\n"
     ]
    },
    {
     "name": "stdout",
     "output_type": "stream",
     "text": [
      "Valid: Loss=0.08417, Accuracy=0.974\n",
      "\n"
     ]
    },
    {
     "name": "stderr",
     "output_type": "stream",
     "text": [
      "Epoch 482: 100%|██████████████████████████████████████| 100/100 [00:02<00:00, 36.55batch/s, accuracy=97.2, loss=0.0864]\n"
     ]
    },
    {
     "name": "stdout",
     "output_type": "stream",
     "text": [
      "Valid: Loss=0.08436, Accuracy=0.9743\n",
      "\n"
     ]
    },
    {
     "name": "stderr",
     "output_type": "stream",
     "text": [
      "Epoch 483: 100%|█████████████████████████████████████| 100/100 [00:00<00:00, 117.56batch/s, accuracy=97.1, loss=0.0861]\n"
     ]
    },
    {
     "name": "stdout",
     "output_type": "stream",
     "text": [
      "Valid: Loss=0.08431, Accuracy=0.9732\n",
      "\n"
     ]
    },
    {
     "name": "stderr",
     "output_type": "stream",
     "text": [
      "Epoch 484: 100%|█████████████████████████████████████| 100/100 [00:00<00:00, 115.88batch/s, accuracy=97.1, loss=0.0867]\n"
     ]
    },
    {
     "name": "stdout",
     "output_type": "stream",
     "text": [
      "Valid: Loss=0.08649, Accuracy=0.9717\n",
      "\n"
     ]
    },
    {
     "name": "stderr",
     "output_type": "stream",
     "text": [
      "Epoch 485: 100%|██████████████████████████████████████| 100/100 [00:02<00:00, 36.37batch/s, accuracy=97.2, loss=0.0845]\n"
     ]
    },
    {
     "name": "stdout",
     "output_type": "stream",
     "text": [
      "Valid: Loss=0.08488, Accuracy=0.9746\n",
      "\n"
     ]
    },
    {
     "name": "stderr",
     "output_type": "stream",
     "text": [
      "Epoch 486: 100%|██████████████████████████████████████| 100/100 [00:02<00:00, 45.44batch/s, accuracy=97.2, loss=0.0864]\n"
     ]
    },
    {
     "name": "stdout",
     "output_type": "stream",
     "text": [
      "Valid: Loss=0.08537, Accuracy=0.9726\n",
      "\n"
     ]
    },
    {
     "name": "stderr",
     "output_type": "stream",
     "text": [
      "Epoch 487: 100%|██████████████████████████████████████| 100/100 [00:01<00:00, 65.31batch/s, accuracy=97.2, loss=0.0863]\n"
     ]
    },
    {
     "name": "stdout",
     "output_type": "stream",
     "text": [
      "Valid: Loss=0.08397, Accuracy=0.9737\n",
      "\n"
     ]
    },
    {
     "name": "stderr",
     "output_type": "stream",
     "text": [
      "Epoch 488: 100%|██████████████████████████████████████| 100/100 [00:01<00:00, 66.66batch/s, accuracy=97.3, loss=0.0821]\n"
     ]
    },
    {
     "name": "stdout",
     "output_type": "stream",
     "text": [
      "Valid: Loss=0.08461, Accuracy=0.974\n",
      "\n"
     ]
    },
    {
     "name": "stderr",
     "output_type": "stream",
     "text": [
      "Epoch 489: 100%|██████████████████████████████████████| 100/100 [00:01<00:00, 63.38batch/s, accuracy=97.3, loss=0.0832]\n"
     ]
    },
    {
     "name": "stdout",
     "output_type": "stream",
     "text": [
      "Valid: Loss=0.08422, Accuracy=0.9737\n",
      "\n"
     ]
    },
    {
     "name": "stderr",
     "output_type": "stream",
     "text": [
      "Epoch 490: 100%|███████████████████████████████████████| 100/100 [00:01<00:00, 62.75batch/s, accuracy=97.4, loss=0.081]\n"
     ]
    },
    {
     "name": "stdout",
     "output_type": "stream",
     "text": [
      "Valid: Loss=0.0845, Accuracy=0.974\n",
      "\n"
     ]
    },
    {
     "name": "stderr",
     "output_type": "stream",
     "text": [
      "Epoch 491: 100%|██████████████████████████████████████| 100/100 [00:01<00:00, 67.31batch/s, accuracy=97.2, loss=0.0846]\n"
     ]
    },
    {
     "name": "stdout",
     "output_type": "stream",
     "text": [
      "Valid: Loss=0.0847, Accuracy=0.9737\n",
      "\n"
     ]
    },
    {
     "name": "stderr",
     "output_type": "stream",
     "text": [
      "Epoch 492: 100%|██████████████████████████████████████| 100/100 [00:01<00:00, 65.08batch/s, accuracy=97.2, loss=0.0879]\n"
     ]
    },
    {
     "name": "stdout",
     "output_type": "stream",
     "text": [
      "Valid: Loss=0.08452, Accuracy=0.9734\n",
      "\n"
     ]
    },
    {
     "name": "stderr",
     "output_type": "stream",
     "text": [
      "Epoch 493: 100%|██████████████████████████████████████| 100/100 [00:01<00:00, 62.63batch/s, accuracy=97.3, loss=0.0852]\n"
     ]
    },
    {
     "name": "stdout",
     "output_type": "stream",
     "text": [
      "Valid: Loss=0.0843, Accuracy=0.9746\n",
      "\n"
     ]
    },
    {
     "name": "stderr",
     "output_type": "stream",
     "text": [
      "Epoch 494: 100%|██████████████████████████████████████| 100/100 [00:01<00:00, 62.82batch/s, accuracy=97.2, loss=0.0879]\n"
     ]
    },
    {
     "name": "stdout",
     "output_type": "stream",
     "text": [
      "Valid: Loss=0.08664, Accuracy=0.9726\n",
      "\n"
     ]
    },
    {
     "name": "stderr",
     "output_type": "stream",
     "text": [
      "Epoch 495: 100%|██████████████████████████████████████| 100/100 [00:01<00:00, 59.09batch/s, accuracy=97.1, loss=0.0858]\n"
     ]
    },
    {
     "name": "stdout",
     "output_type": "stream",
     "text": [
      "Valid: Loss=0.08474, Accuracy=0.9734\n",
      "\n"
     ]
    },
    {
     "name": "stderr",
     "output_type": "stream",
     "text": [
      "Epoch 496: 100%|██████████████████████████████████████| 100/100 [00:01<00:00, 59.12batch/s, accuracy=97.3, loss=0.0834]\n"
     ]
    },
    {
     "name": "stdout",
     "output_type": "stream",
     "text": [
      "Valid: Loss=0.08478, Accuracy=0.9737\n",
      "\n"
     ]
    },
    {
     "name": "stderr",
     "output_type": "stream",
     "text": [
      "Epoch 497: 100%|████████████████████████████████████████| 100/100 [00:01<00:00, 56.43batch/s, accuracy=97, loss=0.0863]\n"
     ]
    },
    {
     "name": "stdout",
     "output_type": "stream",
     "text": [
      "Valid: Loss=0.08437, Accuracy=0.9743\n",
      "\n"
     ]
    },
    {
     "name": "stderr",
     "output_type": "stream",
     "text": [
      "Epoch 498: 100%|██████████████████████████████████████| 100/100 [00:01<00:00, 58.36batch/s, accuracy=97.2, loss=0.0864]\n"
     ]
    },
    {
     "name": "stdout",
     "output_type": "stream",
     "text": [
      "Valid: Loss=0.08537, Accuracy=0.9737\n",
      "\n"
     ]
    },
    {
     "name": "stderr",
     "output_type": "stream",
     "text": [
      "Epoch 499: 100%|██████████████████████████████████████| 100/100 [00:01<00:00, 56.91batch/s, accuracy=97.4, loss=0.0838]\n"
     ]
    },
    {
     "name": "stdout",
     "output_type": "stream",
     "text": [
      "Valid: Loss=0.08473, Accuracy=0.9732\n",
      "\n",
      "Execution Time: 64.19379255771636\n"
     ]
    }
   ],
   "source": [
    "begin = time.time()\n",
    "for epoch in range(num_epochs):\n",
    "\n",
    "    model, loss_train, acc_train = train_one_epoch(model, train_loader, loss_fn, optimizer, device, epoch)\n",
    "    loss_valid, acc_valid = evaluate(model, valid_loader, loss_fn)\n",
    "    \n",
    "    lr = optimizer.param_groups[0]['lr']\n",
    "    scheduler.step(loss_valid)\n",
    "      \n",
    "    \n",
    "    loss_train_hist.append(loss_train)\n",
    "    loss_valid_hist.append(loss_valid)\n",
    "\n",
    "    acc_train_hist.append(acc_train)\n",
    "    acc_valid_hist.append(acc_valid)\n",
    "    \n",
    "    lr_hist.append(lr)\n",
    "    print(f'Valid: Loss={loss_valid:.4}, Accuracy={acc_valid:.4}\\n')\n",
    "\n",
    "    if loss_valid < best_loss_valid:\n",
    "        torch.save(model, f'IOLAB19_DNN_Model.pt')\n",
    "        best_loss_valid = loss_valid\n",
    "        \n",
    "end = time.time() \n",
    "elapsed_time = end - begin  \n",
    "print(f\"Execution Time: {elapsed_time/60}\")"
   ]
  },
  {
   "cell_type": "code",
   "execution_count": 19,
   "id": "288c6cb9-8401-465b-a3b4-83d3deaeace6",
   "metadata": {
    "scrolled": true
   },
   "outputs": [
    {
     "data": {
      "text/plain": [
       "<matplotlib.legend.Legend at 0x2586fec9250>"
      ]
     },
     "execution_count": 19,
     "metadata": {},
     "output_type": "execute_result"
    },
    {
     "data": {
      "image/png": "[encoded data removed]",
      "text/plain": [
       "<Figure size 1000x800 with 3 Axes>"
      ]
     },
     "metadata": {},
     "output_type": "display_data"
    }
   ],
   "source": [
    "# Plot loss:\n",
    "fig,ax = plt.subplots(1,3,figsize=(10,8))\n",
    "ax[0].plot(range(num_epochs), loss_train_hist, color='red', label='train Loss')\n",
    "ax[0].plot(range(num_epochs), loss_valid_hist, color='blue', label='validation Loss')\n",
    "ax[0].set_xlabel('Num of Epochs')\n",
    "ax[0].set_ylabel('Loss')\n",
    "\n",
    "ax[1].plot(range(num_epochs), acc_train_hist, color='red', label='Train Acc')\n",
    "ax[1].plot(range(num_epochs), acc_valid_hist, color='blue', label='Validation Acc')\n",
    "ax[1].set_xlabel('Epoch')\n",
    "ax[1].set_ylabel('Acc')\n",
    "ax[1].grid(True)\n",
    "ax[1].legend()\n",
    "\n",
    "ax[2].plot(range(num_epochs), lr_hist, color='black', label='learning rate scheduler')\n",
    "\n",
    "ax[0].grid(True)\n",
    "ax[0].legend()\n",
    "ax[1].grid(True)\n",
    "ax[1].legend()\n",
    "ax[2].grid(True)\n",
    "ax[2].legend()"
   ]
  },
  {
   "cell_type": "markdown",
   "id": "ed93b883-f701-4cf6-b1b4-6e6f9696685c",
   "metadata": {},
   "source": [
    "# Analyze Final Accuracy on Test data:"
   ]
  },
  {
   "cell_type": "code",
   "execution_count": 22,
   "id": "b79263db-60b5-45da-a5dd-fa9c86fdda18",
   "metadata": {},
   "outputs": [
    {
     "data": {
      "text/plain": [
       "(torch.Size([32, 12]), torch.Size([32]))"
      ]
     },
     "execution_count": 22,
     "metadata": {},
     "output_type": "execute_result"
    }
   ],
   "source": [
    "test_loader = DataLoader(test_dataset, batch_size = 32, shuffle=False)\n",
    "x,y = next(iter(test_loader))\n",
    "x.shape,y.shape"
   ]
  },
  {
   "cell_type": "code",
   "execution_count": 23,
   "id": "4cb11d86-d75e-4153-ba6d-16fe560b7e01",
   "metadata": {},
   "outputs": [
    {
     "data": {
      "text/plain": [
       "Sequential(\n",
       "  (0): Linear(in_features=12, out_features=150, bias=True)\n",
       "  (1): ReLU()\n",
       "  (2): Dropout(p=0.25, inplace=False)\n",
       "  (3): BatchNorm1d(150, eps=1e-05, momentum=0.1, affine=True, track_running_stats=True)\n",
       "  (4): Linear(in_features=150, out_features=100, bias=True)\n",
       "  (5): ReLU()\n",
       "  (6): Dropout(p=0.25, inplace=False)\n",
       "  (7): Linear(in_features=100, out_features=50, bias=True)\n",
       "  (8): ReLU()\n",
       "  (9): Dropout(p=0.1, inplace=False)\n",
       "  (10): Linear(in_features=50, out_features=25, bias=True)\n",
       "  (11): ReLU()\n",
       "  (12): Linear(in_features=25, out_features=1, bias=True)\n",
       ")"
      ]
     },
     "execution_count": 23,
     "metadata": {},
     "output_type": "execute_result"
    }
   ],
   "source": [
    "trained_model = torch.load(r'C:\\Users\\Asus\\Desktop\\Project\\IOLAB19_DNN_Model.pt',weights_only=False)\n",
    "model.to(device)\n",
    "model.eval() "
   ]
  },
  {
   "cell_type": "code",
   "execution_count": 24,
   "id": "d1f5aac8-3976-4180-9f89-88d1281e26f2",
   "metadata": {},
   "outputs": [
    {
     "name": "stdout",
     "output_type": "stream",
     "text": [
      "tensor(0.9833, device='cuda:0')\n"
     ]
    }
   ],
   "source": [
    "acc_test = Accuracy(task='binary').to(device)\n",
    "for x,y in test_loader:\n",
    "    x = x.to(device)\n",
    "    y = y.to(device)\n",
    "    yp = trained_model(x)\n",
    "    acc_test(yp.squeeze(),y)\n",
    "print(acc_test.compute())"
   ]
  }
 ],
 "metadata": {
  "kernelspec": {
   "display_name": "Python 3 (ipykernel)",
   "language": "python",
   "name": "python3"
  },
  "language_info": {
   "codemirror_mode": {
    "name": "ipython",
    "version": 3
   },
   "file_extension": ".py",
   "mimetype": "text/x-python",
   "name": "python",
   "nbconvert_exporter": "python",
   "pygments_lexer": "ipython3",
   "version": "3.12.6"
  }
 },
 "nbformat": 4,
 "nbformat_minor": 5
}
